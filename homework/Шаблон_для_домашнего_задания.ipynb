{
  "nbformat": 4,
  "nbformat_minor": 0,
  "metadata": {
    "colab": {
      "provenance": [],
      "authorship_tag": "ABX9TyNyBxY2mEq86hYH/9laDW4q",
      "include_colab_link": true
    },
    "kernelspec": {
      "name": "python3",
      "display_name": "Python 3"
    },
    "language_info": {
      "name": "python"
    }
  },
  "cells": [
    {
      "cell_type": "markdown",
      "metadata": {
        "id": "view-in-github",
        "colab_type": "text"
      },
      "source": [
        "<a href=\"https://colab.research.google.com/github/AnnSenina/Python_for_DH_2023/blob/main/homework/%D0%A8%D0%B0%D0%B1%D0%BB%D0%BE%D0%BD_%D0%B4%D0%BB%D1%8F_%D0%B4%D0%BE%D0%BC%D0%B0%D1%88%D0%BD%D0%B5%D0%B3%D0%BE_%D0%B7%D0%B0%D0%B4%D0%B0%D0%BD%D0%B8%D1%8F.ipynb\" target=\"_parent\"><img src=\"https://colab.research.google.com/assets/colab-badge.svg\" alt=\"Open In Colab\"/></a>"
      ]
    },
    {
      "cell_type": "code",
      "source": [
        "# Задание на 8 баллов\n",
        "\n",
        "print('Приветствие')\n",
        "print('Пусть программа объяснит, чего ожидает от пользователя')\n",
        "\n",
        "answer = input() # сюда сохраняем ответ пользователя\n",
        "\n",
        "if anwser == 'Сообщение пользователя':\n",
        "  print('Ответ бота')\n",
        "elif anwser == 'Сообщение пользователя2':\n",
        "  print('Ответ бота')\n",
        "elif anwser == 'Сообщение пользователя3':\n",
        "  print('Ответ бота')\n",
        "else:\n",
        "  print('Ответ бота, если ничего из if - elif не подошло')"
      ],
      "metadata": {
        "id": "XHezysDcR_A7"
      },
      "execution_count": null,
      "outputs": []
    },
    {
      "cell_type": "code",
      "source": [
        "# Задание на 10 баллов\n",
        "\n",
        "!pip install pytelegrambotapi\n",
        "\n",
        "import telebot\n",
        "from telebot import types"
      ],
      "metadata": {
        "id": "iuR21biaS57C"
      },
      "execution_count": null,
      "outputs": []
    },
    {
      "cell_type": "code",
      "execution_count": null,
      "metadata": {
        "id": "oMrgrt0fRxnk"
      },
      "outputs": [],
      "source": [
        "your_bot = \"ВАШ_ТОКЕН\"\n",
        "\n",
        "bot = telebot.TeleBot(your_bot) # обновим токен\n",
        "\n",
        "@bot.message_handler(commands=[\"start\"])\n",
        "def start(message):\n",
        "  bot.send_message(message.chat.id, \"Приветствие\") # можно поменять текст\n",
        "\n",
        "@bot.message_handler(content_types=[\"text\"])\n",
        "def handle_text(message):\n",
        "  # bot.send_message(message.chat.id, \"Сообщение, которое бот присылает всегда, вне зависимости от ответа пользователя\")\n",
        "  # если не нужно, поставьте перед ним #, и питон будет его пропускать\n",
        "\n",
        "  if message.text.strip() == 'Сообщение пользователя':\n",
        "    bot.send_message(message.chat.id, 'Ответ бота')\n",
        "\n",
        "  elif message.text.strip() == 'Другое сообщение пользователя':\n",
        "    bot.send_message(message.chat.id, 'Ответ бота')\n",
        "\n",
        "  else:\n",
        "    bot.send_message(message.chat.id, 'Ответ бота, если ничего из if - elif не подошло')\n",
        "\n",
        "bot.polling(none_stop=True, interval=0) # запускаем бота"
      ]
    }
  ]
}