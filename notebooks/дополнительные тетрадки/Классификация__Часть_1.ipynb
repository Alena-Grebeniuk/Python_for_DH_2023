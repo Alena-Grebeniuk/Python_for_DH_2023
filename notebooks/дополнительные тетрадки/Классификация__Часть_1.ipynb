{
  "nbformat": 4,
  "nbformat_minor": 0,
  "metadata": {
    "colab": {
      "provenance": [],
      "authorship_tag": "ABX9TyN+WKlxfnGZgyznjbJy2WZE",
      "include_colab_link": true
    },
    "kernelspec": {
      "name": "python3",
      "display_name": "Python 3"
    },
    "language_info": {
      "name": "python"
    }
  },
  "cells": [
    {
      "cell_type": "markdown",
      "metadata": {
        "id": "view-in-github",
        "colab_type": "text"
      },
      "source": [
        "<a href=\"https://colab.research.google.com/github/AnnSenina/Python_for_DH_2023/blob/main/notebooks/%D0%B4%D0%BE%D0%BF%D0%BE%D0%BB%D0%BD%D0%B8%D1%82%D0%B5%D0%BB%D1%8C%D0%BD%D1%8B%D0%B5%20%D1%82%D0%B5%D1%82%D1%80%D0%B0%D0%B4%D0%BA%D0%B8/%D0%9A%D0%BB%D0%B0%D1%81%D1%81%D0%B8%D1%84%D0%B8%D0%BA%D0%B0%D1%86%D0%B8%D1%8F__%D0%A7%D0%B0%D1%81%D1%82%D1%8C_1.ipynb\" target=\"_parent\"><img src=\"https://colab.research.google.com/assets/colab-badge.svg\" alt=\"Open In Colab\"/></a>"
      ]
    },
    {
      "cell_type": "markdown",
      "source": [
        "# План:\n",
        "\n",
        "1. Логистическая регрессия для бинарной классификации\n",
        "2. Деревья решений (классификация)\n",
        "3. Иерархический кластерный анализ\n",
        "4. Метод k-means"
      ],
      "metadata": {
        "id": "ymAk3y4yjlMo"
      }
    },
    {
      "cell_type": "markdown",
      "source": [
        "# Важно!\n",
        "Классификация и кластеризация не тождественны:\n",
        "\n",
        "* классификация - мы заранее знаем, какие классы в наших данных есть, и пытаемся новые объекты рассортировать по этим классам\n",
        "\n",
        "* кластеризация - мы пытаемся найти новые классы объектов, заранее не знаем, какие и сколько их"
      ],
      "metadata": {
        "id": "sYnLc9YrXXKN"
      }
    },
    {
      "cell_type": "markdown",
      "source": [
        "## Логистическая регрессия\n",
        "\n",
        "В отличие от линейной, помогает нам предсказать категориальную переменную (как правило, бинарную)\n",
        "\n",
        "Считается простым алгоритмом, но точность относительно невысокая"
      ],
      "metadata": {
        "id": "ZIOgZBP_lXgB"
      }
    },
    {
      "cell_type": "markdown",
      "source": [
        "![Regression_charts_b9de7355cf.png](data:image/png;base64,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)"
      ],
      "metadata": {
        "id": "RHhCz9xUlmdn"
      }
    },
    {
      "cell_type": "code",
      "source": [
        "# все импорты\n",
        "import pandas as pd\n",
        "import matplotlib.pyplot as plt\n",
        "import seaborn as sns\n",
        "from seaborn import load_dataset\n",
        "from sklearn.model_selection import train_test_split\n",
        "from sklearn.linear_model import LogisticRegression\n",
        "from sklearn import metrics\n",
        "from sklearn.metrics import accuracy_score, confusion_matrix\n",
        "\n",
        "# деревья решений\n",
        "from sklearn.datasets import load_iris # датасет от sklearn\n",
        "from sklearn import tree\n",
        "import graphviz\n"
      ],
      "metadata": {
        "id": "OBshgrxQPnaZ"
      },
      "execution_count": null,
      "outputs": []
    },
    {
      "cell_type": "code",
      "execution_count": null,
      "metadata": {
        "id": "FyvN8zQIfZuG",
        "colab": {
          "base_uri": "https://localhost:8080/",
          "height": 423
        },
        "outputId": "bcba3901-6d43-4c42-99e5-1005ec9a5981"
      },
      "outputs": [
        {
          "output_type": "execute_result",
          "data": {
            "text/plain": [
              "     survived  pclass     sex   age  sibsp  parch     fare embarked   class  \\\n",
              "0           0       3    male  22.0      1      0   7.2500        S   Third   \n",
              "1           1       1  female  38.0      1      0  71.2833        C   First   \n",
              "2           1       3  female  26.0      0      0   7.9250        S   Third   \n",
              "3           1       1  female  35.0      1      0  53.1000        S   First   \n",
              "4           0       3    male  35.0      0      0   8.0500        S   Third   \n",
              "..        ...     ...     ...   ...    ...    ...      ...      ...     ...   \n",
              "886         0       2    male  27.0      0      0  13.0000        S  Second   \n",
              "887         1       1  female  19.0      0      0  30.0000        S   First   \n",
              "888         0       3  female   NaN      1      2  23.4500        S   Third   \n",
              "889         1       1    male  26.0      0      0  30.0000        C   First   \n",
              "890         0       3    male  32.0      0      0   7.7500        Q   Third   \n",
              "\n",
              "       who  adult_male deck  embark_town alive  alone  \n",
              "0      man        True  NaN  Southampton    no  False  \n",
              "1    woman       False    C    Cherbourg   yes  False  \n",
              "2    woman       False  NaN  Southampton   yes   True  \n",
              "3    woman       False    C  Southampton   yes  False  \n",
              "4      man        True  NaN  Southampton    no   True  \n",
              "..     ...         ...  ...          ...   ...    ...  \n",
              "886    man        True  NaN  Southampton    no   True  \n",
              "887  woman       False    B  Southampton   yes   True  \n",
              "888  woman       False  NaN  Southampton    no  False  \n",
              "889    man        True    C    Cherbourg   yes   True  \n",
              "890    man        True  NaN   Queenstown    no   True  \n",
              "\n",
              "[891 rows x 15 columns]"
            ],
            "text/html": [
              "\n",
              "  <div id=\"df-d4bd88a2-b8a8-4f41-8172-29fc124aada7\">\n",
              "    <div class=\"colab-df-container\">\n",
              "      <div>\n",
              "<style scoped>\n",
              "    .dataframe tbody tr th:only-of-type {\n",
              "        vertical-align: middle;\n",
              "    }\n",
              "\n",
              "    .dataframe tbody tr th {\n",
              "        vertical-align: top;\n",
              "    }\n",
              "\n",
              "    .dataframe thead th {\n",
              "        text-align: right;\n",
              "    }\n",
              "</style>\n",
              "<table border=\"1\" class=\"dataframe\">\n",
              "  <thead>\n",
              "    <tr style=\"text-align: right;\">\n",
              "      <th></th>\n",
              "      <th>survived</th>\n",
              "      <th>pclass</th>\n",
              "      <th>sex</th>\n",
              "      <th>age</th>\n",
              "      <th>sibsp</th>\n",
              "      <th>parch</th>\n",
              "      <th>fare</th>\n",
              "      <th>embarked</th>\n",
              "      <th>class</th>\n",
              "      <th>who</th>\n",
              "      <th>adult_male</th>\n",
              "      <th>deck</th>\n",
              "      <th>embark_town</th>\n",
              "      <th>alive</th>\n",
              "      <th>alone</th>\n",
              "    </tr>\n",
              "  </thead>\n",
              "  <tbody>\n",
              "    <tr>\n",
              "      <th>0</th>\n",
              "      <td>0</td>\n",
              "      <td>3</td>\n",
              "      <td>male</td>\n",
              "      <td>22.0</td>\n",
              "      <td>1</td>\n",
              "      <td>0</td>\n",
              "      <td>7.2500</td>\n",
              "      <td>S</td>\n",
              "      <td>Third</td>\n",
              "      <td>man</td>\n",
              "      <td>True</td>\n",
              "      <td>NaN</td>\n",
              "      <td>Southampton</td>\n",
              "      <td>no</td>\n",
              "      <td>False</td>\n",
              "    </tr>\n",
              "    <tr>\n",
              "      <th>1</th>\n",
              "      <td>1</td>\n",
              "      <td>1</td>\n",
              "      <td>female</td>\n",
              "      <td>38.0</td>\n",
              "      <td>1</td>\n",
              "      <td>0</td>\n",
              "      <td>71.2833</td>\n",
              "      <td>C</td>\n",
              "      <td>First</td>\n",
              "      <td>woman</td>\n",
              "      <td>False</td>\n",
              "      <td>C</td>\n",
              "      <td>Cherbourg</td>\n",
              "      <td>yes</td>\n",
              "      <td>False</td>\n",
              "    </tr>\n",
              "    <tr>\n",
              "      <th>2</th>\n",
              "      <td>1</td>\n",
              "      <td>3</td>\n",
              "      <td>female</td>\n",
              "      <td>26.0</td>\n",
              "      <td>0</td>\n",
              "      <td>0</td>\n",
              "      <td>7.9250</td>\n",
              "      <td>S</td>\n",
              "      <td>Third</td>\n",
              "      <td>woman</td>\n",
              "      <td>False</td>\n",
              "      <td>NaN</td>\n",
              "      <td>Southampton</td>\n",
              "      <td>yes</td>\n",
              "      <td>True</td>\n",
              "    </tr>\n",
              "    <tr>\n",
              "      <th>3</th>\n",
              "      <td>1</td>\n",
              "      <td>1</td>\n",
              "      <td>female</td>\n",
              "      <td>35.0</td>\n",
              "      <td>1</td>\n",
              "      <td>0</td>\n",
              "      <td>53.1000</td>\n",
              "      <td>S</td>\n",
              "      <td>First</td>\n",
              "      <td>woman</td>\n",
              "      <td>False</td>\n",
              "      <td>C</td>\n",
              "      <td>Southampton</td>\n",
              "      <td>yes</td>\n",
              "      <td>False</td>\n",
              "    </tr>\n",
              "    <tr>\n",
              "      <th>4</th>\n",
              "      <td>0</td>\n",
              "      <td>3</td>\n",
              "      <td>male</td>\n",
              "      <td>35.0</td>\n",
              "      <td>0</td>\n",
              "      <td>0</td>\n",
              "      <td>8.0500</td>\n",
              "      <td>S</td>\n",
              "      <td>Third</td>\n",
              "      <td>man</td>\n",
              "      <td>True</td>\n",
              "      <td>NaN</td>\n",
              "      <td>Southampton</td>\n",
              "      <td>no</td>\n",
              "      <td>True</td>\n",
              "    </tr>\n",
              "    <tr>\n",
              "      <th>...</th>\n",
              "      <td>...</td>\n",
              "      <td>...</td>\n",
              "      <td>...</td>\n",
              "      <td>...</td>\n",
              "      <td>...</td>\n",
              "      <td>...</td>\n",
              "      <td>...</td>\n",
              "      <td>...</td>\n",
              "      <td>...</td>\n",
              "      <td>...</td>\n",
              "      <td>...</td>\n",
              "      <td>...</td>\n",
              "      <td>...</td>\n",
              "      <td>...</td>\n",
              "      <td>...</td>\n",
              "    </tr>\n",
              "    <tr>\n",
              "      <th>886</th>\n",
              "      <td>0</td>\n",
              "      <td>2</td>\n",
              "      <td>male</td>\n",
              "      <td>27.0</td>\n",
              "      <td>0</td>\n",
              "      <td>0</td>\n",
              "      <td>13.0000</td>\n",
              "      <td>S</td>\n",
              "      <td>Second</td>\n",
              "      <td>man</td>\n",
              "      <td>True</td>\n",
              "      <td>NaN</td>\n",
              "      <td>Southampton</td>\n",
              "      <td>no</td>\n",
              "      <td>True</td>\n",
              "    </tr>\n",
              "    <tr>\n",
              "      <th>887</th>\n",
              "      <td>1</td>\n",
              "      <td>1</td>\n",
              "      <td>female</td>\n",
              "      <td>19.0</td>\n",
              "      <td>0</td>\n",
              "      <td>0</td>\n",
              "      <td>30.0000</td>\n",
              "      <td>S</td>\n",
              "      <td>First</td>\n",
              "      <td>woman</td>\n",
              "      <td>False</td>\n",
              "      <td>B</td>\n",
              "      <td>Southampton</td>\n",
              "      <td>yes</td>\n",
              "      <td>True</td>\n",
              "    </tr>\n",
              "    <tr>\n",
              "      <th>888</th>\n",
              "      <td>0</td>\n",
              "      <td>3</td>\n",
              "      <td>female</td>\n",
              "      <td>NaN</td>\n",
              "      <td>1</td>\n",
              "      <td>2</td>\n",
              "      <td>23.4500</td>\n",
              "      <td>S</td>\n",
              "      <td>Third</td>\n",
              "      <td>woman</td>\n",
              "      <td>False</td>\n",
              "      <td>NaN</td>\n",
              "      <td>Southampton</td>\n",
              "      <td>no</td>\n",
              "      <td>False</td>\n",
              "    </tr>\n",
              "    <tr>\n",
              "      <th>889</th>\n",
              "      <td>1</td>\n",
              "      <td>1</td>\n",
              "      <td>male</td>\n",
              "      <td>26.0</td>\n",
              "      <td>0</td>\n",
              "      <td>0</td>\n",
              "      <td>30.0000</td>\n",
              "      <td>C</td>\n",
              "      <td>First</td>\n",
              "      <td>man</td>\n",
              "      <td>True</td>\n",
              "      <td>C</td>\n",
              "      <td>Cherbourg</td>\n",
              "      <td>yes</td>\n",
              "      <td>True</td>\n",
              "    </tr>\n",
              "    <tr>\n",
              "      <th>890</th>\n",
              "      <td>0</td>\n",
              "      <td>3</td>\n",
              "      <td>male</td>\n",
              "      <td>32.0</td>\n",
              "      <td>0</td>\n",
              "      <td>0</td>\n",
              "      <td>7.7500</td>\n",
              "      <td>Q</td>\n",
              "      <td>Third</td>\n",
              "      <td>man</td>\n",
              "      <td>True</td>\n",
              "      <td>NaN</td>\n",
              "      <td>Queenstown</td>\n",
              "      <td>no</td>\n",
              "      <td>True</td>\n",
              "    </tr>\n",
              "  </tbody>\n",
              "</table>\n",
              "<p>891 rows × 15 columns</p>\n",
              "</div>\n",
              "      <button class=\"colab-df-convert\" onclick=\"convertToInteractive('df-d4bd88a2-b8a8-4f41-8172-29fc124aada7')\"\n",
              "              title=\"Convert this dataframe to an interactive table.\"\n",
              "              style=\"display:none;\">\n",
              "        \n",
              "  <svg xmlns=\"http://www.w3.org/2000/svg\" height=\"24px\"viewBox=\"0 0 24 24\"\n",
              "       width=\"24px\">\n",
              "    <path d=\"M0 0h24v24H0V0z\" fill=\"none\"/>\n",
              "    <path d=\"M18.56 5.44l.94 2.06.94-2.06 2.06-.94-2.06-.94-.94-2.06-.94 2.06-2.06.94zm-11 1L8.5 8.5l.94-2.06 2.06-.94-2.06-.94L8.5 2.5l-.94 2.06-2.06.94zm10 10l.94 2.06.94-2.06 2.06-.94-2.06-.94-.94-2.06-.94 2.06-2.06.94z\"/><path d=\"M17.41 7.96l-1.37-1.37c-.4-.4-.92-.59-1.43-.59-.52 0-1.04.2-1.43.59L10.3 9.45l-7.72 7.72c-.78.78-.78 2.05 0 2.83L4 21.41c.39.39.9.59 1.41.59.51 0 1.02-.2 1.41-.59l7.78-7.78 2.81-2.81c.8-.78.8-2.07 0-2.86zM5.41 20L4 18.59l7.72-7.72 1.47 1.35L5.41 20z\"/>\n",
              "  </svg>\n",
              "      </button>\n",
              "      \n",
              "  <style>\n",
              "    .colab-df-container {\n",
              "      display:flex;\n",
              "      flex-wrap:wrap;\n",
              "      gap: 12px;\n",
              "    }\n",
              "\n",
              "    .colab-df-convert {\n",
              "      background-color: #E8F0FE;\n",
              "      border: none;\n",
              "      border-radius: 50%;\n",
              "      cursor: pointer;\n",
              "      display: none;\n",
              "      fill: #1967D2;\n",
              "      height: 32px;\n",
              "      padding: 0 0 0 0;\n",
              "      width: 32px;\n",
              "    }\n",
              "\n",
              "    .colab-df-convert:hover {\n",
              "      background-color: #E2EBFA;\n",
              "      box-shadow: 0px 1px 2px rgba(60, 64, 67, 0.3), 0px 1px 3px 1px rgba(60, 64, 67, 0.15);\n",
              "      fill: #174EA6;\n",
              "    }\n",
              "\n",
              "    [theme=dark] .colab-df-convert {\n",
              "      background-color: #3B4455;\n",
              "      fill: #D2E3FC;\n",
              "    }\n",
              "\n",
              "    [theme=dark] .colab-df-convert:hover {\n",
              "      background-color: #434B5C;\n",
              "      box-shadow: 0px 1px 3px 1px rgba(0, 0, 0, 0.15);\n",
              "      filter: drop-shadow(0px 1px 2px rgba(0, 0, 0, 0.3));\n",
              "      fill: #FFFFFF;\n",
              "    }\n",
              "  </style>\n",
              "\n",
              "      <script>\n",
              "        const buttonEl =\n",
              "          document.querySelector('#df-d4bd88a2-b8a8-4f41-8172-29fc124aada7 button.colab-df-convert');\n",
              "        buttonEl.style.display =\n",
              "          google.colab.kernel.accessAllowed ? 'block' : 'none';\n",
              "\n",
              "        async function convertToInteractive(key) {\n",
              "          const element = document.querySelector('#df-d4bd88a2-b8a8-4f41-8172-29fc124aada7');\n",
              "          const dataTable =\n",
              "            await google.colab.kernel.invokeFunction('convertToInteractive',\n",
              "                                                     [key], {});\n",
              "          if (!dataTable) return;\n",
              "\n",
              "          const docLinkHtml = 'Like what you see? Visit the ' +\n",
              "            '<a target=\"_blank\" href=https://colab.research.google.com/notebooks/data_table.ipynb>data table notebook</a>'\n",
              "            + ' to learn more about interactive tables.';\n",
              "          element.innerHTML = '';\n",
              "          dataTable['output_type'] = 'display_data';\n",
              "          await google.colab.output.renderOutput(dataTable, element);\n",
              "          const docLink = document.createElement('div');\n",
              "          docLink.innerHTML = docLinkHtml;\n",
              "          element.appendChild(docLink);\n",
              "        }\n",
              "      </script>\n",
              "    </div>\n",
              "  </div>\n",
              "  "
            ]
          },
          "metadata": {},
          "execution_count": 2
        }
      ],
      "source": [
        "# Давайте возьмем один из самый известных датасетов - пассажиры Титаника\n",
        "df = load_dataset(\"titanic\")\n",
        "df"
      ]
    },
    {
      "cell_type": "code",
      "source": [
        "# У нас есть столбец alive - выжившие и погибшие\n",
        "# давайте сразу его перекодируем\n",
        "df['sex'] = df['sex'].apply(lambda x: 0 if x == 'female' else 1)\n",
        "df"
      ],
      "metadata": {
        "id": "OS9iHAhSP_9W",
        "colab": {
          "base_uri": "https://localhost:8080/",
          "height": 423
        },
        "outputId": "170eb708-c367-4e3b-ba24-7207c60740ea"
      },
      "execution_count": null,
      "outputs": [
        {
          "output_type": "execute_result",
          "data": {
            "text/plain": [
              "     survived  pclass  sex   age  sibsp  parch     fare embarked   class  \\\n",
              "0           0       3    1  22.0      1      0   7.2500        S   Third   \n",
              "1           1       1    0  38.0      1      0  71.2833        C   First   \n",
              "2           1       3    0  26.0      0      0   7.9250        S   Third   \n",
              "3           1       1    0  35.0      1      0  53.1000        S   First   \n",
              "4           0       3    1  35.0      0      0   8.0500        S   Third   \n",
              "..        ...     ...  ...   ...    ...    ...      ...      ...     ...   \n",
              "886         0       2    1  27.0      0      0  13.0000        S  Second   \n",
              "887         1       1    0  19.0      0      0  30.0000        S   First   \n",
              "888         0       3    0   NaN      1      2  23.4500        S   Third   \n",
              "889         1       1    1  26.0      0      0  30.0000        C   First   \n",
              "890         0       3    1  32.0      0      0   7.7500        Q   Third   \n",
              "\n",
              "       who  adult_male deck  embark_town  alive  alone  \n",
              "0      man        True  NaN  Southampton      0  False  \n",
              "1    woman       False    C    Cherbourg      1  False  \n",
              "2    woman       False  NaN  Southampton      1   True  \n",
              "3    woman       False    C  Southampton      1  False  \n",
              "4      man        True  NaN  Southampton      0   True  \n",
              "..     ...         ...  ...          ...    ...    ...  \n",
              "886    man        True  NaN  Southampton      0   True  \n",
              "887  woman       False    B  Southampton      1   True  \n",
              "888  woman       False  NaN  Southampton      0  False  \n",
              "889    man        True    C    Cherbourg      1   True  \n",
              "890    man        True  NaN   Queenstown      0   True  \n",
              "\n",
              "[891 rows x 15 columns]"
            ],
            "text/html": [
              "\n",
              "  <div id=\"df-776b0893-60a1-44d8-8d63-47aa90985e15\">\n",
              "    <div class=\"colab-df-container\">\n",
              "      <div>\n",
              "<style scoped>\n",
              "    .dataframe tbody tr th:only-of-type {\n",
              "        vertical-align: middle;\n",
              "    }\n",
              "\n",
              "    .dataframe tbody tr th {\n",
              "        vertical-align: top;\n",
              "    }\n",
              "\n",
              "    .dataframe thead th {\n",
              "        text-align: right;\n",
              "    }\n",
              "</style>\n",
              "<table border=\"1\" class=\"dataframe\">\n",
              "  <thead>\n",
              "    <tr style=\"text-align: right;\">\n",
              "      <th></th>\n",
              "      <th>survived</th>\n",
              "      <th>pclass</th>\n",
              "      <th>sex</th>\n",
              "      <th>age</th>\n",
              "      <th>sibsp</th>\n",
              "      <th>parch</th>\n",
              "      <th>fare</th>\n",
              "      <th>embarked</th>\n",
              "      <th>class</th>\n",
              "      <th>who</th>\n",
              "      <th>adult_male</th>\n",
              "      <th>deck</th>\n",
              "      <th>embark_town</th>\n",
              "      <th>alive</th>\n",
              "      <th>alone</th>\n",
              "    </tr>\n",
              "  </thead>\n",
              "  <tbody>\n",
              "    <tr>\n",
              "      <th>0</th>\n",
              "      <td>0</td>\n",
              "      <td>3</td>\n",
              "      <td>1</td>\n",
              "      <td>22.0</td>\n",
              "      <td>1</td>\n",
              "      <td>0</td>\n",
              "      <td>7.2500</td>\n",
              "      <td>S</td>\n",
              "      <td>Third</td>\n",
              "      <td>man</td>\n",
              "      <td>True</td>\n",
              "      <td>NaN</td>\n",
              "      <td>Southampton</td>\n",
              "      <td>0</td>\n",
              "      <td>False</td>\n",
              "    </tr>\n",
              "    <tr>\n",
              "      <th>1</th>\n",
              "      <td>1</td>\n",
              "      <td>1</td>\n",
              "      <td>0</td>\n",
              "      <td>38.0</td>\n",
              "      <td>1</td>\n",
              "      <td>0</td>\n",
              "      <td>71.2833</td>\n",
              "      <td>C</td>\n",
              "      <td>First</td>\n",
              "      <td>woman</td>\n",
              "      <td>False</td>\n",
              "      <td>C</td>\n",
              "      <td>Cherbourg</td>\n",
              "      <td>1</td>\n",
              "      <td>False</td>\n",
              "    </tr>\n",
              "    <tr>\n",
              "      <th>2</th>\n",
              "      <td>1</td>\n",
              "      <td>3</td>\n",
              "      <td>0</td>\n",
              "      <td>26.0</td>\n",
              "      <td>0</td>\n",
              "      <td>0</td>\n",
              "      <td>7.9250</td>\n",
              "      <td>S</td>\n",
              "      <td>Third</td>\n",
              "      <td>woman</td>\n",
              "      <td>False</td>\n",
              "      <td>NaN</td>\n",
              "      <td>Southampton</td>\n",
              "      <td>1</td>\n",
              "      <td>True</td>\n",
              "    </tr>\n",
              "    <tr>\n",
              "      <th>3</th>\n",
              "      <td>1</td>\n",
              "      <td>1</td>\n",
              "      <td>0</td>\n",
              "      <td>35.0</td>\n",
              "      <td>1</td>\n",
              "      <td>0</td>\n",
              "      <td>53.1000</td>\n",
              "      <td>S</td>\n",
              "      <td>First</td>\n",
              "      <td>woman</td>\n",
              "      <td>False</td>\n",
              "      <td>C</td>\n",
              "      <td>Southampton</td>\n",
              "      <td>1</td>\n",
              "      <td>False</td>\n",
              "    </tr>\n",
              "    <tr>\n",
              "      <th>4</th>\n",
              "      <td>0</td>\n",
              "      <td>3</td>\n",
              "      <td>1</td>\n",
              "      <td>35.0</td>\n",
              "      <td>0</td>\n",
              "      <td>0</td>\n",
              "      <td>8.0500</td>\n",
              "      <td>S</td>\n",
              "      <td>Third</td>\n",
              "      <td>man</td>\n",
              "      <td>True</td>\n",
              "      <td>NaN</td>\n",
              "      <td>Southampton</td>\n",
              "      <td>0</td>\n",
              "      <td>True</td>\n",
              "    </tr>\n",
              "    <tr>\n",
              "      <th>...</th>\n",
              "      <td>...</td>\n",
              "      <td>...</td>\n",
              "      <td>...</td>\n",
              "      <td>...</td>\n",
              "      <td>...</td>\n",
              "      <td>...</td>\n",
              "      <td>...</td>\n",
              "      <td>...</td>\n",
              "      <td>...</td>\n",
              "      <td>...</td>\n",
              "      <td>...</td>\n",
              "      <td>...</td>\n",
              "      <td>...</td>\n",
              "      <td>...</td>\n",
              "      <td>...</td>\n",
              "    </tr>\n",
              "    <tr>\n",
              "      <th>886</th>\n",
              "      <td>0</td>\n",
              "      <td>2</td>\n",
              "      <td>1</td>\n",
              "      <td>27.0</td>\n",
              "      <td>0</td>\n",
              "      <td>0</td>\n",
              "      <td>13.0000</td>\n",
              "      <td>S</td>\n",
              "      <td>Second</td>\n",
              "      <td>man</td>\n",
              "      <td>True</td>\n",
              "      <td>NaN</td>\n",
              "      <td>Southampton</td>\n",
              "      <td>0</td>\n",
              "      <td>True</td>\n",
              "    </tr>\n",
              "    <tr>\n",
              "      <th>887</th>\n",
              "      <td>1</td>\n",
              "      <td>1</td>\n",
              "      <td>0</td>\n",
              "      <td>19.0</td>\n",
              "      <td>0</td>\n",
              "      <td>0</td>\n",
              "      <td>30.0000</td>\n",
              "      <td>S</td>\n",
              "      <td>First</td>\n",
              "      <td>woman</td>\n",
              "      <td>False</td>\n",
              "      <td>B</td>\n",
              "      <td>Southampton</td>\n",
              "      <td>1</td>\n",
              "      <td>True</td>\n",
              "    </tr>\n",
              "    <tr>\n",
              "      <th>888</th>\n",
              "      <td>0</td>\n",
              "      <td>3</td>\n",
              "      <td>0</td>\n",
              "      <td>NaN</td>\n",
              "      <td>1</td>\n",
              "      <td>2</td>\n",
              "      <td>23.4500</td>\n",
              "      <td>S</td>\n",
              "      <td>Third</td>\n",
              "      <td>woman</td>\n",
              "      <td>False</td>\n",
              "      <td>NaN</td>\n",
              "      <td>Southampton</td>\n",
              "      <td>0</td>\n",
              "      <td>False</td>\n",
              "    </tr>\n",
              "    <tr>\n",
              "      <th>889</th>\n",
              "      <td>1</td>\n",
              "      <td>1</td>\n",
              "      <td>1</td>\n",
              "      <td>26.0</td>\n",
              "      <td>0</td>\n",
              "      <td>0</td>\n",
              "      <td>30.0000</td>\n",
              "      <td>C</td>\n",
              "      <td>First</td>\n",
              "      <td>man</td>\n",
              "      <td>True</td>\n",
              "      <td>C</td>\n",
              "      <td>Cherbourg</td>\n",
              "      <td>1</td>\n",
              "      <td>True</td>\n",
              "    </tr>\n",
              "    <tr>\n",
              "      <th>890</th>\n",
              "      <td>0</td>\n",
              "      <td>3</td>\n",
              "      <td>1</td>\n",
              "      <td>32.0</td>\n",
              "      <td>0</td>\n",
              "      <td>0</td>\n",
              "      <td>7.7500</td>\n",
              "      <td>Q</td>\n",
              "      <td>Third</td>\n",
              "      <td>man</td>\n",
              "      <td>True</td>\n",
              "      <td>NaN</td>\n",
              "      <td>Queenstown</td>\n",
              "      <td>0</td>\n",
              "      <td>True</td>\n",
              "    </tr>\n",
              "  </tbody>\n",
              "</table>\n",
              "<p>891 rows × 15 columns</p>\n",
              "</div>\n",
              "      <button class=\"colab-df-convert\" onclick=\"convertToInteractive('df-776b0893-60a1-44d8-8d63-47aa90985e15')\"\n",
              "              title=\"Convert this dataframe to an interactive table.\"\n",
              "              style=\"display:none;\">\n",
              "        \n",
              "  <svg xmlns=\"http://www.w3.org/2000/svg\" height=\"24px\"viewBox=\"0 0 24 24\"\n",
              "       width=\"24px\">\n",
              "    <path d=\"M0 0h24v24H0V0z\" fill=\"none\"/>\n",
              "    <path d=\"M18.56 5.44l.94 2.06.94-2.06 2.06-.94-2.06-.94-.94-2.06-.94 2.06-2.06.94zm-11 1L8.5 8.5l.94-2.06 2.06-.94-2.06-.94L8.5 2.5l-.94 2.06-2.06.94zm10 10l.94 2.06.94-2.06 2.06-.94-2.06-.94-.94-2.06-.94 2.06-2.06.94z\"/><path d=\"M17.41 7.96l-1.37-1.37c-.4-.4-.92-.59-1.43-.59-.52 0-1.04.2-1.43.59L10.3 9.45l-7.72 7.72c-.78.78-.78 2.05 0 2.83L4 21.41c.39.39.9.59 1.41.59.51 0 1.02-.2 1.41-.59l7.78-7.78 2.81-2.81c.8-.78.8-2.07 0-2.86zM5.41 20L4 18.59l7.72-7.72 1.47 1.35L5.41 20z\"/>\n",
              "  </svg>\n",
              "      </button>\n",
              "      \n",
              "  <style>\n",
              "    .colab-df-container {\n",
              "      display:flex;\n",
              "      flex-wrap:wrap;\n",
              "      gap: 12px;\n",
              "    }\n",
              "\n",
              "    .colab-df-convert {\n",
              "      background-color: #E8F0FE;\n",
              "      border: none;\n",
              "      border-radius: 50%;\n",
              "      cursor: pointer;\n",
              "      display: none;\n",
              "      fill: #1967D2;\n",
              "      height: 32px;\n",
              "      padding: 0 0 0 0;\n",
              "      width: 32px;\n",
              "    }\n",
              "\n",
              "    .colab-df-convert:hover {\n",
              "      background-color: #E2EBFA;\n",
              "      box-shadow: 0px 1px 2px rgba(60, 64, 67, 0.3), 0px 1px 3px 1px rgba(60, 64, 67, 0.15);\n",
              "      fill: #174EA6;\n",
              "    }\n",
              "\n",
              "    [theme=dark] .colab-df-convert {\n",
              "      background-color: #3B4455;\n",
              "      fill: #D2E3FC;\n",
              "    }\n",
              "\n",
              "    [theme=dark] .colab-df-convert:hover {\n",
              "      background-color: #434B5C;\n",
              "      box-shadow: 0px 1px 3px 1px rgba(0, 0, 0, 0.15);\n",
              "      filter: drop-shadow(0px 1px 2px rgba(0, 0, 0, 0.3));\n",
              "      fill: #FFFFFF;\n",
              "    }\n",
              "  </style>\n",
              "\n",
              "      <script>\n",
              "        const buttonEl =\n",
              "          document.querySelector('#df-776b0893-60a1-44d8-8d63-47aa90985e15 button.colab-df-convert');\n",
              "        buttonEl.style.display =\n",
              "          google.colab.kernel.accessAllowed ? 'block' : 'none';\n",
              "\n",
              "        async function convertToInteractive(key) {\n",
              "          const element = document.querySelector('#df-776b0893-60a1-44d8-8d63-47aa90985e15');\n",
              "          const dataTable =\n",
              "            await google.colab.kernel.invokeFunction('convertToInteractive',\n",
              "                                                     [key], {});\n",
              "          if (!dataTable) return;\n",
              "\n",
              "          const docLinkHtml = 'Like what you see? Visit the ' +\n",
              "            '<a target=\"_blank\" href=https://colab.research.google.com/notebooks/data_table.ipynb>data table notebook</a>'\n",
              "            + ' to learn more about interactive tables.';\n",
              "          element.innerHTML = '';\n",
              "          dataTable['output_type'] = 'display_data';\n",
              "          await google.colab.output.renderOutput(dataTable, element);\n",
              "          const docLink = document.createElement('div');\n",
              "          docLink.innerHTML = docLinkHtml;\n",
              "          element.appendChild(docLink);\n",
              "        }\n",
              "      </script>\n",
              "    </div>\n",
              "  </div>\n",
              "  "
            ]
          },
          "metadata": {},
          "execution_count": 11
        }
      ]
    },
    {
      "cell_type": "markdown",
      "source": [
        "### Документация\n",
        "\n",
        "Все очень похоже на линейную регрессию: [ссылка](https://scikit-learn.org/stable/modules/generated/sklearn.linear_model.LogisticRegression.html)\n",
        "\n",
        "+ Метрики: [ROC](https://scikit-learn.org/stable/modules/generated/sklearn.metrics.roc_auc_score.html), [AUC](https://scikit-learn.org/stable/modules/generated/sklearn.metrics.auc.html)"
      ],
      "metadata": {
        "id": "0FA1t5nJVOGK"
      }
    },
    {
      "cell_type": "code",
      "source": [
        "x = df[['pclass']] # будем смотреть, как класс пассажира влияет на исход катастрофы\n",
        "y = df[\"alive\"]\n",
        "x_train, x_test, y_train, y_test = train_test_split(x, y, test_size = 0.33, random_state = 0)"
      ],
      "metadata": {
        "id": "qY72hKFCR7Wz"
      },
      "execution_count": null,
      "outputs": []
    },
    {
      "cell_type": "code",
      "source": [
        "log_reg = LogisticRegression()\n",
        "log_reg.fit(x_train, y_train)\n",
        "y_pred = log_reg.predict(x_test)"
      ],
      "metadata": {
        "id": "9CwCRrESSJ0L"
      },
      "execution_count": null,
      "outputs": []
    },
    {
      "cell_type": "code",
      "source": [
        "df_logreg = pd.DataFrame({'Actual': y_test, 'Predicted': y_pred})\n",
        "df_logreg"
      ],
      "metadata": {
        "id": "kZPaTcvOThbM",
        "colab": {
          "base_uri": "https://localhost:8080/",
          "height": 423
        },
        "outputId": "3ad32b8d-ccd7-4130-be36-08b2225ed430"
      },
      "execution_count": null,
      "outputs": [
        {
          "output_type": "execute_result",
          "data": {
            "text/plain": [
              "     Actual  Predicted\n",
              "495       0          0\n",
              "648       0          0\n",
              "278       0          0\n",
              "31        1          1\n",
              "255       1          0\n",
              "..      ...        ...\n",
              "17        1          0\n",
              "476       0          0\n",
              "533       1          0\n",
              "416       1          0\n",
              "345       1          0\n",
              "\n",
              "[295 rows x 2 columns]"
            ],
            "text/html": [
              "\n",
              "  <div id=\"df-e8c9233e-017f-4570-b35c-595067fb4810\">\n",
              "    <div class=\"colab-df-container\">\n",
              "      <div>\n",
              "<style scoped>\n",
              "    .dataframe tbody tr th:only-of-type {\n",
              "        vertical-align: middle;\n",
              "    }\n",
              "\n",
              "    .dataframe tbody tr th {\n",
              "        vertical-align: top;\n",
              "    }\n",
              "\n",
              "    .dataframe thead th {\n",
              "        text-align: right;\n",
              "    }\n",
              "</style>\n",
              "<table border=\"1\" class=\"dataframe\">\n",
              "  <thead>\n",
              "    <tr style=\"text-align: right;\">\n",
              "      <th></th>\n",
              "      <th>Actual</th>\n",
              "      <th>Predicted</th>\n",
              "    </tr>\n",
              "  </thead>\n",
              "  <tbody>\n",
              "    <tr>\n",
              "      <th>495</th>\n",
              "      <td>0</td>\n",
              "      <td>0</td>\n",
              "    </tr>\n",
              "    <tr>\n",
              "      <th>648</th>\n",
              "      <td>0</td>\n",
              "      <td>0</td>\n",
              "    </tr>\n",
              "    <tr>\n",
              "      <th>278</th>\n",
              "      <td>0</td>\n",
              "      <td>0</td>\n",
              "    </tr>\n",
              "    <tr>\n",
              "      <th>31</th>\n",
              "      <td>1</td>\n",
              "      <td>1</td>\n",
              "    </tr>\n",
              "    <tr>\n",
              "      <th>255</th>\n",
              "      <td>1</td>\n",
              "      <td>0</td>\n",
              "    </tr>\n",
              "    <tr>\n",
              "      <th>...</th>\n",
              "      <td>...</td>\n",
              "      <td>...</td>\n",
              "    </tr>\n",
              "    <tr>\n",
              "      <th>17</th>\n",
              "      <td>1</td>\n",
              "      <td>0</td>\n",
              "    </tr>\n",
              "    <tr>\n",
              "      <th>476</th>\n",
              "      <td>0</td>\n",
              "      <td>0</td>\n",
              "    </tr>\n",
              "    <tr>\n",
              "      <th>533</th>\n",
              "      <td>1</td>\n",
              "      <td>0</td>\n",
              "    </tr>\n",
              "    <tr>\n",
              "      <th>416</th>\n",
              "      <td>1</td>\n",
              "      <td>0</td>\n",
              "    </tr>\n",
              "    <tr>\n",
              "      <th>345</th>\n",
              "      <td>1</td>\n",
              "      <td>0</td>\n",
              "    </tr>\n",
              "  </tbody>\n",
              "</table>\n",
              "<p>295 rows × 2 columns</p>\n",
              "</div>\n",
              "      <button class=\"colab-df-convert\" onclick=\"convertToInteractive('df-e8c9233e-017f-4570-b35c-595067fb4810')\"\n",
              "              title=\"Convert this dataframe to an interactive table.\"\n",
              "              style=\"display:none;\">\n",
              "        \n",
              "  <svg xmlns=\"http://www.w3.org/2000/svg\" height=\"24px\"viewBox=\"0 0 24 24\"\n",
              "       width=\"24px\">\n",
              "    <path d=\"M0 0h24v24H0V0z\" fill=\"none\"/>\n",
              "    <path d=\"M18.56 5.44l.94 2.06.94-2.06 2.06-.94-2.06-.94-.94-2.06-.94 2.06-2.06.94zm-11 1L8.5 8.5l.94-2.06 2.06-.94-2.06-.94L8.5 2.5l-.94 2.06-2.06.94zm10 10l.94 2.06.94-2.06 2.06-.94-2.06-.94-.94-2.06-.94 2.06-2.06.94z\"/><path d=\"M17.41 7.96l-1.37-1.37c-.4-.4-.92-.59-1.43-.59-.52 0-1.04.2-1.43.59L10.3 9.45l-7.72 7.72c-.78.78-.78 2.05 0 2.83L4 21.41c.39.39.9.59 1.41.59.51 0 1.02-.2 1.41-.59l7.78-7.78 2.81-2.81c.8-.78.8-2.07 0-2.86zM5.41 20L4 18.59l7.72-7.72 1.47 1.35L5.41 20z\"/>\n",
              "  </svg>\n",
              "      </button>\n",
              "      \n",
              "  <style>\n",
              "    .colab-df-container {\n",
              "      display:flex;\n",
              "      flex-wrap:wrap;\n",
              "      gap: 12px;\n",
              "    }\n",
              "\n",
              "    .colab-df-convert {\n",
              "      background-color: #E8F0FE;\n",
              "      border: none;\n",
              "      border-radius: 50%;\n",
              "      cursor: pointer;\n",
              "      display: none;\n",
              "      fill: #1967D2;\n",
              "      height: 32px;\n",
              "      padding: 0 0 0 0;\n",
              "      width: 32px;\n",
              "    }\n",
              "\n",
              "    .colab-df-convert:hover {\n",
              "      background-color: #E2EBFA;\n",
              "      box-shadow: 0px 1px 2px rgba(60, 64, 67, 0.3), 0px 1px 3px 1px rgba(60, 64, 67, 0.15);\n",
              "      fill: #174EA6;\n",
              "    }\n",
              "\n",
              "    [theme=dark] .colab-df-convert {\n",
              "      background-color: #3B4455;\n",
              "      fill: #D2E3FC;\n",
              "    }\n",
              "\n",
              "    [theme=dark] .colab-df-convert:hover {\n",
              "      background-color: #434B5C;\n",
              "      box-shadow: 0px 1px 3px 1px rgba(0, 0, 0, 0.15);\n",
              "      filter: drop-shadow(0px 1px 2px rgba(0, 0, 0, 0.3));\n",
              "      fill: #FFFFFF;\n",
              "    }\n",
              "  </style>\n",
              "\n",
              "      <script>\n",
              "        const buttonEl =\n",
              "          document.querySelector('#df-e8c9233e-017f-4570-b35c-595067fb4810 button.colab-df-convert');\n",
              "        buttonEl.style.display =\n",
              "          google.colab.kernel.accessAllowed ? 'block' : 'none';\n",
              "\n",
              "        async function convertToInteractive(key) {\n",
              "          const element = document.querySelector('#df-e8c9233e-017f-4570-b35c-595067fb4810');\n",
              "          const dataTable =\n",
              "            await google.colab.kernel.invokeFunction('convertToInteractive',\n",
              "                                                     [key], {});\n",
              "          if (!dataTable) return;\n",
              "\n",
              "          const docLinkHtml = 'Like what you see? Visit the ' +\n",
              "            '<a target=\"_blank\" href=https://colab.research.google.com/notebooks/data_table.ipynb>data table notebook</a>'\n",
              "            + ' to learn more about interactive tables.';\n",
              "          element.innerHTML = '';\n",
              "          dataTable['output_type'] = 'display_data';\n",
              "          await google.colab.output.renderOutput(dataTable, element);\n",
              "          const docLink = document.createElement('div');\n",
              "          docLink.innerHTML = docLinkHtml;\n",
              "          element.appendChild(docLink);\n",
              "        }\n",
              "      </script>\n",
              "    </div>\n",
              "  </div>\n",
              "  "
            ]
          },
          "metadata": {},
          "execution_count": 21
        }
      ]
    },
    {
      "cell_type": "markdown",
      "source": [
        "![images.png](data:image/png;base64,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)"
      ],
      "metadata": {
        "id": "ewYOjvZ1S6Px"
      }
    },
    {
      "cell_type": "code",
      "source": [
        "confusion_matrix(y_pred, y_test)"
      ],
      "metadata": {
        "id": "abI7STt4SpLq",
        "colab": {
          "base_uri": "https://localhost:8080/"
        },
        "outputId": "bf468eff-25a9-4b82-879e-791949c3ed06"
      },
      "execution_count": null,
      "outputs": [
        {
          "output_type": "execute_result",
          "data": {
            "text/plain": [
              "array([[159,  69],\n",
              "       [ 25,  42]])"
            ]
          },
          "metadata": {},
          "execution_count": 22
        }
      ]
    },
    {
      "cell_type": "code",
      "source": [
        "accuracy_score(y_pred, y_test) # точность модели\n",
        "# для логистической регресси используют другие показатели точности модели"
      ],
      "metadata": {
        "id": "1OooAySvSuFE",
        "colab": {
          "base_uri": "https://localhost:8080/"
        },
        "outputId": "57190b70-9357-42c7-b5db-2689b0fe2156"
      },
      "execution_count": null,
      "outputs": [
        {
          "output_type": "execute_result",
          "data": {
            "text/plain": [
              "0.6813559322033899"
            ]
          },
          "metadata": {},
          "execution_count": 23
        }
      ]
    },
    {
      "cell_type": "code",
      "source": [
        "y_pred_proba = log_reg.predict_proba(x_test)[::,1]\n",
        "fpr, tpr, _ = metrics.roc_curve (y_test, y_pred_proba)\n",
        "auc = metrics. roc_auc_score (y_test, y_pred_proba)\n",
        "\n",
        "#create ROC curve\n",
        "plt.plot(fpr,tpr,label=\" AUC= \"+str(auc))\n",
        "plt.plot([0, 1], [0, 1], \"k--\", label=\"chance level (AUC = 0.5)\")\n",
        "plt.legend(loc=4);"
      ],
      "metadata": {
        "id": "HskK3YisUaCh",
        "colab": {
          "base_uri": "https://localhost:8080/",
          "height": 430
        },
        "outputId": "777bd420-0797-4ac6-875c-cd0b97088f0b"
      },
      "execution_count": null,
      "outputs": [
        {
          "output_type": "display_data",
          "data": {
            "text/plain": [
              "<Figure size 640x480 with 1 Axes>"
            ],
            "image/png": "[encoded data removed]"
          },
          "metadata": {}
        }
      ]
    },
    {
      "cell_type": "code",
      "source": [
        "print('coefficient:', log_reg.coef_)\n",
        "print('intercept:', log_reg.intercept_) # для уравнения\n",
        "print('r2 value:', log_reg.score(x, y))"
      ],
      "metadata": {
        "id": "zesy8BgZWpgm",
        "colab": {
          "base_uri": "https://localhost:8080/"
        },
        "outputId": "3f15cb83-06b1-4b5c-97cd-04666b69c68c"
      },
      "execution_count": null,
      "outputs": [
        {
          "output_type": "stream",
          "name": "stdout",
          "text": [
            "coefficient: [[-0.85003618]]\n",
            "intercept: [1.4458097]\n",
            "r2 value: 0.6790123456790124\n"
          ]
        }
      ]
    },
    {
      "cell_type": "code",
      "source": [
        "# перекодируйте пол и добавьте в модель\n",
        "x = df[['pclass', 'sex']] # будем смотреть, как класс пассажира влияет на исход катастрофы\n",
        "y = df[\"alive\"]\n",
        "x_train, x_test, y_train, y_test = train_test_split(x, y, test_size = 0.33, random_state = 0)"
      ],
      "metadata": {
        "id": "-m1UtsapTSRC"
      },
      "execution_count": null,
      "outputs": []
    },
    {
      "cell_type": "code",
      "source": [
        "log_reg = LogisticRegression()\n",
        "log_reg.fit(x_train, y_train)\n",
        "y_pred = log_reg.predict(x_test)"
      ],
      "metadata": {
        "id": "0ucy23S0rUIG"
      },
      "execution_count": null,
      "outputs": []
    },
    {
      "cell_type": "code",
      "source": [
        "confusion_matrix(y_pred, y_test)"
      ],
      "metadata": {
        "id": "vJBSRe1LTqy8",
        "colab": {
          "base_uri": "https://localhost:8080/"
        },
        "outputId": "5ae6dee9-b6e7-4557-fae9-3e1c02311825"
      },
      "execution_count": null,
      "outputs": [
        {
          "output_type": "execute_result",
          "data": {
            "text/plain": [
              "array([[153,  33],\n",
              "       [ 31,  78]])"
            ]
          },
          "metadata": {},
          "execution_count": 32
        }
      ]
    },
    {
      "cell_type": "code",
      "source": [
        "accuracy_score(y_pred, y_test) # точность модели\n",
        "# для логистической регресси используют другие показатели точности модели"
      ],
      "metadata": {
        "id": "PqmKodGgUGhi",
        "colab": {
          "base_uri": "https://localhost:8080/"
        },
        "outputId": "5924624a-fd2a-44d0-a6a1-d9c4a23af5f0"
      },
      "execution_count": null,
      "outputs": [
        {
          "output_type": "execute_result",
          "data": {
            "text/plain": [
              "0.7830508474576271"
            ]
          },
          "metadata": {},
          "execution_count": 29
        }
      ]
    },
    {
      "cell_type": "code",
      "source": [
        "y_pred_proba = log_reg.predict_proba(x_test)[::,1]\n",
        "fpr, tpr, _ = metrics.roc_curve (y_test, y_pred_proba)\n",
        "auc = metrics. roc_auc_score (y_test, y_pred_proba)\n",
        "\n",
        "#create ROC curve\n",
        "plt.plot(fpr,tpr,label=\" AUC= \"+str(auc))\n",
        "plt.plot([0, 1], [0, 1], \"k--\", label=\"chance level (AUC = 0.5)\")\n",
        "plt.legend(loc=4);"
      ],
      "metadata": {
        "id": "6cjEgvjjUGfP",
        "colab": {
          "base_uri": "https://localhost:8080/",
          "height": 430
        },
        "outputId": "fe5cc7cf-cc5f-4b49-97d4-68dad099dc65"
      },
      "execution_count": null,
      "outputs": [
        {
          "output_type": "display_data",
          "data": {
            "text/plain": [
              "<Figure size 640x480 with 1 Axes>"
            ],
            "image/png": "[encoded data removed]"
          },
          "metadata": {}
        }
      ]
    },
    {
      "cell_type": "code",
      "source": [
        "print('coefficient:', log_reg.coef_)\n",
        "print('intercept:', log_reg.intercept_) # для уравнения\n",
        "print('r2 value:', log_reg.score(x, y))"
      ],
      "metadata": {
        "id": "1ItS5Lt6UGcy",
        "colab": {
          "base_uri": "https://localhost:8080/"
        },
        "outputId": "4e9b5e6f-35f8-447a-ef96-04885d22008e"
      },
      "execution_count": null,
      "outputs": [
        {
          "output_type": "stream",
          "name": "stdout",
          "text": [
            "coefficient: [[-0.88549128 -2.48963069]]\n",
            "intercept: [3.0689732]\n",
            "r2 value: 0.7867564534231201\n"
          ]
        }
      ]
    },
    {
      "cell_type": "markdown",
      "source": [
        "### Еще примеры:\n",
        "* [Спам-письма](https://github.com/svetlana21/Spam-classifier)\n",
        "* [Мошенничество](https://vc.ru/u/1389654-machine-learning/651087-poshagovoe-rukovodstvo-po-obnaruzheniyu-moshennichestva-s-ispolzovaniem-logisticheskoy-regressii-python-kompleksnyy-podhod?__cf_chl_tk=7oOPtgov4EKf4x4jPZF9q_Zs63JVd4ywkbxs9kCRruA-1683867846-0-gaNycGzNDOU)\n",
        "* [Кредиты в банке](https://medium.com/nuances-of-programming/%D0%BF%D0%BE%D1%88%D0%B0%D0%B3%D0%BE%D0%B2%D0%BE%D0%B5-%D0%BF%D0%BE%D1%81%D1%82%D1%80%D0%BE%D0%B5%D0%BD%D0%B8%D0%B5-%D0%BB%D0%BE%D0%B3%D0%B8%D1%81%D1%82%D0%B8%D1%87%D0%B5%D1%81%D0%BA%D0%BE%D0%B9-%D1%80%D0%B5%D0%B3%D1%80%D0%B5%D1%81%D1%81%D0%B8%D0%B8-%D0%B2-python-a7c650ae77c2)"
      ],
      "metadata": {
        "id": "0DK8ClUTWY2u"
      }
    },
    {
      "cell_type": "markdown",
      "source": [
        "## Другой популярный способ классификации - деревья решений"
      ],
      "metadata": {
        "id": "Z0VctwgUbCW4"
      }
    },
    {
      "cell_type": "markdown",
      "source": [
        "![image.png](data:image/png;base64,iVBORw0KGgoAAAANSUhEUgAAAaoAAAExCAIAAACiTHEhAAAgAElEQVR4Aex9B5gV1fn+0MGlw8LSey+7IAqCYklM1MTYYsEKVkQ6C8tSbbEmajTBJAZLLIgUKUtRBEvUWOiw7C5sYXu7Zfqc/v2fcw/Of0UvYQn7g13ueXguc+fOzpzznpl3vna+T4MojVKqfmGMEUL87SiHx3bHEIghEEOgliGgnaC/ItKqHiCEqPo1th1DIIZADIHai8CJ6I9zjjH2x8YiTXFi7DOGQAyBGAK1HYGo9FdcXJyXl7d3797vI+3bb7/ds2dPenr67liLIRBDIIZAnUAgKv1lZWXpuu44DkKIEOJGmmmaONZiCMQQiCFQJxCISn8HDx50XVcRn+M4tm1TShUJxj5jCMQQiCFQBxCISn/fffedZVkYY8/zEEK2bWOMLcuqA2OODSGGQAyBGAKu60alv3379nmR5rqu53mWZRFCHMdRO2OfMQRiCMQQqO0IRKW/PXv2IISU7U8N0nVdhFC0AbuOpf4RQizbtWyXAoRMJ8x1GnI4BoMcIQ44li2wi1Ao2nlqen91+4l1g7gOQq7tSvInDsYmZg7zKDGR61DPoZ7lmI6tc+Rwx6pu/2u6PzXd/+qOt7Yfb9s2QkiJThhjSumpiQW244FZaYAF5WACMRyB2T4dEe4AtjhGHFPieLbjWJ6DmCdqO25nZ/9PG/1Zps4ZoQQZhiH1ZUxtx2McXEY8y3RtMEkx9sDzwkCZ68ljzkirbj8l99kWwZ5if84BYxp5ESDbdTyMEPFc10aexZBD3WrTX033p6b7f0Ym8Qxe1LIsFGmWZRmGYZomQkjZiKrVKxC0IlzmhYVtmxxs3XBtm2EwPAdhj2BM5evWcxlj2CPIlTaoWDvtCJw2+uOMBCrLaaQZhqFeiYFAwDG5xW3HJfKV6VDbyqcIJGecoVbdfrrIcWwTMHVNebsbnmMi1yYI2wjZDvUQQxh5DsEeJa7nmtUdVk33p6b7X93x1vbjKaV+LITiQYSQZVX7tRc2QkKAXmkIII6VCxw8F8Jmpe0aiDiEeY50OGLBwbZtyw7XdtzOzv6fNvpDCAkhlHskwgXIc20ATspxJTAL2bYuPIwEyfc80PWoSnRNw1TdfjoUW4YpLI8YtgDuATWIYyIb24g6mLmIOh51PII9jD3Hs6vb/5ruT033v7rjre3H27Ztmibn3POkQqBcgqcg/TmCggkBfAQQICsPGyIc9oCATh0TGy4zCUGWiSgBy7JsL1DbcTs7+3/a6M/1sG3bhmEAcIxcM1QJHHtmCFycCWBTG4UBC4LNvKCJBMCZgqO6/QwhD3sIPOoGQxayS4xyyw0Ddk3Xk5Yfl1DTIbZLPeRh10TVpr+a7k9N9/9MzeOZui7nXNd1SqkiPqX5noJL0LFKKAKwIQ+OAuJUFx4ABD0dIETcsBfgAjsmlaoSwUjoZ2q8dfu6p43+bGmn9QghUpsrKwaGDuz8ukdC2y6admnyX+TUOhCybfAMi4ugccams7r9rHRsTgVQILZtCzfshoAhKCgqcR2DMoSpZ7rYklqwi7xToL+a7k9N979uPx4/HR2lNBAICCFsW77qlG9QRUf89OAT7IEwVEDBS/df/td9ACVl4EGmvXz6+MmZ0hMCQS/EuOeZCLvgYWTRmPR3AixP/afTRn8OZpQJ0zQ91yaOITwDuGtX5GdsTL3tL/tDmINJTQwQxGHm0DMm/HnV7adBmSS4kGlbhgOeQw1WkL9i5rwDZqCUE5NxRyq/mHrI8Vyr+hbqmu5PTff/1G+92vmXTz/99Ouvv15SUoIxViSIEKKUVnc0EA4XZL7yyxF/+h4OC5MB4YTCthdufnb53goCFvMIM5DleTaYrhdEZdU9f+z4k0HgtNGfbktvr+dJKxgQFxmV1CgDZhV9Omv84l1hDKBbQQtABxO8oF10Mp2riWOq209DBiBgQAxjL0h0xh0Ih9++46GvwsW53AsJ7nqYeZR5cux29U2aNd2fmu5/TczR2XxOSmlZWZlUZhwHY2nwURbA6vbZwXD0xfMnvltGdAiA7bkmhHXIeH7Ur5/PKAVbcIQCxHaRI2yELThjkRLVHVftOl7bj+0KAAwggAvgjBHAAhDs/varQkBQWY4kZ306so3W4+abr2mS0Er79Yb1s7TmWj3trjdgD+hQBBlLLuypNWrQRuvzx+1T22ut29+8Daxyx8w3CDhb7/nlY9mOATYCnUMmeFC2/DcNWjbQOmqttNajnskPZGNL9uBI1j8vaqa10DStnnbzov+AFcjjjsth1zNXak218X/87t8vXdJUa9hWu+Xl/bl8//IbNa3+Lbf8+rxW2nn1taYPfIyCUFnA3UKdgucKsPICFnhOiQsIio31E7u30zq9uPL1fudpTbXmWlzS0xmEkiMYCQgx7pjBrTeOeVoHHcrNIMG2xahpsg/uqd9Q0xo10jpf+ODX7tGAB/aed/s0iW9SX9PqNdYaaFpc8xF/+Ny2QEflNsDmG7UGWpc2WrNBN4765aV/34NspIdAlNs2q+n+xGmaVr95A637757eYblwlCPwAiEKmDm64WCAQr0EoCjnu5Uj4rW2mtZe07QmXbR6TUa9tEKGaoYLDz0/SWukjfjjRyV/uLyB1klrePfS7HwTDkNw2w3nNW2mSeAaj31qnw22yTEpw8HtE5prDes3aKFpncdOC1WKTO66DCgDpAeZyS2woKS0SL74yv42s2VnrfGL77/br5mmNW0R1yThue9AAA05xXv/eHlbTfvFUx9/+89fa401reHN7+8urLQNsOHNe+O0eo20elrDC+ZnUgBWZOlgQe6LI9tojRu30BJe2fjCME1rf++moM32/WFsGy1q/7VGWpxWTxv7arkbQDp3XOIg/sbdzbWGWv2GneJueOR342dk6gXySTC85ZPiNK2dptVve8/NN1z618Pho64rKo4+P0xr2VyLG/FMpmUIx8Ym4MOrUlo3a9BYi9fu3lSWNrlxfa2D1rHRndttCJTBzula/Wj4ePib5y8Z8fhB8ByAMjCgsAJMZO7/54U95h4CsEDHCHCBsABblmNXX62oXTx0hnqr5RBkSu4DEIwBp8BlhisK+7IPQXFxIQhmgcNyAP3nPm38n498Ybw7Sxv7wjaM7Bd/fddKzsPsXw9pyavLLRNC7pobz4tveduHBbzCNUvBgaMc4J2bRj5X6EERoBLLLoGAverm8a9kc+IYLAzFaQ+0vHu7YdqVXiEc3Lz2QAkEwocAls/tede7BvEE6BUQBDP/xaQGWqs71puGB3jlW5t0k3v5xS8MbnTTe9+EgJaLVXMve2FHOUApBwjkMo9CuRFg2OYswEywXREKvzBT07Sb17kh8Bgv3fqgdv82qyIQtkvggGsAfHjTsD8VZjsEoBAqwazM3H5/67F/2EHswxUe5Gx6vPnFzxiBnSCZ2n3jwZvexJZrBEEHsMqFAR4Y5e/dfOXz/0GeGRCw4eWrW57/ZIkpSgUgAwBBTfdnu4fLbD2ACsCEIAUIQ4AZFUzHxLEw1hFlgmMcBhrmR7P/NSf1I4GlRGFJm2y+B8B40Mz28t6+vFEL7dY3AHKM0rQPPtLBLNr20HVLMkpNCEApmOuStXveKmYAJPDmfcP+9U3QDJeZAAc2LO4+cbVLnUJ+GKwCk3HqYFOUQQhcKHO4CRXmm1Naa+dd97lhYGyA8dWkBhM22GY5BgFhtuePYxq21m54HRgvsl/bmgYQZi9P0iYs3ucRQ7pEV92nXfH84WB5SMA712lT1jmWBSb95LdNG7W9ZVUAh8EsMwBg19+j9d/ygDpgfnCVNmmdfN0yB2+65urH99lQHtIrv3nxwhYjVmZwAJuEVv/ulkcPCdu0HPjs5Subj32m0IUKOIosHVww1v1+9ItlDIXBKSviBMyKo8X/uv6yt0XQCrsAH94z8u9bQ2EA03tpSq9lmaFo+FQefuaChjd/hqFYd4ETM+AWEwDubJ2g3bYZhAsuClIcNG0gnk7xGQsUO0O89H90Wc2QXAeS9BilMrCDR54F2P3NTlcYDoBZmA0UCu335ty2wmTgrr//148V27wgK/WSO7fiw/D+gzetAcTA9CjNL3r37oQHt3HLdigYjtApNzdMuXjZ/qOIMQzIBdfccEeLbg01rVNDrYlWX4urr5131RYACDh016buDTWtQf0WDbWuWvOpGyDMvvS8I2AYZQcW3PqHAxw8Us6KoRI75Y4ddr576oo712EI0DIoznt+/F1b86l8e5cFy4HTIkCOZ/NyQBD2QsUOwAc3nvfwpnJJ9pQHwxUVm2ZNWJ8HAldWmAEH+NoLfv3CbtsDYkEgaALdPGHSSoNgSiRBcH3X3hdTn00vwCaIyvCWGye+AxRKIBwGk0OeW+SiigDYzwxrGadp9RpqzZrf8FWgXHdBRv/YpIwU1HR/NgRCIaCGXWmgshC1PVQCjOMAR56jU8cmLmCwQ8x0ARzx/h2PbNIDjuPpDJxiUxeG59JyHIADL935THk4CKUOHIIy8Cog/M4YbbDWWGusSSmsQXOtSaPb1gAtO7xpWmNNi2uk1Y9rq7WQUpt25XovAGUsxBiywXNNgV2LgFUYlPdCCLbd03TGGza2dQrZJTa4a++/d2W+ACgpAZK96K7ndgECZkEhqYBKVEq/u37qJhaiYIMFRQEPtj+e/K/dWSA2T7lzVSkgCMnFEuUrL+1z61fFSDBCbR2M/KXR+t+ogaY11M5r2FLTJu6wqEsqw8FDS37RsXEDrYnWOkG78x+uBaajS4r798yLO7bQ6mmNtRatfrut1CwKW8A44F22BW7axFFPflpKAILZyK4Eo8LFodfvu2ctQLkNWyf+9kMHysEGfftvmmla/frR8MEZS8Z2/VsBiFIRshGFMMhnLYC23K2NebnCMTF4RYhDJaUeKsOOXHgaa6cdAS3k0x+X0h8CjoTgFDL2pbvBUInhGRCEfBdg6zWPrNUD4Ky9cfjzmRAKVr5w+Z2rSKn9zgO3fxwSFpeRLoaT+8LAqz/waNCxAdNiU6dlK++8csmeSiiWElABMPHKPZekHrU5M60CxwAvXErDpY4b0r+/tv3lXxtgWRDC+/a9OOL2NLAIhA2AYBkpeem+J4sDPIjBwq60lZgoGzJfuuzmDSW0DCygWX/ud8PfPICSQIWMIHVyKyggFzMXwBa2x1zAX9zU/Ok8sATggGV6Fmxbcv3GHGFLOkTIhU1Thz3/aYjaIiC19BD+4MHr03KAGRYAsrFVevCJW/5SDNlmGCj65KbbV+ilEPII0UOmNGgCyRXhQAWwMBhQXvJV6M3L+z+dC2AZwGg5cZ2a7s8m4uSIoAwicyuAQMDcC67ADBiBIDdNJwDlDrOhkgPo+rpbbvvERaUUe1SAi6HSBA8wKqosWnbbc1+5HjMRAHJ5qByKNj1ww1NZnlJGSyDfMozSkOSkz68bO/c/8qXpOuhI2JZkZDoVeQSE6WIaRCBpICzpEADsoC0+vr3n8n1QzICL/cUewIrZt64qBXkuUnHg6ZsedSAMGGUznpsDFhgHr79zLdFDECogpYeOABz+yy0rMrEefP8XD32FkOt4JlgWPvKHwXd9DYIX2kyYmRVH/xat/+CxHCsXTBmD6tqQBQfKKUDAli9+vTD74F/HXrsqt/wIM5xSGnYsF4gJoZLDRzb+8qLF34AHQSiGHBSE0i0PXLU4mA/AeSFxKPBwwARj0803LN5B0hePuON5MGE/2FC28qHhC0sMKxo+euY/rmw9cUVpRpiDvBsrOeMAhKyeED9pneO6COz8IIFyAR4tojY77U9+7ISe52l5WMpDsnGmzH/yhiDw/a7vMAfJQHrIw3YmfHHN7S+AC2L7r3+5NCsXwaHnx9ywAihkfnz92GV7EXOh2DHfeEjrfseqSmkZRlAIBuyEDTMvf+Y7eTsFAlkAUMxW3t0iZfVO1yGVAKKyKEwqEEA4+PHsC6fsd3CAVxLj4F0JbX712hc6cAhDiIX1XX+96YWtBkBhOAhBDwJS3LQLZ51/23sFrg0eMvevGnf3Mg8AMW56hZa173r55r3zIzcdQlAKvMIxPrrrvIRBd6VDsZRpLfjjQ/f8OyBCHLmVWcBKK9Y+8Lunco5QGYpVCaZukc33/OYf6UcqRQEYNoj8BZM2fW4GgMIucD6e0Pu1fAIVUOr85Q6t1cwPbe7lbf190hN5IY8YhgWhktcvGPdiZtB07Tx5Sv1ATffnr+kIAmWV+t4rmzS9a8VO8CKWh3CWbaAwsxAJg0M5gnxqAi1ZPfHqp/e5gENOxe6rOmgPfJjLDDkZ5s4npr24G+sOhcqgA3LlqQObbm0x+b18ZEMFtcAxy6jnElzuwNt3t571XrZpmiBQkVtRXAYC3CA4gCzb8QJYh7AIeGFL6DhgMdddMblZq3ET97nFjuNACP5y/8TNYFeSHJYLImfZ9D9+cQRFHGOVUMFKgpVo7cMjl2cXOihYAABlXy269609Xohj8s7dY/+RXupSCGN4Y2q7xne/R3M5wZ6HC+28P0brv1Esi9cYnpOr68UAYBS99+Avln+TWeBGLN97F7cc+XIGuAKhtAlj/3YovxAVS0PwoVUDfzH/O9MAGobych1Y6frr7v5DUdhlOAzpYJchT3Ag3s6ll16beu3vng3B0XICGAQKbLiz0Z1rUTR8XLTv2UGDXyzkhpTLj3gVwghkgvfNrPPvfD2HeY4LbrAMoaAAj5WAfeZCJeo0TWrZ2DtGf4JHdGAu6Q9D3rc7y12GdScfrApRfHXLps21Dl1vfjBvzYNa/UaXPcv+8+q1WlPtjg+DYB6+tnFDrbHWqr52z+/HJ934d+rZB0TBPy7qpDVu2Vh6CVpLR0e7aZsKvtdZEVhH51/UQqsXr9XXmmqaNu6lL6AYSiDnmQsaalJHadtw4NU3XNSjqXbnmwZDB6ZeVF+L07Smw5pqWndNu/fDwkIOZUf+2q1x67j67drdugzte+Gmpo20Zlqzq96VRis7CPi7SefV07RJ//YqwWClYLNw3kd3Xz3jhZc6aPW1Rs2atNIu+8N+ZpYFEZl+Rb2mWhPpCpDaitZEu+sDq8IggO20q5rHNWquaY21NlqzJ9JyvDJaCuEyT3f3/bOn1kq6DxIu+/tn5fL51PPfvXd4Y61hU62J1qRhPe3WgyLTqggD5JJKsxi213R/+jdocl6jZo0bD/7LvkKDgiVNgBZygCIoN8NcYJCJKEIVvBygyPx65fCWDbTGca0aDn8u54BcbiA+nzekvdYsQYvTmsd10+o1m/KBDQXy9ZcNe18Y27yNFqc10bQWWtOL3tgTrATPAOv7pZd007TW9bVWbTRt+KVP7w+WgCnDJHUXyi0OrMywaRnTpdsLlfxzSp97nnupUz1Na9A8rkHLS5Z+aECOCbtSxnVopTWXLq/GUlt8cEuBhI1CMTz/S62NpsU311poTZrdvyX/qLtX3pylm3/fqJ7sp9biiuuu/PU1rwmA7yHnpfMjXqoo/W9ev590q7XUOo7bWFGSg4l4/c5GreUV22n1mrVpdN1mw7EDkMePvDWpUytN05rGtWykadrv9uBCsLCFcx4dPVBrJL1GWmvpZmp03u++MoocDBVl4BDLXT1Nu21DqQgY8vHJc538w4I8MS4+Gj4GVJY89dtZb0E56C4uYTKylIaynvrl+a98b5jEsIGSgGdQDCYJCjdGfzVCw1WUXyalPwqcMgEEcvbts227BAMwDMHCkFmIwAuFpeIJdrjQQ7aVByZwGyq9SsCFEOYZrAKOvHXhPR8GOefhMOXF3NRBr6xgOoQ8KUVyCIiyEEA4ZIOpIxTwEHM88LiBECBaYQiwiQ522LJLCgE8W1pEsAEch1il4XpUGn0qVax8NpTaglAAXm6HcMCSUhZDYd0JCYqcEhFgACWOA26ZY8tCdXmb7xq3ZM9R1woAh7wSHAkudcG1wTE8HLLLIBtyiCk7B3Z+CQAPWRDODVkYGJRhAKJngnDCYbBKuBR2MYTTjeIMbEqzp4BQeQXogPI8DB6yUT4OSqQKTAAXHLfG+1MK4JQHIeyBKRHKNS0KLgrrHIRpISmh2Ihh3SXllaEcALuIBLkclGOHwYSQXoFAlFWEKy0gUGKU02JEgsLm2HHLwS4LAARLgAtCIARBy5WGKgiRCnDDzCJ2EQ4ahWFeBKUQKLdwpcFsjwO1sm1qh22gLgMoffv237x3OPOo7XBgYWmxyIViYJZtk0yPGOVhsIEaUOYFAQIAxlFE9QCYjId1nk/LpBGDErBdg9qhShDMqbSAkuLVl934TgkwqttgFROwo/W/2AUoD4JLD4f2Aw4HoUjeRwFANBsTh7KQCAFFWa7ESRoDhEF0YoDIJ5UQQBCGynyqQwgFHCgnhwWQfAsIAbfEYmCzYIVEMXwYoUAhzdcBnAJkA0DFvmj46HYx2v3O7Rc99xXJDWEIo0KO0fY/PbxoRbYtOLhcpzxkBcD0DMyAxJTfmqG/Y34PAoBJZE0rR1L3hW/3fA8oRCygqBS8kG2WCFrmmuBYpWC7CBBDAeJ62Co1iLSyudwFC7a9eOElf9xtSRcHACqrlH8snYDgOIWs1HQAAjRIyoAgZnIXmyisF3KASnBoPjbzQli6LIMEkJAXKuMuhPPkGkhMLUZBLy0gcrlcJTfAk1E1nmGVuhZQg9Ow4UKQAYTNQg7CNgnkIUwNV6cC9BDkQN6Ht1/y12xmEwgaNhCgoWLbA2aXg+eWMHCFAY7hcJNXQFDYxKoEN4TD4DEUsgBIZaVuS6W+0mEYiB4KOtKYCTYOgOmY5RUIgy7AqgQh7X0cOZUemIKAc8g1weDlNd0fsCV4lhvM4MBwCXLLIZxrMggbku6DFZxSoMRBRikDKPbAdeXR4VCFyYRnBhCHQmkGPlokxUYekOZPKICAhT0IO9yrBIcfJeDhkIUxeEdsG1jYNUnQw4BsyxFyxT4yynUQJOzYCIKGTh0nzExwwLRAt2HrrRe+esBxKXiWCdysMABMOOKVl4E0oGHhQal0alk2lFEPBykEmFQtTZt4JrVpEJES4A6uAMew5LsL50Dpd38Y84tnvyQW8YKAKQljI2r/odSRrGqXAFQSxzMDNnbADlWaDJDJbS8foIwAmMWGq8t5BC9gUccDnUCYBEAvZ7hMvs5DtiWDY0ogCJVOjvRb20cDHIJhwYg0qoShGMwCGQpQwVzIiYYPWEU2wIrfjFx2SNo/LYMFyVeLku7ZAJjoGCxRhIkMBrQCIRc8Jxb2XDP0p+x+P/2Mlu+PuBZjLGR5HpOLsYHbuGDvw1cnaQ1aag1bXXPrxHITS46iwjBtQs6Yw952gthDdtgFzq3K3JSpt8VpUofuceltu4s96f90HOZZnikzDzq4xt+uNd0fI6zLuAk7bOnlnMhxycxcjmeFAwBcZiWx3bCNQg51JYeftvxx0a6LaAmWEr+MpCLUmjztumZNW2haXHXxry33W408nbGT1jAC1V71QV2TUWy62CHCtBxiBYGFRWm6FOxcKAraWCoZuuthQghGZ8xhT4VHKXdM6lk2EB1IBbfKwbWz5LITCDnUsU2ObIYcaac3ajyLdU33BwSUlRaDwAAoPzcjaciAhjLSQ2vdvFk9TbbGTZpp9RrdOOGe7OKAc/pSTkS7bj2ts9ZAa9REk8HhWpObfjuvsCgbwKgu/rXlfqvh5zR2+hpBoNr0JzwDI9fySMCSDCizkoXKgNshh2IBlkdkolPbpgRRz3aMM5bV2fJcQ1apk+5L19FlRBn3UFi3OARtKZNyZHt6BUMOJgyfPjqINks13x/MKLatsGVVApcZd6jjcI+aRpgzWaXA9bBLuOESm0LYPY3SbrTreowJAY7rmRiJQKUhczfZgeriX1vut2jzHtt/NiNQbfrz9ArXDBMqHyTd4y4Fw7QlCbrIcWXeR9syiFQ7DeIYQM6Y9OcQbnpUt5DjEpkzwzJMI0wQNgwDeQ4wRKygowcwcsOWq3syfVuNtprvD2aM6UaAUZczjyHHs2RSQplNOpKjyTBtAWAjGraRhU4r/f3cdTmUebZUfg0Z94eQyBQyHhOqjX8tud9q9OaJnbyGEKg2/QHHHLuyygGAQ0TAwvJZYoA8hxIEwD1XapQcu4J4nnXGElsZNsYcPMpshOUqVMxNy3GRBxxLUtYrpHWMyWKlMm8pOW22sGjzVNP9CeumjKcDGgiWCo7CoQq5pNYlfnZizrnteIZpUybw6fMkRruuYxPTLqUYCHVMK6SHmPQJ6U518a8t91u0eY/tP5sRqDb9ObaJkRsMBl3XVdKEjajhSjOf61iUIDsiZ6nKGKeQB+10gSUfP9O0Hd12LcN0LUvmpZc5CfUAdkxpUKfSOqnrOqFc8mINt5ruDxdgOzLdNMI2AHUdC7mYIK4bkvV1XTcMgzFGiMxbeIKSVdWFIdp1CZI1XVwUdL0wCPBsKfdhqlcX/9pyv1UXt9jxZwMC1aY/wzCEEDLI3tKRbTi2iTyZ+QdjrHLeyiofLpJBJw5iNW9TiwaijPPVKx2nnDPPdYhjM0IYls++FAcJ5brtWZ7sqhDiFGo1RLtutP013R/dcBgH27UIdcvKixjFru1RLBCmjoukfRNLxd91ZNkmz612Vupo44p2XcupQC4wYVkmCYcszMqZzNtuVBf/2nK/RcMntv9sRqDa9EcEyOpWniOww5wwd3UWKXJm2zbnHBPmejhkysQplbpt4xq3qUUDF5ku8wyGKzy70rU94sn6SqZV6WBmY24gURaWnVSSEa1+jY5o1422v6b7g7lc1kEYthydC+x5DiMce0xxn+PKCnwEe4JT7JjYqXZJpmjjinZdT9YI0D0HPM8h1LUtrBvlGInq4l9b7rdo+MT2n80IRKW/oqKirKysPXv27N69e+/evXsibW+sxRCIIRBDoK4gEJX+VCA0Y8yPiBZC8FiLIRBDIIZAXUEgKv1xzhljnEeyn/5AgSLWYgjEEIghUFcQiEp/Pyu/z+kAACAASURBVDBe7P8YAjEEYgjUTQT+C/0JIRhjlFIlCdYV0o+NI4ZADIEYAiIq/VW1+tVN5o+NKoZADIFzG4Go9EcpFSJSASnyqVBSe85txGKjjyEQQ6COIBCV/vzx/dQB4v8U24ghEEMghkDtReC/018NjU0ZHqp6lmV6lkhTO6mszQDqs+p+AGAyl4g0SsrynD8IpyouR/1aQ32OnTaGQAyBswEBQmQCd58cfOqobt/OGP3J2kqc+wNQg2GRpkgNY6wGI4TMR6AO4Jz7fFeVOm1bphZX56x6jNoZ+4whEEOgziCguM83zZ0y9wHAGaM/37UihFB2RjWqqqQGkSXD/rQprlSkqfzRiu/8T4xl0if1NebWiiEQQ6BOIlBVO6yq//lEcfIbZ4z+FOWp4GrVXZ/FZTatiOaLkMxHALL8qZR1j2s+A6qDqx7jykoWsRZDIIZAXUPAF/oopb6CWFWJrNaAzxj9VVXdKaWyHGrEkOfrtqpOSCRVprQJ+iNECPnbStaragT0qbNaKMQOjiEQQ6BWIKCEJCXr0EjzGeMU+n/G6E9xljLqAcADDzzQoUOHgQMHKkezT3BpaWkdO3YcOnTosGHDnnzyyfLycjVIn/sVELquqxOqX/8XRE4BxNifxBCIIfB/hkAkra/UCP3HvKrmV61unDH6qyrQeZ63d+/eTz755IILLvB7rxhw69at119/fVVqU5TvHybrzYZCCQkJF1100cCBA0eNGnXhhRcmJSWNjLUYAjEE6hwCSUlJPXr0UAyorPynzH1n0vXhMzelVCYKxLikpGTAgAG+NVAp9p9++ulVV12lyK4qCfruDmXmGzlypC8w+htVKTK2HUMghkDdQCApKUnZxJRj538Z1BmT/hT9+T4KxlhhYeHgwYN9jlMHfPTRR+3btx8+fPhVV121f/9+lWjHD+5TPiDXdceOHau2/5dXwf+C4zn7t4IDBbCpJYATD4AC8oABEME9ShiAAKAEESxDl7j0Y8Xa6UTApwD14BwXOKGu5B+jvvrygdo4O73DvktXjUt1VYlEI0eO9BH0pSh/T7U2zjD9+b2nlBYWFg4cOBAAdF1Xwq2sRM5YMBgEgA0bNvTr1++4+Vu2bFlSUtL48eM7dOgAkcrlAOC6bowEq3UT/C8HIwScUwDEsC1pjwMwDigsnVXM48AIo5IBKfXtvP/L5WJ/+1MEFH8pglD0pz5VSJmfrET9oa9d+Z5GP7XdWZXEz1fv1Fh8qQgA6gL9+eNRjI4xzsvLGzZs2HEPiWJANXM9e/YMh8O6rvsTqaYQYzx27Fi10xcn1dfYZ00jIIAK1wLiKRYMexgEBWRS4gCQyD8uSymrfvCfCWCq6R7W+fOfIM7ff8qOA4FEmi98HPfrWfL1uE76gW51gf58YU3NgRCiqKioX79+SnBTa9o455WVlQBg2/a3336bkJCgJsb3fvhi/NChQ31aRAj9rApwlkxqHesGIkFg5Gh6zqTJ87WuQ7TWXbU23SZPnZ+ZmwtAkROSuq/UiSONHlvXWMdAOLPD8e/2cDhcVFSUnp6+Z8+ejIyMAwcOHDx4MDMzMysr6+DBg/v37z948KD6KSMj4/Dhw0eOHElPTz948OCBAwfSz7KWmZl56NChrKysoqIiFRXng1wX6M8Pclbq6sSJE9u3b1+vXr3OnTv/7W9/W7Zs2WuvvYYQevXVV/v27Tt69OgxY8Z89dVXKvOg+ls/J41lWZdddpmqNnfcQhEfsthGjSFgv/vOyhYdk9peePuQR/48OPnvgx56oe2lD2sd+q7Z+gkAYdhmAAELR+LXj61NrLHOnIsnJoSopVAFBQWymmiV1aI+HL7RXO1RgpX/69m5oVa7Kk5XK/qVMFsX6E8hruhMMaA/B/7bzA+OUTE+ar/69OdYITJ8+HD150r5PU6D9s8c2zjtCBw6dDCu69Auv56elPJhl+S1nVPW9V64sefs1QMmLNJadM/LzwXhehhhkIZBEDHl9zTPgJ/7AwDy8vI8z1NPhK/Y+qY9/8K+ZVzxpnqgzjYHiN9bz/OysrL8PtcR259SURlj/sq2qr4eNSW+kuvbQW3bVvPqG3rVZI8YMULtV8lgfOxiGzWNwJTpqfFjbx46f3Xn1O0J8z7pNndT9/lp3ZduHjB7ZeuLJ0ycPAWwDoIGI0WfBTmWxqKme3VOnd9/Ig4dOlQ1GFiBoB4lta3EAj9oTn2t6gw5e3Dz5VMhRHp6OsbYN3HWEenPf0EpzlLDUzTvk72aPMYYIaSq8/u4hcCJiYlq5tQ5/TOfPdNZV3vSot2gpHufjp/7YdslX/dY+GW/ORt7z13Zcf67neZtGzLxmbj2nYBbQB0K4KkomLoKxBkal3LvqlCwjIwM1QslE6htn/4cxyksLHzkkUfat2+vaVq7du2mT5+eK020sp2F0p9PApmZmaqT6rOO0F/VIf0v20KI888/v+oU/i9nO8v/lkk3gnCJNKVh5Ep1kiNgLhACFHHAFIjLXQEgvazHPA7VGJN6x1T9VH/sAKDI+RjYHAwB0plLBGjNul668M1OMz5oM++ThIWfdpyzoVvKps7zNrVM+SZxzjta4/bySCFdHtL2h4557avRodihJ0Sg6vs+PT1d6UlyJ7MIYSaP2By4BUxfvXmr1nloq7F3Jtz/enzKjk6T3zxv3B1a236rN+2I3Cs/fxn//ErLrqiouOmmm3r37j1ixIhrr702PT09Ly9v0KBByk6lEtZVNUz5f+7H6vp5OX3bvbJ93Xrrrd27dx87duzhw4d9RVD9+Y/GVTcCX34e7FPae07Rn4s8EXlXE4JklJ0AjglDWJKT5DuGiEeBUqA2QdVnv2MToG47/waNfJWLc1jkcRIyBw+SfMiMFn2H9rru4aRFa7sv+qRL6ke9Fmzuk7Kx/6It/R79utstj8V17a9iX7CiYhHz/J7SLR79j6ryy49oAusi8sayHBuIkZed0bDLoF7XzRw9/dW+yR/2WPJF1+nvXZC8fOAtKc16jszKkIzzs02dX/3EGBs9evQ///lPZZXatWvX9u3by8vLBw0aVPUwdbCSOpUE50ugSs9T/OjvBIBly5bde++9APD+++/fcMMNMfr72bn4+Z3nFP0BAPYQyMUWBGTQHew/XPzg7EebxCdq9To2btdn8uyF+w9nO8QGcAGsn4fs5Pb62kfkcF2ekDIpURKQwX1gCaic8NCUHr+YMCrlne7zNiWkbEtI3tQ9ZWPveRuGTP9X+3G3TU1OIVYlCOoxKYYg73/qz8n1+tw6Kjr92YxHDA7yHYkenjO3+Zibk1LXDkle1Wve5hYPv5/4hx2DF6UNSV4ZN+r3kx+ZfQLU1G2AMf73v/99wQUXVGU6jHF2dvbo0aMppaWlpWq5/SWXXLJx40YAKCwsHD9+/LBI2759O8b4/vvvHzhw4PDhw5955hnFcerkl19++TfffCOEwBh36tTpx+9d+BGtx6S/46bqnKI/5FK5ssKVYcYC4I1VH9XrNCJ+1A1d739u+Iy/Jj34TKtRNzSIH7R58w7Jj8Hi47A6+a/HhUpYxJK0xxEgCygCjgzi2QBZhcX1uie1u2bW0IVpHeds7rP0s26zPuyXvGbwTXOadht+KP0AcBsYYsrze/KXjx15cghEpT9BxDHMKTDvvK79+9/3Yuf5O3rM+6jXgk96zE/rnrKxxezNnRZ8PmDi883ju5/gar4l8dlnn503b55/Y6hwvIyMjH79+jmOwzl3XVcIsW/fvl/96leMsRdffHHJkiXqzLZtf//99/76/fLycrXYX77OMR4+fHhRUZHSoHv06BEKhaKOK0Z/x03VOUV/kvsk/TnAWFZOidZ+8JBbF50/7bXOS7d0mLduwKJNibPfG37Hk1rbwRmHcqVBsJpNWf187YMxdsyUw2FfeubkealauwStSfNW/YdPeCRlT04FCPLBxq1at8RmF9016MFX+kx6afT0V+Mumai17bV203bgGLgL1BNC2v5iS36rORv//fBoNMGQI5VfuQwRMc/QGrdJnLG8XeqX3RZ+3m7mxh7zN3ROXtduydcdFn8z/JG/aU3bnOBK0ehP5R2orKxUtr+SkpI777wzMTFxxIgRcXFx4XB4165dnTp1evLJJ7/99lvGmGmaXbt2nTVr1qZNm3xTYIz+ToD8Sf10TtGfJDTp16Ag+G0PTG839tZhM97ok7KxW/K2LvO2JyRv7zV/W7/pb8X/6sHfT19oMn5SCP7kIF/B8fXfrWvWd+w3Ukv6zaDk17rNeLX3pCd7XnFXg9Z9Ptu8BqhZkHf4wWlzGsT30Zp20lp0vn9ack5BGSFM6sgUAcMgAGP6Q1mqn1wvtuNUEYhGfwCcAahYcxCu1jJ+7Kx/xM9K65KytfvCHe2mrRz4xCftUz5OSPko8YHnW7breILr/6zy6/s3Dh48OGzYMABYsmTJvHnz1OJuTZPJBDzPKyws/Ne//jVs2LDly5erPcuXL7/++usnT56swm5iyu8JkD+pn84p+sMMOBWR+GEe12Ngv9sX9FuwvvXCzwfO2tQv9dPOCz/rkPpxn/lr+9yxpEG3oafs+lC4+6/93bt310/o3/+6acPmvNMpZUuH1O29FmweMv21wfc8Ftc2IT8nG6gJ2ATgpuVJ6ZS7MrtLRN6LWCrBc37Yc1JTGjvoZBGISn8CZBwAgKVXArcenjGj5eibB8x8t/PU9/s89nnnBVs6zFjRbc7qwSmr4kZeN2PGjGjX81+ESl7zXR8A8OWXX3766afl5eVDhw61LCs1NfXZZ58FgLffflvRX2lpqcpl99e//nXmzJm6rhcWFgLAzp07VaSar2rEXB/R8P/v+88t+lPCH3EEcK1x6zHJyxLmpzVd/F2/lJXxc1Z2emxH24Wbes5ZccX0VzStnXR+VLP54p5fYM9xnOTkZG38pJHz3h6a/GGf2Vv6pH4ZP3trwoKPOi5Kazvq+kmzH5dSppB+YawULkYjK33BQ0wqvPJXeYA4VWm0moM4hw4/Af3JPDzSikEBB3NzsrTOiT3venbk0k1tpq3utPCTXvPXDl+0Ov73i7XuI7MO7YsGmX/+4wJfhgwZcs0112RkZGRnZw8ePBhAOigSExOTkpLmzJnTsmVLxtjrr78+dOjQxMTESy65JC8vb+fOnaNGjRoyZEhiYuLmzZurEqvrurHAl2hT8F/2n1P0RyMFQkHIWlBafL+h9z7Te15a+4Xf9J27uuu8TR0Xfdlm7mf9UrcMnfi01rprxEf7X9A77mc/LMtfcQgAbdu27Tj5jd7Jawcs3NZ5xrreKVuHLP20x6xV/VPWdr3vT1rCCMAcmDQ2MQYIcxp57o47c+xrTSDg05MioP8f9/fjiwkh1q9f37Fjxybjpgy//+Xzp7wy/N6nEy67XWvXZ8uOrzk+kY1YrUfw41TUC1JpBmoBiQr3q0pnP774f/lWdaWKr3CcYFyxsOcfAXpO0Z8dCeYT2BGC3T0jte0ldw2c/laXORt7Lfw4Pnlrl8Vfdpq3bfDc1U1G3TxrydNAnR8hdRJf1L3uayVK5dE0ree8jQMXfZww9f3BSz7uk5rW6qH3+iz9LH72ltHzX9cadpHRMALZjnRxgAAWo7+TgPq0HBKNJvwIO99RCwB79+69a8qCBu37as07a6273Tp5ZkZ2HvNsoCdSE5Tc5xOTf28oHvTXovnuslMYlyJQn2H9U6nRxQJfTgTpOUV/Pyz2kFHO6TlH63cb3v26mWNT3u4yZ8OApTt6z0sbtXhDvzuf0DoO3X84B8SJbusTYOqrwGpxYXx8fIcH3+45e3WPeau7zFvVc+mWbos+aTPn44TUrwdNXKq16AWIgpBuRmn3o8BkZGCs/V8gEI3+1LV9QlF+BrmT2oBlDJOQ1lkuIzE5AXJS90nV9AoIIZVIVV3CX5N6ymOuWqMxFvdXDRjPLfqT4pXkGk8vA+ArNmxt1mdk+1FXd7/j6XFzl/e+ZWGbsbdpCUPeWrtFPhjVX2XhPzBqAtTTNWPGjCaXPDJiztv9Fq5NWLypw6Mft52X1jN1W+85m1qMvm5m6jPAgFFXBkRHlndEYqOrMYOxQ08ZgWj0p15gvn9WUZWU4Bhhnk0ppiANtdI+SKsRkKRuD18AVCKh2qkkuFMYyHHKr2LqaOOqIxlfTgGmaH9yTtFf5FbjQL0ItcnltAezc++dNqt5nxFao9ZNO/R4eHZKTn5BxNVAOaq28quSICnDn1oGDwCHDh2q335w/+umjViwokPqhhZzN/RasGH49NeH3PZYox7Dd+05AowTHgnIlpTLPBZb3Bbtbj3N+09AE/6VFPcpjVKuvYl4qIKOp+jvv2aiUN5bn/L80yqe4pzbtkzjqHri/3ryG+oP/dx36g9PMK6Y7e9H2J5T9PfDTSajn4OBMplRGdvy0zOlo0Mg4B61QyAIcZ1qvNarIKpe6X6ORXXFtHXrm3TsXy/pd4Nm/rPfjNdHTn25y7jfay26v7U2TTp25cNBDRK5IolVNKqCZg1vRqOJH+4TefmqclnENgtYVp4ikVXbLrV0abCI0nyTn/97VcOIZVmKBG3b/ik/+n9y4o2qJ1RH+vZENYqY7e9EAJ5T9CeLBLjSyuZSIXOuMAxAOLEikYDU1oMR1Zgi24oIgCfCLdpv6p5TJnP15pdHMpyVmXP31BSt4yCtUacG7fs+PHP+4axcGddCgdg2khIpAc7BiQTbRjt7bP9pRSAa/amLVPV7qD2C0LLCo9f+6rJA8REQtnxfCnoyJfgs69h6baVQq09FjqFQSJ3c17WrNUQ//6Druqqgh5+1M0Z//x3Jc43+GIAnZNopFDHfcCEXliEA3eM4Euiv6goxUh2jzg8w+ysxldSgdsu7XC41kYXbADmRhRwEsFzLIQ3nmALnnox1xvInElvc8QOaNf9/NPrzpTZfKDu2IWDm1EdanNcoedYUmSAIwGIgi5BGb1VJLSsr6+677+7Vq1dSUtI111xz+PDh7OzspKQk/3LRT/Pzv6g//OKLL4YMGdKmTZt33nlH6dHRxhWz/R2P47lGf8ePP/I9CKBLOYzKvCzCIdhmQt7ctT38WCnSBHuUILWG36OECLmiC0XKChNPJv2yqSVjb05xjd/PIlo7dkajCSEXvREaWSIUsYG4goUBSGGx2b2x9tWUTj0aaWZRIUURLeGE/FeV2i666KJly5apV+Pu3bt37tx58ODB888/3/csKzdI1Zj5qqGIVa2EhBB1ZiFETk7Orl27Jk2atGLFCoV7tHHF6O/4+zJGfxIRwbnnAadID8lKu5HMCMSLhDdE7D21d/GZ53kyEkJq+pQDo0xVUw8fGyYDWWIYEOcUnXsel2g0wdixKqPSFy8AEcwist5D01IXjtPKF3dZdGnbR6bPZZGlwdIHHL1xzlVxsR07dlx88cUq04E6nBBy9OhRterj0KFDl156qVrXsXPnTlV7ZPz48cOHDx84cODnn39umuaUKVMSExP79ev34osv+mdQGwih+++///3331emwGjjitHf8RMVoz+JiFcOzD14IHNW6pON2vTS6rdt0z3xnhlLa33qgUhpYAbgyJUJPGKwJ7KIMDJB0LAnAzikVk484VpCCr/nVotGEwKIzDSBMXGwEJHFvwyOVgS6tGxcMLc1PB9/aGr7tm1b5wWDMjN4dNgUGSkxTS3d9bVptUAoOzs7MTGREIIxtixLCJGfnz906FAAeOWVV5YuXar+1jCM9PT0K6+8UtkQTdOsWutRHXPPPfesWrVK0Wu0ccXo7/j7O0Z/EhERWLFujdZ5SKMxNydNfnbs7Fc63Tgz7lcP1vrEU5HSwCrFql84ODM3d/LU+VqbbrKscNchkybPP5qeA4zIosPnWItOE5G8kIgB5yiyCBEDPPDQ/cmj65FFDciievB4q8nj2kxKnu1Kh9WJUFPcxDl/7rnnFixYoIop+g6Q3NxclfGlsrLy3nvvHTx48KhRo+Li4jjnH3/8cY8ePZ544oldu3YRQsrLy3v16jVt2rQdO3Yob4mqz+lf+7bbbluzZo06c/RxQSzwxUdMbsToDwAOHzmgtenW656n+qd+2PbhN4Yu3Tj8sU1dZq+o9WlHiS0iZYJlwlSp5JI1Wz/ROvRte+nDgx56YXDy34c88ue2F97eomPSu++sBDjn6ghHowkZ23csLzchAjCDYEmwS5wWnNPSebSl89h5sKRRydz4tu3qFRdnedEX6SgyUh7kzz77bPz48f6zpwTDgoKCQYMGcc4ff/zx5ORkJbvVr19fkWZpaelrr72WlJT03nvvAUAwGFy/fv2VV145ZcoUZRNUZ3NdlxBy3333rVy50o85VY/2T9cyx+jPn4IY/R2DYvIjyQkX3T5k1preC77ss/CLbrPW907ZkpC8pdYnnReyphIG8DAC4ebl52otug+YsKjn7NW9F27snLKuS/JaWWL419Pjug49dOjgj+6Mc+BLNPrDYMvyArYgRJeqLYPH779z2vjGkKy5f+rrPtUBljSDZO3hy5qnTrnphKY/KV745bN91wfnfPfu3Z9++mlmZmZiYqLneSkpKY899hgh5NVXX42LiwOArKwsIQRC6OWXX37kkUfC4bCuy1pXe/bs8QtzA4BShxFC06dPf//9933nSYz+Tur+jUl/ANCgZc+LH3xp4NyPOsz5rOP0jUMXbek+e22/x76o7SWHhLTZQ9CJhKdhfeLkKa0vnjBg9sruSzd3n5/Wbe6mhHmfdE7dPnT+6vixN0+ZnnpSd0wdOiga/XlgRcLRQYBLgeTsTh/XSPtuQS+Y3yj0WIK5sAk80xHm18tJ7TIoTsstOBa491NgKKW+AAgA+fn5t99+e7du3fr16/fb3/42OzvbV3537949cuTI0aNHz5w5s169egDwzjvvDB48eNy4cWPGjDl69Oj3339/wQUXjBgx4oILLkhLS6taX/ibb77p3LmzzKzRs+eQIUNia35/OhFR98ToDwC0Zgkjp77cLXVruwWf9liytXvy2z0XftA+9cNaX3BSyHo9Un6hDnArrn2nIROf6TRvW8f57/aeu7LfnI09Fn7ZdsnX8XM/TLr36RbtZMXFc6qdgP6kz5eBw3UM7mPTpi8c07Ls8fb88d7o0dbwbEuW3JA93gMWandd2GLWrMUnBk1JZMrpodhQHe+vz1U7j0tboBLZq79Sn2oZpYpzVudUVS7VKFQ66Jj0d+K5OP7XGP0BQPO2AxMnPeWXG++fnNY3ZVWnBStqfblxYsokNwBY+kCo1qjdiLnvtUz5pn3qhz0XftBj7ju9Hv243YJPu6RsTprykta8y/E3R13/foIy58r6JpcJOc4VV1yhVWn16tVr1KhR/fr1NU2Li4sbPny4Iqaz51OlGlKzFytzfqK7OEZ/APDwtPntxtw0JGVVQsq2jnO3dU1O6zpvQ9fFaQNmr2x98YSJk6cA1kHQoCMXzAkpGNSSJpC03MvgFmnJb9a5b4/bnuj36Nf9H/93t1lrhizcnDAjrcOcz/rP2TLugRcbte5dS0Z1OrupRCdK6aFDh/zsKX5YiRK1wuGwuqQiOF+7xBj/dMnt6ezcqZ6LRJoy/6Wnp2OM/YXAMdfHj0CN0Z/0/B7ObNkjsfs1s0amru82b13X1A19FqX1mrNmwIRFWovuefm5IFwPo4g+JPnvRwiexV8wsmVSJpkun1I78MicefEXTxgy/V+d5m7tNW9zlxkf9l30776Lvh48c3XHMRMenjr3LB5KjXStag6+vLw8z/N8oU9dT3ktlEbp65u+V0G5XzHGZ4/cp3rig+V5XlZWVlWOjtGfD47ciNFfBA777X+tiIsf3ur8WwdOfmHArGX97nuu5bgHtA5912z9JJIbwWaRCBKZpEAWQa817ViNYOoBt9MP7m/WPXHwTXO6Ja8c9mja4MXr2015c8CCdb0jyf0PHzlQa0Z1+jqqcpRRSgsKCgzD8G1zGGOfCpWOXLWSgW9uO30dOc1nUivnwuFwUVGR6rkaToz+fgR0jP4kobEwMFKQkXfflAVaj+Fa+55a+55TZy7KzM31o4WJH94fiSX+EYhn6xeVoInLnFqRpAocr920XWvXu8VVkxNumDFm5p+TJj/bZOytWuch7324GkTgbB1HDfbLl+kUU6Snp+/ZsycrKysjIyM9PT0jI2Pfvn2ZmZkHDx7MycnJyMg4FGnp6en7I00dk36WtczMzEOHDmVlZRUVFal66j6CMfrzoZAbMfqTIACVids8WxnJQm4kUgSZcn2YzOwmV4w5WMbQyRZZSaY2z/JPIQfGf0gt44KgGNPcwvKJMx9t3W24Vr9t47a9Zy/4w8EDmcBcQBVn+XBqonu+UazqyX0Z0M/c4+cTrZoF62yWAZX5z++hyoUVW/RWdZbldoz+IhEGIGQCQMSJo/IdyIwAxJCZSJknM1UxmTVAVaE+HsGz+XtE/HMsWwaw2ZF0qpE9Un6NpHUAxrEhJV/muudiypfI/e/7f6va+IQQSi+umu5UeVR9pVjNvJ/b8ezZ8NeEqBFV7XBM+vvR8xqjP/kO4DI4zqaWAI5dqeV6biQfquAelUKf5D6CiEzzezLZLX+E8Bn8IksDC66KpssIGCJNlzLtCwDlhMhlcK7M/Qo0DHDOrfj9gft8Ec9XhNUe/6uij6okotaW+fvPQteHkvtUD6uGHNYF+qtqy1RMzzn300uokSsBXo1cTaRyY/l71AYhZMyYMeoRVWfwZ/0MPrcneWlZj0hIbnIwk480CCZTj/+wBl0yWETI4USlcT7J054lh6npUOlAjnWJyFhczjwGLgYLI0uuzSKRyD4AKaBG/mEPCeAW/i+1StRdpAC0kax9bINc3yopkYLrSRnRRjIjYKzVGQTqAv0ppdX/9OdGMZr/mlJfFRuqtYFKzvdNG6qMy6hRo9Qe30Dgn/Bs38AeOJbMTcQwCCpkdBt3kYMQ+sHqEaE/21EFqQAAIABJREFUQRlyJAPWqqaGUPVt5HlhmbmAc4GIlFcFmJYT+R+4fBFE6C8yxoi2/sNr4CejlimwZIpr+eqUBkEkSzXK1PwQyfBJj3l5bKLKb8b47ycI1toddYH+/EfCzxOrJDt/CbQiPhWzXtVhrxLGqrnzo4FGjBhxHGPWmslllqrZJmORsYxGljmNI7Z+vwYCo/KhjtRkqDXxev78+hPxwwRZR/OO3Ddlttaqh9a463ldhtw+edah/EI5bE6Ia0kdXSVzlvx4zFXjn8Tf8GQx9Qj3qaJ3ImL0FJTItXEEKAXHYUime+UgZKrXWKsrCNQF+vtBtJFzQgjxH/Wq+30R7zghUR1c1SiQmJiojvmpuHGWTzqS5bZAR0TJK1KocaQU5Lgyt7taNRn5n1OCpGZcS5pvjFczoqL2AWDTeyvbdenfZMTVw2a/0m/aK4MmPZkw+qYGrQZsTvtI8jvSARAGfoyuJCo/3ywmiz1F3gqq5DERgtGIYi13ci6pU66qJ4QoL8nPnye2t9YhUBfoT0kHSpRjjE2cOLF79+49evT4abavOXPmdO3aNTEx8T//+Y8/VUru8x+qESNGKPrzadQ/8izf8CL0JzVe+SxHhBXGlYWfC7CdY1UYpC4c0YvP8uFU7Z4KyKhqvsjKymrQbujwm5P7TFnWfWlawtKPuiV/MC5l5YDrFzVv12fPnn0gbEFNmd4qksIZIipt1XP620gyHURKfcqYnvSco3fPSNXi+2mNW8f1GHjrA9MzcksiEqWUEFH08/gnjG3UFgTqAv0pS41CnBDy3Xff7dixY/To0X50kmLGtWvX/vKXvwSAr7/+ety4cWpNj1KTj6mKEXtRYmJiNFHxbJ9UgbAdAh4pWy6QXI/BCBDkElnNR3kC/DLVUq6pJe0HVVdKYKrLjLEZM2bUu3Jq/5lvDF60tfPsj7rO/7xzyicJs9b0Xbi+7bCrHpn/WGQ1nitFYAEYUxnKF6XJ+p6yyCdlgq7YsLV+t+Ftx98x9N5nLp69rN/tC1pdcqsWP/itDz6SHCml6FpjNIgy3Nju/49AHaE/JRcoRqOUlpeX9+nTp6qea1nW9OnTly9frobepUuXYPBHsQ3KbhgMBi+//HJVJLSq7vz/ATubt5grbVWCf7dr/9TUx7TmnbVG8VqXobPmzt+176Ay8FMWeYIJqUWjU+K56rD6dBynffv2raa81Xvhpi4z1/VO2dp97taOc9L6PfllmznrRj74vNZhsG1awAhl0iAgx8yP1Zb96QTK8p5AELYPZuc26zOy+3UzB05/q/e8tG5z0/ouXD9w9hsDJixqmDAiK6OYyyIhMdvfTyGsrXvqCP1VNd5RSvPy8oYNG6YeFSXKEUJ+85vffP/99+rrFVdcsXPnTkWajEmjzptvvjl06NCxY8d27Nixqjjpp7uoBTMc4bS31mxr0vPCVmNuGTzxqdEpb3ee+OfBw0e07dDpvQ/WyApnlKt6j74kVQvGFemimgjfi1WvXr1eMzf1nre519JNCamrE1JX91i8scecjX1mbxk+65/aeX0k5VHKqIyDEVLUPZan5GfGy11Z3B3ovdNmtR919bj573SZs7H9wm9aLPyu1aLPuy7cmDTjtYTzb5g2/VHu4UggzM+cI7arNiJQR+jPD/RTzFVQUDBgwABfaVLiw3XXXff555+rSfrFL36xc+dO5QVWQTC+Xen888/3XR+1SESS4xJwOEsmcB864fE+yZs7L/ymY/JHA1PXxc//pP8dC+u1jj9QUGoDeK4RCe79kS6pYDmW44jSnIwjU6bMbt6um9ak9XntO0ydOeNQ1n4QGFgYiM4EJ3L1GALBZTQdkw4B5WWOdIMCVj5ouXBMeliIrJwrXc4YmZKVIm4GAEvuJwKIDMQhROqnHIEgBHsCwCU4Erqo4pSlBCdT1XP5SQS0ap/QYtJbgxdtHbhwfcL0N/o/mtZ1wZYOKTvaz//ykomLtPjBZsTrrSIcpTivRvhzn1KcEwR5ZvM+I7rf8XSXORt6Lfy479zVfee9P2BmWrfkbZ2Xbul6/3NN4hPlGGRI5c83geXvhucA49yxMPDdWelTpzzSOKG/1iihXvt+02YtKji4D7ABoUAEl58/T2zv/xkCdYH+fJpTqAkhcnNzR44cqcjLzyI7efLkt956Sx3TtWvX4uJiH2VfFKrVqz4EQpNnpHQee9Owact7pm5rM+fjvo9+3nP26u5L/z1k+t87XXz97dOS7UhRb1nXm0obloKIMVY1NdDqdduadxvRYtTNQyb9KXH6PxIf+mPjUb/TuietTtscoTxJJZIDGAYuXaHKkaJ8R5G5UCvIeF5R7uVX/6akpMRzZHYs6WoWCEWWlLiMUBlRQqXRTa6oU14bJmQ1bem48TxHujtkalIC3AVsyhTNMjBFcifGeMoj01pdNafbpJcGLt4Yn5LWau6m9nM29l/00cDktW2HXTFl8R+lQ4MxaQEU0q3rRnX8gu7JLAgARGvUetzc5QOW7ohP3tp13qaOc1cNWPh515QdHeatGzb9L1q9jkBBMnW0xsEgHpPOYhlsvmzlmoY9h/S68Oq+kx4dlfy3XhOfaHf5HVrHXm+vXiWAI1ZrbK/RhlsH9tcF+lPTUDWgLzs7e9CgQUII5b1VCu+aNWuuvfZaIcQnn3xy2WWXKdJUKpWv4dZq+gNK67XtnTTlpR7z17Wdl9Z14bZWD703eMmOjnM39V38Udfbn2jRJwmEB8wi1JVFy4Xwed+/lbOzs7X4QUNuSx00e0X8vO1tU7+MT9k6eMGa+AmPNuo69Jtde2WqeCJszIEi4LJ8hhKH5Pq4SCg1A/CoIAKmTXugX5y2YMpdjjKYMZVnBQFYAK6Nrb2Zh6ckL27Svq9Wr2OT+MT7Zizel1UkzybdNHKBGnIj3mpJYZLF1DI79XvW4WztvIRRd6WOXPBBfMrWHk9923Pe+hEz/zn8ziUtuvTfnZErlV9BQUjR8oTlZ6XIZoUDIFDTDj1637Kw97y0Lou/7Ljo/7H3HeBRVWn/h/TeJ5NJnfSQQkhogoi6+v9214YVxUIVQuokk+mTSQGsu5Yt7q5rBRWlk5BKKOqii7vfLojUIFWRGiCZdue283/ec8JlAgRFg1E/7pMH7ty598455577O2/9vZtj6jfEmj+UV6/PrGkpKPqdT2QqeEcGdn3wfcHXrPNs9+6uw745N0bdWXJT1dtQRMncpqzfkKh6V/mI2Sd1zNauAwPKkNKTuL5z7UfglwB/VISh2uupU6emT58eERHh4eGRmJi4ePHiP/zhD6+++io9p6qqiga+bNmyRZIZ3YOff97w53Ihb0W66s1gbZOsrkNZ15ZiWAtuAV1LbM0/4koWI+9ILPRg1zmAhvOeX4qA0mKgUqm8x04ZU/16bm1ruG6dfP6/oo3rY6uXD9e/7zvizhLzUxBLQzRZkj/LiiL4AoicxWDBxXKClaDAiZOnM0PQ0tmZYwNR13G7HSRChgRdc7j7KObYlpYNHlFZoaPvKyh6Lq/iz/FPPi8f+4BHbOFbyzuIp0LADicWsMsJqrUTYycpPM6RlD4n0DbjDe1NKDTaM/+unIrXMlWLsmb/LmzMZCRLWbJsJUAfSzzgRGBkOcFF+nzZFwq+EjksOIvV+vAJj4y2NCl0neHaD8OMa2WGjiRdR756Sejo+4qra1wcww0MfyKsBAJAvcDNKtF6j31wRG2jUrMuTt0Wp/8wzrwlrrqzULMqpHDK7BLTdeX3ss/iRz74S4A/mOuEkYKOnRSvJyVycBxHA8eomY/GA9Jv6b8SFP684Y9hhsVkZ1e9ITetjbG0xOmW59R1xqrWJKuXJdV8NFz9PopMBuOdAGSlTgZIgGiguOTqYRgmNDQ0vvzdBNX7IxZuUFSvlqmWZzSsi6laml7TlD/7Wa/YLE7g+9yfgijYe6n5D+RrwYFFSAsDPVcU1cWztKOR6/f5NYVIXV4CuqcIKAaGNpbdtXM/isge8djCfPWSDHNztG5NbF3b6IrXcx+xoKjsPV8eBc3Y0cc3c46Fq2g8IyjaIAkymLViobdr784itQFFJCNvuV/c8BJj/X/3dFGhT3TZseACfRmMnNTfc/mXi8ibHGc78+WhwygmJ/3xBdnaFenGthTt0jTj6gzV4hGPLfSIytq2p4vDnI0bmN4VKqE5BcGOnYxvVFpB2Yvxxtaw6k/zatoyzZ2hJY0ZDf9KrVg9ds5LvlGZV8hCuXwrrx+9BiPwS4A/qtvS2k50iCjjNi2T7B78TPclVZfuuAuPP2/449kZFUaPgsmF5g8yalYn6VbElH2Qae7I1S4bZVyB8u8t0tRgwYY5u0AkKSlH0H3ovLy8QjXr4i0fBZcuTTG3pda0RlesjNO3KnQdN6j+BvIjEX+sNPqNxNn0BdQB/AFTAIfx0T1bc0LRV4YYlzFwd3XiDeHoq4MHOOI0tWPcywsPlJuif12UWflOkq4jWt0Zr9+YoOlUatbkVrwpmzj1sXlVRLTkADGdIMjxTitmAV6xyIjOHmoNBH+uyEKsD89gnuEcvTyYFEGUcwEuc1gErHYxDp5zEQPlgC8QY7MSVMWLVrWhmDzf0Q/lTH/6VxV/Sn2sVvY/c1FEdmvrRjtr4wiRwkB3ERjgmIDx4QTkr8grfkFpWRel35JQ9XbuwtZY49rw6qY0S1t28R9ReBID5InXtyEegV8C/LkXtZMCI2imFKQq8Tw9SKnKqK5HxUCn0ym5jCkI/rzhTxC69h7wi8nMmFw+Ur1YqV6Rae5I0awaqXkv677y6PTcbTt2QpUfYqGjmEURUBAEOkQMw4SHh8uLF6UaGhN1LQnGdeHlaxJNGzLrP46uWJU/96UQZa7r7DeYcwLM8SLcimNBvuJZ7OrlOZeVB8Pdi9qZcwsD8MIQ1hRsm5+izUPPm8qhyKQAfFkcxsPistMer0s3rYnStytMmzLNH2VVtUTWbs4wN6VNNfrFpwPhoMgSdRJjrpcAH/fPf/9XVfMUCktE3nJv5ZhZ2prPuw7C7zEOMESClgzpaQCA5M/J9IE0tBO+vfwGmCli1gE0EKIobu/aX1n7DAqLRyhyWFz2A+WmXTv3Y/AUORw8e95mcLlbgVeHd7h6MSt6RaVlz1qQpP4gUbcxRr0kRr0kwdwYa2hJM61NeGIBkqdcD6C53Aj+2Md+CfB3kf1eEASq/0rHWZal+i8dXYp0kmrslgz7M6c7hdgQV/OaRo+obJ+JJbI57yZqGmVz30CTKlB06trlb2ORg0I/AFbc7q/OFhUVRUdHe3h4yGSy8vLyHTt2YIyLiooCJz4+quIv2doVSYZ1STUfJ2rXxZd8MKam2Wv8zBkVelCfuV5QclkRi8KBrr0zS6pi5DIfhCIjI+dWGv/56eY0D/Rx/V3YjMRnkoSnU7arM+I90Tcnu7FoBR4pB0Yo8vbKV1J1y0INTfK69XLt8nT9Ut+az2IMzeO1f0U+YeCZAf8MqNJY5HgBL2v70CdplPeIe0bMfmGcbqn88T8pxtzmG5v1/ur14GtlCNUXYLKLIcV8QdgEWCNWTh7ExgHfLQqW4I61E5x1gJcZs9gBSG0VRAjK6T6KMYTvwKGBNgjKEeDHRTy9rMZ/4mN5xmWpVY1KU0d27UZl1Zo0bWtK2dLI28vnVFhAeb++DfUI/BLgbxDH8Gct/UkWzF27dqlUKplMhhCKiIjQFE07cOCQk765ghULPctb2pB8eNTNMyOm/S3G9FFC2bteYx5CMTmr2z86/OVepMhJvU+dp1ueYP4oTPdRjKYtQ/Vu8rTnlZEB27Ztd9KoF64HCz3vrW5ECfnREx5Nn/OnFM0K+ew3/H+lR/5xqhuQqx6xFn+8wAebPZz1afX5Hk/NfhRjDHF/mEVh8bkznkk3toVrP5TXbI7XtaRpV0SZt6TomnNnPYtk6VSHBbEUzuf27duLQhR5j9WlaZtjTP+I1jQPN68crl2tmN7gE5J69NjXnO0kZh1OzO77cndJWbFnVCLyjgqNjC+eV75n7wGQ/pgTA84ToiaThJk+SkTqE2cJE4yIWQH38JhUicPYTkyJ9FZUZJZ0C0wyTHohIMixe/dOb1lK4oNl2Q1vKQzr4k0fplk+yqpaMvxRMwpP3Xq4m4zDgC36BXwhzUZKEw09EmyQiClC4hGlpBzy4J/r8Ndvpv2s4Y+KsVS2pT6Nviko2DgehB8QhbjeXV/8NyA5P/U+9djyv2SbWpJqP44te3e8YVHKvVUoKuPLrv0r2zp8E3MDxz04fO4f88pfu1H9WtCYB5BiROuKd0DRBG5kHgu2PTu3haSPSrm3KlvXlGJuizZ0pJvWjX20drg32qeLx/UIN8TjhgC8APU+E7neUJAVgo4c6z4HbbBX1T7jO/qhbO0Kha4zzrJZpmlPNq+Lq16bVbEo4qYnpqmMosiD7wIYRjnM9cUzjqx8M6WmM1zTnlK7QaleFla+bKxpeUDhXcUVGpLSyyxrakHylNCJT4wofmV01ZuFM+bLJjzok3Hz35cRDph+j9rtw3kCRI6lZBDAGwRf8z0YMywLfDkQ6gjkLxAhSLUKyWIg3YiQxIDBWbSfO3fs9K23PYKCRnqPfCJ21p+Ti18bPu9PfiPvCJInbGpbgflubP1auvAXtiPNQNovSQkjVhcwRrlYQEDpbwi7fx3++g3+zx3+aIEF9xhm6B5ohtgJDk4BC85SrT5w3IP5hpUZqiXZdZsiVasyalqSq5fnG1ZGTny8uKwas2cO7Ns1t1IdmJCJvMOGhclLKisPH/oSC8z5CBIB847iaq3vqHtH6FeE6zZGaRrlxnXxmuakCQ/NzPY81ZDT+5SSeyrdZvZxWBD7QtT+5woMtwQ/W/QbzH+NRcf2rv1Inpv++ILRlqYUXXNm3ca46qYJ+ncSJ1d6JIzYuf8Q6J4i42JA/8UMg0KTR8x7OdnUHKVvT7RsCpv3wYj5H8vnf6osXplW9kcUEIs5x7aureGJBfKHTUmVq+MtH4eqW9JMK5NLXpE9YPLLunXnrn39nrT7B0p/DVY9gWGYPnQDZfoUhCiKJNaFGDuJwQ4AnG7u9hNAS8ydPfk15hwftXd4BsuTb56a8KuK4DHFKDQBBcchn8jfPvzozm3/wjwk2A2sip+/+8//f0kApBWEexzgmILMS7K6QH30K9oSfoQBuA5//Qb5Zw1/lM3lIuwD2hunlXFRtk+OdfZ6y5PTZr6grN2cYlyfoGtPMjSnmNsCK5sVpo9y57wcJEsEdgDBBlYwwcE5zmHRAUccJzHfJwexIJexnrKkrDl/iNGtH75wQ5J6SZp+eULZuyjtLm//IAVCyQghTxQajMJ8UDBCfggF+ocUTBjXg+HOoigSH2tO+IRHUqaYb9S+kfjYM1Gjf+ufWvh+UztkfZw7Tt0dwMLDCsgrPrPynRBtm6x2U4K5PbG6OaGqLcjwUbrlk0ztEuSbiF32ck152Kj70ixtmab1QRUtsQs2R+uXZdWvylD9PWLsveVlVf2edL8PAHwkJhGOgq8M0k8EG4YsDsjD4xjMWAlzIGt1s9nRxUa6E1j9ePbw9p2eoXHxU8rSat/Oe741vnxxoerNwqrXYx+o8k4p3LdvH3bZIMdOuuyXu0NhjrofwT8JBWTOxzsSukkqVg/hAFyHv36D/7OGP5DuSJETao260DGS9eUSMCTtcnbkF5lZ9IrcsiVGt16ugdCWeF1TzIJ/R5o+yZj9skdgFI/xud4eEhfNwSWYdVjPACmUlD4BmbkM8g7LKX01pvYz2bzX8+qbR9c35WiXpOrXJunbxpS+ijxkZzAGxlGaJgv0o4IA3mIb8TCAf2D/4SPFar1fdBLyDgtKLZhVXrXjywM8OKZJZN/5kD3McMPk+cNVb8v0zXJzW5xudW79h/GVrfGWj+PqNijuW+idNBJjNjI8Orv495GazszqlQn6VrmpJUr7QUJtY1zVuxNLfh8cHnthQC7eo1l6mEZQgWWKEMRu3X9yaqk+NGME8g1CkTHzdMbPd+6hnl+p7Lek6HEc1wNedVxZWRM17oHshlXBC9d7ahtjTW2Jxo+jtW2ZdY1ozIOzKi3gHxGoDfTidvySPksktZKM3GOHsFCuL8ESxHoXyw+t+e86/PWbcj93+HPvDPV3gzjDQcUe0Ds4BxYdAQrl6NI/R6qaFNrWtIbNiurV6fUdoeqWePOGUcUveQeE2Ahm0ULmLgGYkF0Y24nu3OtwEV8Ei0XHsDD5iDkvxuo6kus2xRk2RBctyattCTNuCGj4PLb4XU9ZDmawaKd1gRnR5YAoPYHcpy/KhOUkdkIMjAOgEkK5NY4wj/ZBEuALx82qtHgW3F9ghDjkRM1KeenSdGNHhnZNim5x8k2zZquN4E5BwXFznk+p+yRFvTK9bmOsqS2hvjPc1Blr+TBrzh+RHxD5XH5zI7622YFtgcd4ybKVnmGpyl89kTJzYYLqr8M1r6GRd8rTC9tXNtKbSG+1ZNuyYdztdHlFpY178oXY8tUR2k+TdJ+M0m9Mq2pJ0LekWFbkFD3np8gRnPAsTl2+Kb+Eo5LOS0eGDtT+/fsf+s3NX3V9AcGYfT4l6OyV4zGv9XBch79+I/yzhj+a2eJGaApxPDAFRXzyrBUiSCDr1jqzqChy4qM5mqUZhuZYQ3uUpjFBtypJuypLuzR49H0qlYpxEep3EklCsaAPCp0MJW5x2s5iwTqntFQ26fEM1btyTYdSvzFVvyGl7uNhxUvS6xpDb5xSVqbBDhZzjCjaGO4cxqzL7hBJ4gc1epNIYwhCtJ3rBnAWWcI6xbI8Ka/GASb1VSBinXv2dPnFpGdMLi3QLErRrBhu6VCqlxVWvZ49VesdnrB7+38xZv1jszPnvpRiaEk3tiToWzMbPlRUN0UbNoVVtY6q+DsKj+v3pPt/oOnhlCSbx/g/n++IiFZkT2/IqXgt2dQabdyg0LflVb+bMbncIyZj69at9GoJ+OhHF8e6MEa+YWNK/5Ci7kixbEvXbEoveS9W+2mw4cOYhnUZJS8hvxjM2LDzG4y/6d+EX84naumj/aFQyDBMdXV1iheqLX4EC0CZAXmTIP8JmHAADVXnr8Nfv5H/WcOfpPNKoQYUEEUewkd6IDKOw0LPgf17UURm8rTnMzXL4g1tifUfxak/GNXQGP1QLVLkHT2yH2zzzFnAShHwC+YoBQaSKwL88SKHXd1ff3UQBSWnTP9dpnZtXtWqbH1nYNX6rGc7kx6YGSQPP7ivC4tA+nSOBLsAUZ6ArbZveHwai8BDSnwF8A64MHCugC1McAgilGiCkpICJPlSXgBRcGHR0d7c6CXP8p1UJJv7ZlzVsuDpf0CZ/w8FJCAvlCMLUM8rmjizKuqW8iT1u8m6lan6tYkVS7N1a9IN61Kqm4LGP1quKuv3pPt/gAIA53VeBytUaQ3ZIwrkNc0xpg6Zuj3VuDlV3ZarWV2oewdNmqnT6Wi4uNPplJRfUJxdDAihsfFpcxYoazoD1RsU9esUlrdGqFanWdoitUvSS1/yiMqFDgtsrzhw8lz/tv0cP/UxpwHjIjzor776Kigo6LXKe0aEoTOH98DCRiM6BRaszEO3XYe/fmM/JPD3PerzchwnKV8XOgAMVCSBlXCuQKyGSFRI/rQogLeCTDQBi46W5tUh0THyCTNGTH9+VMXf8598Wjb21yGKhLVNbVfKarjwS7AnimJjY6NcLved+OSokj+NKvnTyCef88m7A0WlrWlfB/a7wdp4K8+LTox37u0yVc5NkvkjT28UnDRs4pNxJYvTqpcr5i1CE6tQZGpYRHjm/epE/Wq5ZnXWwn+Ez3lnQs2qjDvKQmOGH9jz5YDNEaCgr4jxGcpeY7f6xCYnzlkQVf2PpJqP4gxr4+vaZeaOaG3bcH1b2qw3IiIi6K2k9YYuMxB8w/GzVRb52AdGV7yu1KyJrN3sW/OZrOazRF3rGPWbkaN+M69aT+wQUJYK5HHWhrneYxhjx1Hy5FwQGU7CrXuBB+y7hVsP2LGh+YLBUHcZi5jhwN3BC3j+7Htqbg7DBmSYGFChqmIw7ia8Z5gbYg/4dfjrN0WGBP7w963P2xedC9wFBGtIJBVxtJGqJYBkHMc6HESMYqxO7GIJuR78e2DHF7MqalFUDvJPQQkji0wN//78cwJq/QbE/QOlBaS8fpLet23btmllWk9ZMvKO9FRkllme+XzXXgACfmB2Zfebfpd9wUbjDYm2ZPvfzzb7JeXlTDWlV72XVL06rmpFimZVvm5Z+t1FKFCGojP9b54zYs6L6dOeG1v+F/+xD3slFb67sukKIRaMS8Qiw3J2IDO185hlkGegx/iHPcPjkZcfCgiOnvA/cY9aRizcFFzeEar+BCEkmbcgipGDVDkYEIERWe7zvV97xBbmPmLJrXgzw9wUY2hOVK8ZZVyR+qDWO2nEf3ftIZRZwK0Pkc8uB+Z7YIc9vu+bk1PLDR4x6VedbPddxvBHPEfANh5i0E9gfPYEx+2yujLkaL0qGZs8t1RmpIei46e7wa3P9WL7acyd/hGbdvFPXYe/fiMyNPB3lfV5+xyUoii9hBIYMQyLReywkwR+zAqQVw85uZyDtR7ZVz1vrmdgDPKO84lMU6nNX+/dibFgZwUnEKJQyk/s/DahTfqtC4wJ/FnBehJj1u50EGYVDmJluJ5+I/tDPjh7adwiSVhmNLX13gX3ZFa+l2TZkKRvVdZsiFU3FphW5qpeT7mn9P5HHplRVuMdkYo8IwMTch6eV7l9/0EOC8zATC2k71ZBPAcQ6XStWbQEBcUHT5oeNeOPYyv/MnaaPmLMb1FUfvhvVOP1S5Jn/kEmk7mL3hf2gX8BTJZvLe9AUdmyiVPTphrHa/+aO+vZ4PFTUHTmirYNdJwdDJRjJ1yGAtsNFIfNS15Filz/G6elTX/u9spX0h6vi/51EYrIbmnZYHNZr0y18EOG9ppcy2OrgwRCZGhhAAAgAElEQVQOsFbRhWfNraq+IQzXhOL6SH5BXOWN/o/PfEIENh7cAzLiUNK+Xoe/fhNgSOBvsOrzQoasi4MSP4Tmk6if1GmxZ8Xyl1C83OOWh1J1byqrX8ua1xB64+3B/n4dLU0QVkeD+1igQSCO3X5jIn2g77nEr0N9LADBbA9YCcm1Lox7nRBjCCzNg7UBdyrQ3EO+SG83CojKLX4l3vRhlH5dYvWyRFNHgr4lQ7syVtche+xFWVQoKUdOmB1I/TZa9JMFO8DlN2LYBI2N55wHuw4lpY3Lvrs0u/RPkQu3yw3r0zUrxltWRT6wAEXfVjDn+ZAJD6lUKqr7u98OQo5cQP6Aictoz5dHH5tX5RcP1TJRdMaT2rrtXfspJNht53hi3xQx/s/2nYYai1dImFdkbNxkTYGlMVWzIlW3LN20JrPyHXeiLfd4Q/ff/Snug1kTopfY3mO9J/bkBKPd5iysQ4zRDxvQPmNKegA6dvyQjWVoidEh7MJ1+Os3+EMCfz+kPi/DAG8f7QMDYWcQ54JFlmOsGAt7DhyYXVoR7B0hl6UiFI5QpKd/cvSIB5UPvlhg/vSGh8tQWNIXe76ELFXWyTogCZ9E5vcbk8t+kPzL4OY7D3xO4seAUBdgLLjsdd/roMixHLaCXArxgMg7LF/1RkztZ3GGluHaJfHq5fGGNnnlCnnDf7IMa5GHBy84XS6oZ0ICtoGjhXVeScjgWPCxcGDMFEs09T559xQYlybVNSqrlyZXLUlVL8s2tQ03rEVjZ/tm3+IZHrVr1y4Kf1JoGw23FAlHP6HqEoCvUBQgdQ8LAN4g47Cu3pOg9GHBynA2Aa9rWe0tT40Zd5d3fG7wzbMy1EvkqlXDTU2hhqYofbtEs1qisbC86wo0q99rTK/hRRwDyYJOjM9gXDF3as0EdHZ+KlMX7VqgwM8nuJ5LV4/3KCp+EhZaV/fQhn9fh79+82BI4A+yu6QIuO9Wn1fSQKXWC4IAASPwXgog/WHc2L4RhSqicsajwCiPGx+JLn4jydQof/JlNP4RlHJTxJ3FBVVvhdz4eGnN7wHAAEMFp4u5Ak5IXk7AWLLRX3exYh+1FOjQPGjbQHw/iBMbHDogTjh7sejwj0lKe2xhsuXD+Kr3R5iWZ5rWpDZsCipvjKhuS575QmBsEkOMcE5IruD7ConQUAtpsC7aIVQFEBcpcB6R6Xklr0bp1obPX5dhagWibOOGoKo2pakjv/gPyC9kSxPUSqXGPolkl1ohHKwLnotIeKqBqxXWIRJryfEumu0PhZw4FqJ/9xw8GhAhy3lEP1r1KgrPiJn5l3Rze7xx/XDDGnndeoVpU7S6M8PcXFD0O9+oNMwD7cxFrf7JfrSTui4MxjuP2Av80DflUdjoi80xWINwjQ+u9d+uTswIR11f7sWi80IK4VD05zr89Rv1oYG/q6zPS7FPAiOWZft4W+G9xISZTtix90sUGj/ijukoIi925u+U6nfjzO1R+vasBetztW/L7ipBiaPCZ78BDKZeMhBNeNDaOIGnfHn9BqX/h4syveBLArjA/AxxDORP5DjngGXF+9/v2z+JvMBQhn1HDxasReXlSb+Zm1a+OL2mKUm3IqFySayxI3b+v/P178eP/+2MKoOLGOCAvEXELPCcQi25K5uYzkJSIIdd55BHWKHqvRDVWkXDxpSqFSm65sT6j8JrPo4yb8w3LkM+iUTAhvwQOg7uzwLkR+AeBI5++BMBfuEIKHkQfC6VK2E5obi8Uj7psRwDcHGjUGWOYVWyvimsqjXN2HTVJZa+fQh/1DN6gBjCJnBnzIaiOeP9jjaksg1hPU8pcV0Qrped1YadeXZ05VifmqIpQFtrHzwX2dX38jr89RuzoYG/q6/Pu2vXrsrKSkppJZfLKyoq9u7dCyoWxxPRT5hbXp056R6/vN+ETZqRrF2bpV2Zb1iZWr0qQdeeamgfbXjfY9SD6BZzwbyXUFiSaHcQZY2A5/mkzH7jQj5InhYp4KNvhwfSUwKCAscB2tDqHJfe4XseEUCahbQTYB84s3fPDhSZlfjYMwmGxhhTR2Z9e4S2PdS8OfURQ0io/9b9hwB6WII+ZDkg9jhGdParau/eEhHkVUHAPVg4GRmdlPn4H5N0G+J1Tenadan6tjjNqkTL2kTNexkzF/jKM6A43flal9IOZX+RLJ4uUu7NSbI7XERudXKie3aX0+kMDw9Pmv3nGNM/4rTNyC8scc6flFUfxNV/Kq9uStcvzapq6VdgEwIKfzbSH+Yp/zY7bsxYhDz8vIb5IOQDOeCBaBjy8gv0RSgCodE33nYUTNNDyXt4Hf7cXwRQaoagzu9A9XmrO/OfqPMIku396jTETzltlLtl87I3AuNyvG8sSi36W27Fm7nFr/gWPogiMzpXLXGByc2B8WmkSJWXvefrhRJLPsjQr0rXN8ZXrknRtyfr2hLVTen6xtjSxSgg8bcz1J6yVHtfThvgC6WZ6jco3+0DNUG6//vdrrvqswY93hDi78DvbceCrbhKEzHhwZHGVVHadYna9Urzx/GmD5Wmjlzde77j751VY3bS6MmrbnWfDCitHMOGDYtWd+aY1+VXLPK5uQSNmj6yZmWCZmlizZrg+VsDdevzGjaMKn8tZtyDc9X1IMcCA+v/uY362eigSTbuQRyF6/DXbzCHBP4Gqs+b2vDP3LK/x914/9QSTa+TFntkd+7aExiXE/kbdZqhPUHfGq9tTDe35xtWKqcuDJEn7jl0xM46MHcWeQcqy95G/iHKeYujq9vT6j9Kq+mMqViarG3MqetM1q6NrVyJ/OXJBZMeL1afcYJ45XA4GFufD7ffoHzbB1EUpVgcSJ8gQYdSValvu/rbv7/W8YY2htQgFhjsPPfF7i4Umy+/RzvSuCrJ0hilWhJb9X6+cVnKFAuKzPp8+25CLPjtbXY/g763dFjov3a7PSoqKq301Xj1anl1s+KJ51H8yORb7p9YsyLc8InC2JKsW5k8+0+F0xZ4xo367PMvQSz/v1cbhE4hOrvouEk1fNyH94fsX4e/fqM3JPA3UH3eGH1HSs26lJm/90vKI4wADMM6yypV3jcWpRs7ZJZPI/SdyQ0bwzVtseZNyfrmkBvum12hptFkwaEhBSWvoODEzJK/xpq3hKk75LrW5Pr2eP2KBM2yVO3qqCcXoWG+PsGRXx0/zWPca6XChUDquPUbk+/4QeI1oufT+fodr/0up0nenkGPN2RpSAwpW8zz/Kr1n6DY/IgJD6bMfq6w8pUJlX/0KZyMIjLXdm4BIRGy8q5uc9eR6ZU8z6tUqoiJDyWq3g1v+ExZ1xF39zykyA68YZZs5or80hcK5j4tn/QYish6Z/UGcPtAvPogupKurv1Ddbb7FJIiDQa3Mdfhr994Dg38DVSf19weaf44qWop8pVhESI5GIxDIyNSi/6WoG+N0HfKKt/PNC9TWloVxtZEQ2vy3Jc9I+TgShOxoaQobMz9ITfc5zHu4Qx9h9LYGaJeE1HTGmVszLSsucG0zOOGuYqY6OXLPgCHr8NG1L++DM1+I/IdPlDR7wIqYey+/x1u8C2nUOnp2sUbEgJOHqhHSIIzz/Nf7O4qrtIExI5GHgrfiLSZxZrDx8/0MgyHBTv/fZRQmhVHlTj6Vu/du3dYVHraFGPO05t8qltjazoSZ/3BJ/seFJSNfMM9opMeL1YfO2UjGSlUOR8wbvFbhu/n/LV7LUaHA5xpg6sCX4e/frNjaOBvgPq8qYZGmW6dsvwdr6RszJ0VXOeAUGSYV27Fm/HaxuSGjZnmZVnat9ItqxW6xnjtanBNevpDsoWAT+/fg0ISUyeXofC0jAdqRla+ndXQEWluj9CuytUuzphcjgKUzauXY5Fl7T3UI0mphyRRpd+4fOcP1CX6nU+/6hMlKWAQ4w0F4rHFGHd3nwIEFFjsPEcqghLqK5eIeYGxnoXAPc7BgQR4dZsUHihpcFSSXd/6cZAszSP79kz16+l1a8FBP+HO2FD/jk4gfOWcDqa3l4RwgyMZyij9n9wEASi4r1HXr8Nfv4EdGvgboD5vpnppgWEFyrqrxFiPeRtmgSkoNDo+t/iVdHN7uKZNaWlNt6yW69bE1mxIq12fOu3ZgMgY4DUQOMzY12/YhILTYjPzUEBczA33ZT/5fErZa8MrX/csvDc0aUTzmkaSHEKyI0SOA/phwdp7joqB/Qbl2z5A9QaiEkpCn0Q5822XfqfvL1KCJIAevHhDweawEnoIQj8HCMhgzu7AvB0oV4nVlXOBQ9Phgjz+q9wktV26rq8LNsfhL77Q6Y0oNAL5BPrFJ8ytVEE0nMBASpjAQQQ74wKXOsFh6fL/IztSEVqIxiein8QyO1gjcB3++o3k0MDfAPV5s8vezp+ilaflbd22A4zfAsSzPVmm9y2ESh2x5k0KY6tC1xhbA0R7CarlCZOeKCpRQYCIcBYyDZierYfO6VXlEeHRaJg/ClMibwWKSCvWz/98204ssCwnMC7gniSbANIfrXnWb0i+/YP76338+PFB11D62kcC7fq1ZpDiDXmohcLZHFaqBYPxgFR84zBrBwoEoRc8QmRdYDgIkPxeGwVx97ECLwqwHNoha5A/i4UeTuBtJFiHcbggG9bpwgIY/uxOWPn+D25U1T1x4kKVPmnxG5TRuA5//YZxaOAPOEUvU5/XY5LaJzqjdekiDLF0fS/DF10nUWSGcurCZH1zoqE1Xrs6rXZ9gmp5zLQ/oICko1+fYHgO88fBQMWfdUAEnA1CzgRBtPZAfBuUrXAAKT4HCbEsESsItErwd9XxZfTFdjgcJ06cuPPOOw8dOgQIQkln+o3u9/wgzXgpaqRvZ5DiDUXM8cA3CBkbpLIItjFAygeJW4S/nhEgkrGHsNTZvm/2BX2TWZaVjJhOjM+xIDbzGNucEEwI/ncS4A0pKARwWVKYechrYnzPJ/fDLqPP/fDhw3fdddfJkyepANhv/fhh98cYDzH80XlMu0TnhzTX3bt2mUwD968Hb39w4O8q6TylLl9Un1en00nEwrSLdBxWr13vGzs8YPTdI0tfyCl+sXD2QuUtU1FIyqZNm2w20H0lmBi8gblwJ3dco/uQjyXiMyw2Vaj9/X11pQ+DqYYIlTzPS7bqa9qqC+0bur0BYZRj3WH0DA/eEycW3EdycBeMH2cMJFZn+v7Sf+Epi6CvMyTjBYvCWQcP0QgkEfMK80F6CyTLiUji5/Wl0/39fU2Vc7tJmTi6qroPnfv+1XZ8iOGPKkpSz6WeUCsSXSfpQemcq+3hVZ0/WPAHXI82yrzyHcjcIZrCJfWdZfvyCuhyR6v39usFZ9uxbWuRxoTkKSgo1is2/ZHpRQf3H6LYJ8EfLfk2uKvlRetQX5tdEDpz+kRvoi9qejItS+G1+8g3UnwcbYDUO2mnX49+ER+uoESzmLWzDgEy34CCgeu1Qxov2aCwHGEMpGMwuM/rWo+rNB9ojB6dsWA6EMFuiTmWs56jFDgC08fqfOl8uGhKXBgB3rH78MlMuV/j7OSkANR9+iRYABwES910C6kN36OzQwl/F/pJUugvshlJOgKUyHOSaLbv0b+rvGSw4I912CG5XSIyuHIpH1KhrY+Y3u250rZLaAguDcimxNh5GvjoBaeLc5BcVsJxQOjiKfa5D+xVDsCVTpfy/OlJfRyf0KweF48r58zWjvLE9QGzR/tUWhZg23HJS0spEqSrrvQbP+/vLu9CYUiFvT4XitMOxgcXj1ko+C11l+P6qqdLR376OxS2eJ6nqAclVWmPoDgVnZMssSYTRjUM/ZVmptR3d+xzPwj7zhOVlqdmFPjiWj/9WKQpmQERmjwYZ/rotckYXTQtr2rchhL+6FtB+yxpRhzHSWB32aG5qu5d7cmDAn9XW8iRTgsqC0gNpuMgTRepgiUZKJpSD/8yUEEIGERcPOi87m+R+xSRbjuIO3TVpc/o9LGvY31Rb00s1qC9umSFLOjMscP0+dIuSCrwIDbgp3argQJogAuRx1yvEyQX+MCKkCMNQp/0fKW+uM956eBPdqenB+KsqKQiGTep3QPSVHgg9D9x9Mjdt9948CQEpEoIeNn5QA9K8fNnjx9RyIJ2a5KxBlktijg/1H38qMD30e1cOnTfY5SGHv4kocb9wTMMQwGRhvwMSle/y+gMCvxddRlvsppJdSmldkoDckHOIt8xpErWeY8tMZwLkOjrvknzzP3gNdpnMFbNm1U10Y/XD8PPKPg6WWkBKlKp6c/ROS0tb9eoDT+F2w4UPo3CspFf0rCgxBK1Zc/Boz1OJ5DinyeWlea2O4fYT6E739oG2nL6fCU7IFxFSllil5Xn+dMYV5TOjfFEcyp19IYDzQcpOpKegDGeW1FVWoCE+ij8bCyn9VCND6gomjm4EYBDCX/S603fDboYSuMoiuLatWvpkElT5FsfyQ88YZDgz7G9az+S56Y/vmC0pSlF15xZtzGuummC/p3EyZUeCSN27j9EVCHGxTguZQW9CAcv6juoGNQaAJGwHN8LQcuE2wm6Tof0h1hDvnUAL8JijPGBw+difdFXRpljYRS7MIa3RJzUREUGeezfv9/dEEnvLCk43/pDP7sTBkqeS5717FjNq/lzngkc9yCS57Zt+l+Q/4g958dcpa7FeJ4+fVp6oBfC9ETODoS3UKFl2zFnkg9aXX1rShgaaD6430GygO3fvz/MH53ShuP5kdxTClu94pBGofBBh7856d6RH6jiDDH8SY//7NkLtF/0HWZZNi4OarP29kIpmGsX+e0+moMDf5y9qvYZ39EPZWtXKHSdcZbNMk17snldXPXarIpFETc9MU1lBB5gKL6GbQxoQBT0JaS7FGLcG8lA9rsAAWguFniQeJbYlYm7lZgOpXXF6XRKa6n7Hb7fPlXPL2obwzD6cq3hllBci4QX407oArElGGuQ6dag6urqi4T3HzhZv1+zf7SrBqJOiDetiqlelmpaM7z6XaBOkGUfPnLMvb7tBavZ+QXsR2vzD/mho0eP3nXXXceOQaE6iZ4All4eYuix0CMwvfOqjcab/B0NyXWj0UDzQZJ4JBsxrQtsuDkAaxGuDzipD+Z/l4pNvvqbQ4zqEncooDPqIsPRd+/UUMKf1EqXy/XQQw/dTbZ77rnn3nvv/Z//+Z97773Xz8+PrgwUAaXzr93O4MAfZlFYfO6MZ9KNbeHaD+U1m+N1LWnaFVHmLSm65txZzyJZOqQOiAB84B8jtVDpukcRkD5UyfkjnUDnB6WQAy+IALTKJAtLIJFr530j5wdoELHv/C3hfwleGYY5c+ZMgn/AjuoUXIdEC7I+l451CDeEdKnCg4ODv/76a0kAlBZ291v9kvYHIs6Kr16XYtkcrmpJr9uYrXnH/8b7UVgo8kNhYWFVVVV79uyhgyC9yT+XMamoqPD29tZoNHTSSkudiLFVwJg55Tx1MMDX43NtNjahk1X+V5gPl60LvE8Vhef7Yz3qfSZdNHvj2pCd2uT4QHTmzBkJAaWp+P0GbSjhTxJ6eZ4PCQlpbGzcsGHD5s2bt2zZ0tnZ2d7enpCQIAVzXKGf9D7S3SQZio6IZFNwDy+Q7LUUWSSgwRjn5+dLF9JX3Uoc+bBcQ3oAtpNq33AOFHIArx4E6HOYcxGieBYI9xCKvL3ylVTdslBDk7xuvVy7PF2/NNj8rwRt80T1X5BPGI8FWlmxLxzgck+PRiODlAcOL8wBmb1ASo/3EKnRRnglBR4LTp4BEyCPnRzxvUEELU+ERAdmrQLw2HOQNsdA4ipQokINWRckt7o4LAhOYN11QUQ0e4njuX/DpEGWgLWsrOz1SWi/TsE+nSTWh+P5Ibg+BDdECAuiH7hjfHXJY1gEnneOZSBHQ4Qxc3+UksYEB8GD003Yz49jTgBnvxPO/9lsjJPDrAMeFQ6IHZ0y+7kkS2Oidn2iaUP2/A/iqlZlGzcGGTqyi/8c6ButrHwvvOjvATcXoeDM1SvaSHSI4LL1/ARpTW1AtooxPuvAUAyB7J/pOm5X+KN/FQWle6NtZ23w7HAPSwr70mVAYLG5vEw9GgkNodiMhJpozRj01Jx7RQFK3AF+CT2YZ4EaVYSIc6iS4HJC4WPRpi5+9P7f3iAsiMYNETCd5oeI9eHs00n7dYrXJ6Gysr6K9dIk7JuW/Pnq6eBYErp5iFTv88MMMIeGEv6kJomieNddd33yySe0P5If/dZbb5XS/aQXT7rKfYfiF32vqHZGz3d/0yTIk1RpiaiO/gq9pKCggF5FaeZAeKGMQ5CJCdkXLlo6jIF0KA4DO7yTZ8g+7mGdVDQbFped9nhdumlNlL5dYdqUaf4oq6oltOajNHNj+qOmwKQsADKBFTjxvOTn3pu+fY7WLGc5AlLwIF0C3n/k6KwyA5IlorB4n8i02aWGz788AIDc0417zopY+PzLQ7NLTD6RGSgsEcmUs0pN//ly9/6vviop10QoctGwRJ/YwilFFXuOdAGwcJi12RjMOTELc9DuugLaSEKo0+mkQ3T06NHbbrsNeUV4BMm8fLx9EPJDyBchTwSbH0K/njTG1n2UuDshZEcgEEfH333JoR0GdhPId8Uifw4EW1hgvmX6XmbUhvCQwNl5O6QJ8xh5KAorX4lSLVGaP07QtMVqF0erGnNMmxSWjnFVryIkS6ndoDQsyyj+y6gpNeHKMV/s+dLFQrAUBtPuT2wjZeA55ixHXgBYTTFTVDxXc0v4aUuq5WafuUXFRCQAWYAXGAZbRcyePn4w2RP905Il/j4MP+3nfEbxj/m35ASgQ1+BD9iJsYs9DQVhyJQ478eD1d3WffTXk8b4kSnkSaaTHyGL9vLx9giSIa+I22677ejRo1Q0kaJEYHLyrJXn7PCeMJhjnMTvjLkrJSkOMfzxPE/l2JMn+yya9B2jQt+5cxcKoVz6trjPEXqVdL70okpIZ7f38RRRtzpFOionSlHm9OCIESPonSkKO52kbiOIXZxAZKteyMcUMO/gMedw9UIcg+jAmKEVJXoZRy8vPFBuiv51UWblO0m6jmh1Z7x+Y4KmM968Nkv9VuhNDz88pwKwhiPev4tctm69YqBCL1j2wNDnBORd1vYhCo2P/nWlcsbC3LI/jpv7ckjhg94phYuWvY9dPdjVs2jZUu+U0SGFU8bNfTm39M/KGU9H/7oyMkSGAiIDx9wZM/v5VEtjzIyX5eMfCg6WL1rVDHIlDBbXA+8eiIZXgD+qxkrDJT2pXjKbnYTxHsaJ1HuDpgss23sWGKRZp93Wy4F4DN+7dfFCJAQmKWUHjp27+7ZxJ74+BaUgnRguABKqn8kGbzIh2neJvhFpEyr/GFf5frzpwwRtS1Jdh7Lh02T12hT9yrxptSgsO8LwcZz2/RH17QWapZ4598wo15LSdAzL/vTgD6YooDJHEsTtLnzq6ImkEPRFRRS/IONAdWBBENp7dDdh47dh3ubE2Mri2tInjWOHOZ5O40zeYl0Ia4443hCrG4MWVE53YHwWqgs6rEwPXeAgq49noT41x2CRg2BpAWY/aFZk0nAsdhLRshdj99QmKSAMpoj9LAsLOVky4WorhMdecTkZSvijsh7gCxGBBEGgICWJXRdZ2a/wEthsNoplPM+3trbm5+fHxMRYLBYpqgZj/Ne//jU+Pj4nJ6ewsPCtt96i8oskP9ObW63WW265xUW2C+HWNANegAfRfQb8MEDI4eqFF5kjKrATBEPHmdNUG8Usu2vnfhSRPeKxhfnqJRnm5mjdmti6tpGq1zKn1iBZ9u4D38BTsduJYHmFbgksxM731SH65793eMTlj3i4OrlsSaqxKbWmNVW1slCzKnlqDZInf7Vz+1c7tyN5cvLUmkLNqtSK1XCCsSm59IPhD85B8ryMR8wjjWvS5v9Lru3M0y/JfFTrnTTiP1v3YV5gBcLjJGKR4UGPHmBzX1QwxufOnesTrjkndlmx8yyUNuessM+5QNIDqYFjIdiNqO3QW9bh6pWsE5LNmx45h/GTxapcX6SbWw2iH0d45YUrmAcGaOgQHWYETMgRQPOaWazxKZycb1ymNHWk1ayPMH0UpdugrFyeX/12yOg7FZOmRho+TDCsjNK1KbTtI0r/FpSYzdlO0vqQQ9T8gX/WhXlMOKdAkALGG9X0WWU3eWOLV69Zjud760eiYk0Fg3EvaJ1WDuMDR85keqGD+hFYhcAeUhOCLUG4Hh1Qy8d7oRMHd7pginAOHqreOVkr0aghgAHWTIezT90Bin8XmU5WmFrOs2Sf4JsoSrIObTdZxFkec90cmKOIMm5l7KfhlgNvQwl/Uqto3o87EknBz1Q2lERc6RL3HUkw5Diup6cnJyenq6uLZdnCwsKtW7dKXqElS5bMmTOHijCwVLjJgxeQDuPc3FxpZBmGgTeT5MMzLpC/SGwX0Kl0HTg4rdTsLUtHAbG+UWmzSrS79kKRHSgb1H0Uc2xLywaPqKzQ0fcVFD2XV/Hn+Cefjxl1n1dMwaJlHXAXQeChFCp2OK9AoAS/yJJUR8zzpdraiPFTRqnfTNW0KPTNYerG9PrP4qo7E1XvRv3q8Qq1pUJtifrV44mqd+OqO9PrPwtTNyr0zamaluH699CEJzzHTCmseiOyZGWEcXOsZWOyYWXwuMmVxmcxj3mgsQNjIOaI4cp9cC+3T+Vi+g1wEPUpqaCru0gBbzsG5KLJTzD/RFjbGZeNzHIYUlobiKKeKIr0Ke87eSw1GK2rys0Yho6fPIpdoCIB797PZCOudzCUMNazh4+fQRGZKVMsubr3UjUrwqs2JFU3FpqWKe41IkVe2sMapakj3tgUYVwfrluXX7UIeUVgQIHzqWE/qS6zmDsPf6Jo6z5xMs8H/duSjetQd20ktvjt0srjoyK6jp/oETHv7MHM4WeM058YgWy/z8ENAU5LWLdF3lsXcdYQcezFO+aNTzJWlPEYW50OsHiCaAnGRcZl442OYUcAACAASURBVHlIHqfTRuRhCtnJd5QVghRRJfZhN8Jt96nIc/jY8UN3T77jwNfnWLAyu0TMOX/K8EffBOlZU/VT+khRT5INpeOX7rhcLgpn//73v++44w76Os2fP/+ll16iJ/f29i5atIgaTSUphmEY+osUeakpcMKECfQSt5Fl7Xbwf/RYezGYaPHyjo9RcJLfjY9mz1qQX/pSQdmL3mMf9Mme8JelK4GiCFsxdthc1m17uko0Ft+oNDRM7ivLL6+o37v7KDxAMPSSyChS6P7S7tAjosA4OaILQYyLK1CRpnzQmFfXkappUVpa480tYaXNceYtiZYNSU/MR2FpKDwlaVpDYm1nnHlLWGlTvLlFWducqlmbYfgoZfqLKCon5v55GZZlYcYNceZ/Kivbhs+oQ8HJsJyLkDcCrQL4uxLjizRi7n5qoCkR7CJ28oKTFyH9hFhCBSq5ulwU3/u83ERghv5JT0HaqVbNri5A1qcyDGMC9OUzIW8a2GsGlEYHGrehOk6JZklWFtvLMGs7t6DILN/x92bPemqkprFw7u/Q2AdR2I3p96vGNXyQplkdp2+PrdmQZGjKnf28R0gijIjT9n24pK9xh0k6JQhW5EEKtfMeM4z2PDs/DtegnmfjsCFUeCqgaEzszDkPO0FX5c9hnHXjr5AvCkUonBjvkKcX8kZJCEUh5I38cgpuBUTjeTDSuYg3D3OAfURUYxiYgRxgLrj1YDqBSdEpYqcg2EklL4hwkKQlyYDGYGwoniJDyFBW5sK4h4MJeGWmsKGU/tz9FfQJsizrcDi6urokj4f0ZPv0LOmz246kLAuCsHz58ocffph++dZbb5WUXIgSeu211yIjI3NycqZMmbJ7927pBhTm/v73v48cOXLSpEnR0dGSbOhwOGCURRD3ALXgVeS27dmHFCNypppzDUuV1UuTazvjja15ljWRdxR7JmVv7dpFBh3C+sEaxruImxVWMcHpElywvhGrGCOQdc5GZECpMf13AJWsQJ0BlkfkFTZetzhC05ll3hBd+V7O/LYMY2e84R/x5s6xuteRXwLyixur+3t8TXu84aMM07qcBS3Rle9m1awPNG0arV+MvOTDglNvKXs1pWpteHVzQn3HOMObyCsOVFKRsdmdoNuD9WpAuHFfnKTHATvEmQsSLezCxjIugWd5UeBFYJHq6xT9GiRBXjJrSNi3d+/etED0ZUUo1nrvNafGe6KvT34j2IeyCmL/Z/HtnwC5GA47XCzvBFJoAX++ffesGrNHVAzyzgyMjkWJOTkzX55Yt8JfvTxd15Jcu1leuaJQ905w4d3llXVCL4NJINS3/9KPewboki4Xy5xisHDgwPF8b7RDHYfrAwWLh/WZuN6aCGxCB01Z6ZFo/94ueNrgK7Rh7ixUmYd97LKDWtBL/sDtS/4IURAn2skbQWcP6Re8F3Tm8CwLWXNwy765c36y0QGQJiEouzx/4Btrvh9aVTay0A8dOXTUibETojWuNFhDCX+0XfSlomagpqamzMxMpVIpCMLWrVvvu+8+ivHuhCiX7Q1Vo1wuV2Nj49y5c6nHY9GiRSUlJdThK4rimTNnqIT46quv3n777fQSCTrpbR0Ox4QJE+hX0vICdl9RcLqo/58tUhtCR08eVflGSuWaRN1GmeGzsOpPlZp1EyvfSh7727KScnj85KW3slYOAvxZnrGTgAbwkAA4MCDxw6OVAOOyvQJrL9wMCzznsAYm5MQ98UKk5bMU40ZF9QeJVe/kmTvi1B0KXWPq9AXe0Rne8vTUGXUK3eo4dVteTVuiepGi+v0U07o0w4c5055D4YmygptQ4cMZusb06sb8infjZ7+AYgpg+eXtxPaMGRfwRF++LW7yGj3hAhpSpjqS5A6zTYB5hyE7hWMEiAYSMKAgzGL65/YDVE632WxarfbJial4vi82D+uuDZh98/Ci6mLMsldPrux29x93F6gAeQEzXF9JEJcL8w4ojMmfwDz+avuHSB6d9MgLceVLvRd+lmRYF1XZmalblTWtHoWnHtx/CtvAWsqdp674cdt+pV8DazfMwpPdglWre7ZsbIR9QSQ2Ibww0F4vtz4VgQ0I16KiSdmm0kewC5wOLHOCxz3HMT5J5DgIgeZOO8GQAzOadZ7B2MphKyAUhTcyMQi4QRSZSwRhE+QHsKqTt4kaBsHU3tfUC9OPHOA4bu48jfEm36NP5evGBhhLSxjBBXoY8R8O1L2hhz/JcocxHjduXHd3d2FhIQWgtLQ0qd2SmCAdkXboK0SB7JNPPrn11lvpPZ8lG0UxCnxU0OM4LjQ0lF5Of0i6+QBhz5eHoWRjR4x6SULV23k1bXHqtlj9mrSZ9T4xGSBGuZyYt/ZV+xYZYH9iiZTEMKAcsU6IV+ZJrAmRhmhjpCdKTWMDwW6StinOuCnc/FmQ/p8JxvXjdYsTx98xr6JiqmqhbPzU0ep3ospXxzb8b7h+U0zVyuHaJXLj5piCyVEFD0SUvoD885LNK1Ht1iRjW+Ko20sMC4jy4SQhCJyTEwcEP0wiHAVoNbXOQBAkBTvydthFAHOwkzqBG9k28KprI/ZMLAqi2Mtjwc7iA4dt4RHRh6pisM4X1yFB67utblKqB+o+fPQKujjJE/oGTnDZST79V0AL77qQPiTNEPcdOlskyy98RTmuBdox6BIVTsF+BIjNCriHxzaOrF2QcEN5d86vB3TySM/O/bf69qFOGwBj+8b1KMhXeduvk2fpkk2vp89qUNzwoJ9/3D861nHM2T65e+BIgMvc+cc6RM1Q3d3dN998M4lIQR4eHsOGDYPa5Z4Q5kT3b731Vjeh4do1zspymAHmMB7mLeQ94UPHDsaEeB3RhmAN2mOJCg9AB2zHnBxLLFEDtmQo4U8yrkkx33l5eRIFK8MwI0eOpLHK33FM6UNKS0s7fPgwwzAFBQXbtm2Tun74MHCQYIxXrFgxceJE+uvSnemcHgD+Lq+EZtdujFEvyV3YmmnujNN/GGduG635G/KOAfizW7EIzjKgJ7CdwTzEE3ftPTBPpR8WkYK8FcNismdUGLv2HoAAAMKZQc2gUjOgoQMo3fnaD1JU76cZO5I0zaNMa6J/Pc8nfvjnO3ccObAPBSUMn/ZsYcO68OKl8Ya2WGNnuG7dqIerUFBy6qMvZy1YgzyUI02LMgzNo6aUhManf/K/20HuY+w0cZgnbMN0lC79F+wpLKwEPBYcnFMKexRdDoEEuxC1nsMCw7nAYTPQBkpiH3MRWPo5jGvmPFw63s/1XILYECgYEF7of+KZjOpb/FVFj18IfbrkdiA4wM84MIfPYFDeHa4zknRwyekXFwmjqUQAWyJHR4DEZsMd+2YF34Mxw7IQ6gvuHeDMhkAh+ozOL1GX/s4lR0SO42HJ4Hn+8L59xfMqkW8S8i9AsdlzqmsP7j+EodqUA2PO6uB+mmHetMuSUUjqIYV+SXqQkhSkE67FTq8A3jaYQixMH5HEHM6tnKedEHHCmInn+zvMcepJobNmFkEMqfO87eVyTRlK+HOPQ4bsV5tNpVItWrQoIyPj4MGDZWVlFRUVUpslnJKOSDsS4xiduI2Njfn5+YmJiQsXLmQY5plnnlmyZAnGWKvV5uTkFBQU3HbbbV988YWUTSzdBwBHFEeNGkV3JJfxQC4IZdWaBHNjrHFtaEljnHmLsn5D8owFw6LSYbwJk/w5hqCA4MSisGhlJwpOjJ3wwMiSl9NVb2ZXveFRMNkvJhNKDpHfpTlPtJvnRYnLu1wCb5g6Ytr8kXN/P3reC36jHgjMmvDakhXUL9bS0oI8fcNyJo0per5Q9Vr2jIWymx9GgYrkaaYc84dhjzwfGJeV97guePT04CDfpqamvr6LfYybl+im7mODe5wQ6Q0mG8wQIzREsYCSAjUrhF4HcQGzpGAIhtSSgTag4AdPM1A/9WK8Y8eO28PRLkMMNvrjhkjBHIjnB2CD9x5tyrgItP3ggAAo4nMg7vHi3kN7/t+v7j546pSIrfYrOoqpiiDZjPqSbUHu64u66PP19xmbToHsIHLQY1DaYHXA+EJ7rjAn+/WdwB91XwLZn82OGSKkihzm7ZD8IFphDBkYwHNXelv73fVH+0Cxj2EYp9NJ9yXTrTQCkg5HKbCuadsg58kpwvwRbAwv9LrwsW9Oy0PRIX3AyQVpzHyEjR57TH5Zkejzbw6Dy3LgbSjhj6ohVGSj/547d06v199www1jx46tq6uj2dSXrjkDdYcOvRRNRu/vcrno6kQn/UULlLRw0XteFv5ghblcAEqatjXW0BJe3ZTR8C8agBJ562PlVTV2Fw/wB6RGRB8UmX/9Z7uvcmzu1Pl55W8kGdYEa5vkprWF5g8yJpd7RGXv2rVLAlzanj7H1gABN49WWjxiMoDnWZ4+vVy3Y/8RCBJmHNj5Dcbc3dPmBSXleYQpkFcYkhegkY/EP/lmaNXiUfM3+OdNRt7IR5E5o/yl3fu6sOAUXXbKOtNnlxNFaUJfZpBB/uGcZ7vBQwzWPYFq9BACCXYWCIokAiDowOTvMvfoC8mCGBnBajvjwthYUTIt2/PA7yfgBX7O+SHWhWFsvadoQa7nE+dkoN/p+hxZl7tXN6jqLlxeNUsJlEozMBRGG3CTukYnm6R80NbyXN+lEIbFiywHETc9rBPUeSiQYiXxT6wVwlP6toviFs4fvuR/jhM40QnBQCIJ3bWxpKwSeAQEG4MZRnBCw4ESX/wJen7pcNFe0egIaf1wHwEJAS/p/yAfgAUOrBxQiY+GRtfMeqBivCeuQa4FSXZLEDZ7YtMwQ4Fv2ZOzQHQfeBtK+JNaRd95u90+ceJEepAiF3Xo0CPS3JWuct+RUhEoadqlsjqd6/T4edkKdBy6Lz25AeDv8uHHKWVL00xr0yxtqRWrCzWrlI+YkTz5yI7PYb0ROYBdeE4QTFxhaAi9YUqqplVp7IzQNcvqOmIsLRk1qwuq3/GZWKJSqSj8ufcImgoKkwCWqP7h1lQRA5SHN5az9p4hwglJ2BAdp77+EvlGJN9vyjN3pJo2JWtaw+p3JZlXJNxRFByWvPvwHhDMIFmvT+QBqCXpdXaook5nlntDLuwLNjsW8O6uw7NKtBDN46/wikqbXlbTdeCgFA4JBeZcHLScFHi4cLHbnoB7WQHEKXAKOU7eNjJX6Y2iEQomeXJBnn5BHp6+CHkhb7/AxNQRd7ld2n9X7D7twr1Hd2YFhi6rSkkJH3bs4I4r2C7do23ocz8/qfrAmk4DMF044K3Zuv/k1FJ9aMYI5BuEImPm6Yyf79wDLx4xVtA7SEBw0Trar6GkSCMDRACwTmGhF2NuV9d+VXUdColGkXEoPK5cO3/P53shQ+Zi5sZ+dxqqD/RNcc+ap2+c2H+9dI9HuXZNdThOEgM6eJVPsPibw8fGeqDtumRcM0xoCHXUK3GDNzaEHzBm3hLtt2ffmSu0ZIjhT8Ipqvzef//9VOKTpGt4HQXhSnOrPxW+dEP6eKQStNI0lXYoRY+kAtM34bLwN1DyWeTt5QlPLMgu/uPYOS+FFE7xSR3z7soV2NXDYbGvZDhpPWZtKCg2e8bTseYtEZD61qmsa4vTLU/SrUiqWi6bs1gmk51/D+FJSftEf7xMsh0WOcZ+DvJDIT+c+qMFkGpFq9Xl6sF4UfsWFJ0VPmpy+vSXMjSt8lmvhd1wf2hi8sdtG05zDlI91kY9MzRD2Wq7YG+/wlC7sPCXpSt9c270HvtgQdmLecUvZM9a4D/xMRSUuLzjY6JkCL020DbsELByhfjBsxwIVhDYh4Wz2GrDAsS40js47OfAc4pxLw+ZhZg7PeD05axOLFiKHtfm+Z58NqFiLKovL7qCzZHCliT0XeBYg2Wmb4MAINKSJctWeoalKn/1RMrMhQmqvw7XvIZG3ilPL2xfCcYK98ckTbm+W1zyH3C/Y0wo8GBosItrW94RGZ7pN/rhCZV/zpr34siSlwMLH/CSZa5e00QCxi+5xU/jgPTuXKqQOZ3Oi9aDa9lkSK9y9Dipa9FYXl52Q+Sh393oWhh5zoLsT6WeeTqQWZDWPT9sbhJ6QT/9Ci0ZYvijLxt94V0u1/333x8XFzdz5szKysqqqqri4mLa9G+fYaJIb0WfAYU2eltpuruT30nS5UVDc1n4G4h6YE6FBYoNhSf5RmXOLjFt7ToArtAzp2n9DRAi7MRgzrPIWzZO/45c05FW/1Fo0ZIUw9qcus6Ysg8yzR2JmkaEEG02bQxdY/uihKEyzsVUCyBSAlGW4IIAGpBGHA6gTT1LEYS3YcG+b98+ldooi1J4IRQkTyh6Urvt0CHMOHcc2F+lWYBik5FHEFLkTSk2/HfPYQjVImXOwdx50Yi4ffzv3p1eypyoO0tG1DbGG1uVlnVJ6g9yDUuzHzEhxYhte/aBlYCYpeEmwOp++Y3nofwN/GGmt/ckFiE2FXKnqXmMB+th3/dOYKy5/F3gKHvg+MF0X+9ThhCsDewyhmUEoCNHjgx0vqTEcRz3zTff3HnnncePH6dTSxRFux2ifygpw38+3xERrcie3pBT8VqyqTXauEGhb8urfheMFTEZUvm9b52WtCUkwYuEyztY7BJ2/O9uX0V+xl2V6brlceXvx6sa0wztaZWL06YaUWRy164LEakDdeTHP07rKNB4Mvdfl9Qm6aD7TJYODu6OrecIRAiBOx2iZEakpSf4IgXEV/sGIhRAGDd8EAoZhsJC4uLz777Crw8l/NGRonOI4tGrr766ePHiN954Y8mSJW+//fZbb70lRfxdeVgp9tGbSBNa6rYkk9Ob0Hfc/clJAtdl4Q/eCqBWvoR4Ct5MB/BKAYUUPAwGBBaIVncwdp6WfgBGUgbF5cbO+EOWcY1SvSK7dmOKvj1WtSbT3JmiWSWb+0ZERARtqiR5UTfIgERbBDpYyNAgLgQSn0Gqb3M8NeGLHFhGSA4HoAz3NbbhoxhvXrtCHh0ekfk/iqpXxpS8Pu5RnfLGewMVaU1rW8AqxTGgUEujdslOWUl58tjf3lT1tlKzLqz60yj9lkTdxtSqxkLV66GjJ8+rNhKJj2VYFw8uiYHlMBoZ64JoRifGZ8jQYeEoiein1Q2tIrY5MQMy4CXNkA4w+Fy15ulHJyqBYdCI8FOJj04K0VQYpBMu3aHuLFEUy8vLfX19Jd8aw4C2S3VeBytUaQ3ZIwrkNc0xpg6Zuj3VuDlV3ZarWV2oewdNmqnT6SiSSsw3FznxLvpdcJETbjTMiU6nc3b90+imyQlPLZbXdsSbPo6p/jRavyXWsjFbv0g2fnJx6ZXaf9Gdf5yP+/btKy0tDQ0N9fDwCAsLq6ys3L59O1XLKF2xNG/d36lr1zYeQyoUYXZjsKMbC/gciyGSkMw5hj/FgQh91uYSMO7GwhWWz6Gu80sH0d0oQ4dS8rrCvCQSiTTE125YqQHuUs/v9/jFy79Opo0xxg2y6rWp5nWpmhW52mWFuvfRxLKBXifo96DED3IQc7/jyFeeoZmZ99akmxojq9dkVLZdbditT0xG2sz6WP0aGladUPV2jHpJsrEj0vJZ/LQXgxJzeacNE7mUIB/EpQzi5r500dt+1X02wRftr4rGZm/XglRsCD1ZlRgfFHri6NcA+ixpCsiYggBhJQ6wqomYdfb2fHUkyRt9UqJI8kVHjwEnO0ibwMFDFHDB5hMlTyh9PcnYlmpoTKh4L9XYnNLwiUzTnmZsSpn3akBYGEN0VJrGQCy8QJbj3lk6ac+v2VcXNzoQbyO18FIGIOJbIm+J+6/+sH0oe8+D9xly18C7dRpzttVr14eGK4PG36NU/S2p5J20kjfRpBkocfi/VizmYHpCQlQvmWDUNXSF5eqHte6aXD2U0p+kO0jiWEJCQnp6ekpKSlZWVkxMjFKpvNQncE2G4fxNLyv9nf/yKv4fQJmqy6l4FZQpwyaFrjOveknG5FKPmPSBlCmAv0GJHxTwWbv9keIq+dj7b9Qvjalambng42T12qtNukLeMaM1f4szt8XpP8w0d+YubI1RL8mu3Rim7rhBuwh5hYEIKfA9DsrZNGjwJy2BksmCGjSKyytM44fh+dHY4iPUBuJavxM1CcaJ3uUlc7AoANsbUaEJBnEcRJ4DuvFYKK3QmieFH6+JNU1Ac0r1EPcHiX+M4CSxO/azKDwmoeRNmaZVqVuba2mOVX0Qrlodre/MqN+UoHrfc5gPJXGAcADe4WKsIji+IViaTpHzqCdNmKuLGx2It3Hfoa+cnAiCtQAJlJTOzgWRvYOzEa5HAdiOyJqBeevOz7f5xg5Pur9huG6ZXL08RrM21dI5vPgFFKQIkyd/2Nl+329uO37qHGSpkRBX3tkzsMw/OI0c3LsMJfxdFKHCcZzD4fj66697e3v37dv31ltvabVaqpZK835wO3/p3QYH/tw0yH6m9Ai58raHU2Y8l1D27nD1+yj/XnlGXvua92gzJAX8wqowSPGDTtYqYuwfnzN85sLE6mVxuvWxVc0p5rVXm3I/LCo9ecYCZf2GOPOW0BIIeEwwNyqr1uQ3dKZMMQfHZYCJn2jiLnBxDtpr6a4cUKM7x3EnTpxIDPPeXRyG6wMd8yNxDcJPB55+Pv1wtZcs0vfwgd2AxefpQ/ruwGGHiA+cPh0eHrqzNBL/TvaVLjw+1PfU1wfgpQUBkANwEdlhYfL0sr+nNPwjXtei1DXKK1cMf+afSTWboipWxJYtkQfLILdXYIliBQYQEoTmklCP7khoeLVxowPxNqKwhBUdHwOku8AOQ2cZJJUP0gYOGhrbLRLpj3cUaUwBo++O1a+LqP44s/ajhLqNEbpmxQ3/n733AI/jus6GL/oCi94bARCFYAVBsFd1W8WybMuWLatQJEX0tujAooMg1Z04n538SZR8lh1ZtkRVSlaxLfuLYzlyLIqyCivAhl63TZ85/3PuBUcLkgtxERQK5jx8wNnZ2bl37tx576nvuTM10kgiF1+/dvlSL1JWWgyaIDmw5KXkQHrHGerOXFxmPuHPWZ/VHRS6Osxx3Pr163Vr69wg4MzAH9VMdHuQblQ63HXu3uLKkIwc4hNBwpLzq5uOfPIpmy5IG0WNGfo7I8vyTMUPIvuuAsQvPr30H2Jb3kqs+31K9Ztx9S+4S7hUYmqMuOE+Rqi1pO39sMpX4+teT69+I8f0dNim7xRVNzP4EycY82f4NWBFC/RFIjc317zJGzoioZJInQlgJtDoYW+JgkZyy03r6moKVckhM4IJDXgOoRBUcGjizoryvC2h0BYsN3kqzT61W7yri3Y5ACwcJqaJPPqaHtizJ2DrfYsrDyZVvbK4+fcR1b8OKz+UXPnS6spnfK/P/f73d5dWt3iFJRKfYK+YpAeKyz7tpoTbF9Lg2Iuro6G7caOueBtX3VPhEZ/1x/f/iveiYDyUKEtTWmvdRBAMpsP6w/RnqiA5SEzqmuKn4utfS2v+y5KS5+Ornost/pdkH3Jo99LoYBLkS156MDEziJw5ex5UG7WxqSB/HkXgZvPzcPp8wh9j2WMyIHvt//znP3/wwQfvv//+//zP//zzP/9zVlYW8+E6A+WsDtIMwp+LMFoR62qoFhCHKZOdanPK6XcOIp0ID56J+EEZOFWUSEjyqop/SGo5FF/xVloNwp+7dJtnPz5CYhanfM/M6FTTm36V3vBaavEvZvu11CGPxYEqimK1Wq+//nriHe7v7088PIl/iJeXhz+GCnr6Ek8vD7J962pMUdaAp4QimgoCj0azvr4TEZGePVWR0ORtb/W3twQNVwSlBJLuYSu+vczfLFjPn/jYKyY15futq6qei654Lb7xvzKaf5dT8X+zv1NGjNEkPjN43R1ZBY+vKP/n5QU/DN12r1dE2osHsSirE+ThPL3Qc/fiRl3xNs72MiM4UIpVkdUN0H8FKjHGrSz8QXr1M5nmP6wwHVxc9rTvjnursgjsS8ldQZLiQ6RHMktXkyKTCVQLZx1Dvxmt0TKrL+kMXnw+4Y9peZ/repp28803b9y48aabbtq+fXtRUdEnn3zCbnVuPEoz5vpwlUSFWRwC2uAVG2IfJsPRCOELz/PC2zLxecbiBzXMuttdVOG35ra0wh+vML+ZWP5yetPrbpOti5afHXzBN219cM49G/b+YHnBDxc90BFxc8lsK2UMR/RQUAYx+Fex2JmaLfK4iCDRmIBeHrCrEk1W00ASVNRn6SYCNBR9u+D6QKgk0OzP7Y/mnkyHKlK2PTA//yHkKeF4FH14Byi2gwcPkrDUqBt3JT30d9n1L8bc0x626Ts+celexqDEuyuya3+SVP9yRP07MdWvLyv+v6vvrjXErj527BibQs4iPIUSNINeWrTAVdyoK97GWTcysERsagmlMfCqV1z62oc7l9b8LKjotey2/1yZ9wMSYPywYqlaSvr2L80MIYfzA49WpywNJz2nj4OKrBBIzvbl2eYT/thc0bVdVVW7urrY0LEp3tvbq6eszc2Qzoz05zKFHul8JRlj9FjmBqOB0peBi4TcmYofBCzrZu8+fSI8cUnWd6oyy/49vQGVVrdL7YwOa6AePt61p7DBLzKThCWTmNS9pU2zbZLXh0VfBSdMJRqTNGTQ7FbKDIymK6yh5wBN5ay2CWkOp47MC9aTp4cz/cnJunioJfBIjK3RMN4RD2bDX2vTMwLIiRPHGN2eDGAd7ANNPn7y2INFlR4Jy4lvjEdUSnFT545vPZB5w7fSKp5f2fb7sIo3wup+k9T6+8z61zbW/tx78x6TyeQ8mfXp7W7cqCvextl2MSGxGm8DVE+oB1yT79mZm3rjfammXyTv/3Os6WDK+tsLVvvDY0ug0dNeH1axhlReb4QDi8wrSbXZjD+fKtdxbt5g91qZZ/hjb75u+MvOzmZHGPwxAhi2ll4kGbl3l1d89kzBH4p1lxIo0VmF/HeqrNCsL4G+tLr8y95z9hczT2cofhBk4PgxANtrDu2htgAAIABJREFUP/+Fd/hKj1uKQwt+kl76utuFFhUMbEQFZ3IhzdkOyGBPj00JXbBSsT4n4hsI/aD1O0AexIgNFbRetNtTnjh0Dmggioxhk6usbHlwYzCYidKeLFd6wSNBfEuI2p4qt0UWbDa2VBeDgHGISNNPw2DQRqFi3UVwDIA6ZrdbfdPWL/1+y6K692IrfptQ8+sk85sZrW/FVT6XXPNCTPFPQ0JC9IAtWZ4ghkEQdDNu1BVv42wHGGGpaEqQgoIwAplw6kQXCU0PfuCfQuteTy77v1EepLciQ60k8KgRarzPNS7y9SbWMjJa6uUZEnOyZ9RpvbniV25eT5xn+GPruaqq3d3dzzzzTEZGxsGDB1966aVf/vKXzzzzzJIlS9hyOjfYx5bry8T9zTYfnOsZMEPxgxMBGQBw/PjxsrKyqKgoT0/PkJAQk8nEVDZmt9LBxXWPvsTfbN28w4t4+nh4ehDi5+dHPAjxQBp2tt100036MsygFgALh2IqCmrWGBpIAtKyTP+aUfZGiunVVPNr8Q0H4xsOZjS/kVb1elrJIU9PTzaF2HTVZVV3hyy/tDRp8+2ba55ZVP/rwNr3wsz/nVD/bnL1q26Hl7vbsNP5bA222+3vvvtuSBjx3/pgyLJNzdeRoTojtEZDY6i9BasXlawluzcHOTrjHt1KKvLqQOmdKsjY6fpXye48w58+Ci+//HJeXp7BYNi9e/d9992Xl5dXVlb2/vvvs8RMSZJ0DUj/yWzsXF76c6nMzhAfnOs7mZH4QXZ5FqDPYI6Rfepgx0pNue7FQvmGOn8xT0pFegj2T4+bY/WtdARE8FIxYAjrG6CpQrJbbSR6eU7u49E1r2V2/ldc+WuLKl5PqXw9oeylDPMbEcU/i4qKYgOri/O699+tETzyyce+icuiv5q/tuHl5KpD6fVvpZb9fHX1c+4mF7rVKJMznKVX9nO73X709CffKGoNI+SjuhTe7A/7YzDN5tFAscn/eFXIFgP574aN75fGJIX6fNo/SGMG3W153s6fT/hj7Czs1jmOk2X5gw8+0NOJbDYbgzy2ls6NAHh5+HPlyoAZ4oNz9fRnKH5QHzpRFPU3k010ll3nqv0FdlwQMcGDRj4j9nGcgJUUL0SrMCpAnQ8N1waFE0XZQSMZ0WGlSUV1beGrbk2tfTGm/IXE2t8km/+wqPrXq5rezih5mtxYUFZWdkFsROJINnr6kSsfTA3Uf3n2BePSLYa1d6/LfzI794msB9uNm+51n1riytu8+MzJPCPDlbu/37I9aLhtMffIElvDImhfZKkLGetIgo4Q0zKP/dvIcOuisg3+TaXfpRT3F1/tqv08n/DHPHr6ywkAY2NjP/7xj/fs2VNYWJiXl7dzJ7I16GUn52AQLw9/NI7PRSDLTPDBubwxF0RMbsYPOtuhWFN6ErRunmdS4TTeVZd9vxq/EByyiEU4sWwtEs5wHK0JOzlg5XMSJ4FTVcwAw2LbshU0++HDRwIj0pZ+s2lb3S8XVfwiuulXiU2vphb8KPvbVT4Rq1iJLrbA6LwV0xgGQcDyZB+fOruzpMY7JoMExnvGLvl+eZO7xGLTaFp3rzNhkDEdDAIkr70jyM/fSAjxxOgi3PHzx+ptXoT4Gnz8iDchviR448bVU9FLTaNDs/yT+YQ/XRJhtOM8z991110tLS1Lly598skn77rrrvz8fHb7siw7o+TsjckU8KcrMp+HMc8UH5zL+0H4cwG7bsQP6pdnkcO6YHIpLDqjof6rBbTDiZRKC2NjFBGJl1WgJT4nqm6y7LrPWe0oVzeWK8D1TwBhHDT5jUNv+YQti91497Jd+9JKfrjS9EPf7FsjFmUeeu6XDDKYyY8J19O12CBhBKNxVGQRA2PRoQ3u0spO78GpqnrxKij3gQp9J07c+dWtZ4eRYkC18+M0mHsAwI4Ms/ZBVglFOTPyuZ15eu3P6a/mE/7Yjeo0RKIo7tixQ5KkpUuXAoDFYtm6dauujMzNqFwe/lwpoTPEB+fy1lwp3W7GD+oE7rplh0G5vvz8Lfg9ENn5EeQipI7qoTNH7/3q1oHTJxjDDRsKfWG4kCSnCALmL0sYyyZLnI168+FI9+nv5pcHLFpJApI9wlP3FFd2dR9nJXUuBg7m83X5gC//BZ3zWMmC1vGxgyZReke3iwpc/upXcFQPv58YEHVEBCjOzU8NJhWFDwDPgcyJMgfqCNoEBNAUFQsC2PoUzXLN9ncFA+x0ClPEWO7H6tWrAWD79u1//OMfbTYb8/zq3mGnH83W7uXhj9bimD0+OJc349Ll4l78oH79S8W9izLJGA7q5y+0HQm5+K0aWBzCYw1FkYS0V+yhpUvwRtk7r+ehI1zChWwN+oE6TigLD8A4JXCWRUXiMKRclhwili2Z2BiYOq8uF765ov+pXZKljk1QOjJ6R3dLSl1RY04nSZKkyyIM+NhfO8AnfXKyD3mhbMMSA+ntGxods9Po/WFQxoEHh6Bq8jBI4ygSjl9LenMa0yl2VRXpJdgJbK7867/+6/Dw8Lvvvpuenh4TE/ODH/yAfaufNsXVZuQrV/B3+QCUGeKDc9lzVwE3bsYPsuvrb6POgO2y3YX6hWyXRLTlDQwOR3uR/8+8M8GfDPV3MxVVV1R1j5xNxOKdIi8wJ7FMq9nhfJUwfViQ7SJWv+SwQKWCPhQGFnqUwrSz1JmqK1G3DMqeNF+ZPRNkjb7igqLTeIwXmZjYnOEBigoKO7ZiSnXdJlJSXm0HEOVRWUDfn0wrE2NYkAyDmIpzfhrtztdP5ln51XHtUq2B0d/rbB+XPWHGR+2y8Ddj4ccz3t0ru6Ak0jwmFGEUJGHWBFVyKDKP5YZRv8YsJZpEzyqTzDBVwZX1cW7O4sYVOA/Qcf91dRs8oZ20bvT8dkUDIgwj50e7lV0THejs4N1O3nJFT+ugljssrgKSomKBUJ7q4Fg4TkaCFBFLQKMKiRZJ1SVTzoQqSodKd17hQX5siPHCytwoRwliMa/c7SHF8lMSpa6iVWooFKL1+WS/fZEXkapDodr7XFVqCiEw2OWg00R/f1lj+hLrdtvz9IP5hL9LEa23t3fXrl0333yzpmknT5589tlnR0fRlTTthdTdUb0s/M1Y8pm7vZmh85kxmncwZnxVEDheRIu/pqh4UEM3KIvT0BRMSJmhZq++y4gWZEk5815YWNgn9Vl8e2xXUXByjHff8CcITJwAqiRxWC9YRDT5vKDlFd4JxtBcrjgBRzN86GyXVMGqcqMgWwEEjsNAHFpEEHFDQTGPIqDr9gRBuAhx8FxpbBwVAhmEMQRDPCRMA/5kBWcB0v0rCgUydLuJArerorh8h5elPQZavcceX1F9g+GhXXdbLnSSgbIsY20vZkO48M2X4P/5hD9mgNc0jdG68Dx/xx13vPTSS2vXrpVl2WazsQSMuRzFy8LfTFEPzOWNOLelasDZMQ1WVSRWj1wEGBcQ56wONO3T1GOViYFOBDTO11gI+/h2Orqbi3ffvzluQ6KHoz5G7IgpzyE7SwtofTgJLVkOGWQY4LRR5E53b6MLx+VKUyEzoITVMplwxz4ikz+VBy/UmNe17Ctp9QJC0XO5MeqbtsM4umgVULHglfvSnwbACxKtmgAUy1D0GxzoWx5NjpeFqfsSwewjtyV2VcSnhJDT/YOsn7qt4Eq6fbWdM8/wpw8HQ8CsrCwASE9PZ8eXLVvGwujnzCR/WfhDcWgmiKf0m53jHZT+NBVfPyz/AXYVus+d/+pXbuw+fR7T+ykpMirFlEBg6kKRc9zzmW3OIkHfwIm4gKDCTX7GYJ/92WTAHNDbkRMaltZ1jsfgPvRiCmBVsOQuDpWbG0YIXKYwKTj6wNIHqqBIsiCjqstCryd8u5oAsgNkXkXtGIVBV5uuWur+GXZEAxjl7bJiB0VWOElGxgdxGt0XxInwMry+LKK/RZNzd++sWOehtiRASzSYQ/maUGhLLNkcXlBSwwjrWG9ZTy4jmbq6mavj+DzDn6IoAt2Y2Lx169bh4eE1a9YAwLvvvnvbbbfhhLiwzcGIXRb+Zop2dA76f9kmLsAfj74mAF5W6oofSvYiFQW7MdScYzyrAoaV0ToPl73IQjiowt2l1SU54UZv8kFRaAwhw+1R4zURBduiWh/eBQrWrMA645wFxTL7hFPOjRt3UZa+sKzSEJ5ADNEkYsnOio6PTvYjb4SqSprKDIKIuaoImsoLCucadZlvWnffa5rGjEIn+oXbvnHb+cFeTqH15JCxRcLFblqbIAis7B9o8rnuk9HhIV21wWJnJDQT6AiCDl/oMH5SERkfSoaGhvQQGZ2v91KL1rR6MUc/mmf40z1N7EEeOXJk8+bNERERy5Yty87O/stf/uKc9zYHQ3JZ+EP4QEpxaVyggbDI06f+5OA7JCgpfsvd2YV/l1H2b8tNT3uuucsQm3noZawDy6Ln9fyB+Z0TiqJpIocVLVTMYO0/c2xjCHm5KGdVGOk/8RES3KF8KyELISU7moNxnpcm+k6dSA8neRuiczcGQQOp3Oxfu51Ae9iRRr+vBJLBY2dY3VgFJF6yyO4rv0j27kD/hwUZQxHinn/r/5GgZLJ1d47pX5fk/p81hT8yrPmmb0zm6y+9BMII2v+ouKfJHPpbNMxEdo1+E2Ome6j1ncKC0jBC6qryR9FMA6A5ZAW5b6axsQgblGEVUebtjbWVt1y/Dcy+wr5kqCNcfQh0BGsNQdAYZNps2Lt3L2vC2TSvi6jTaH3ufzLP8MduWBTFM2fOsH2Hw/Hhhx92dXVxHKeD45yNy+Xhb6ZKDs3ZbVzakCbLyPiOb1d7yfdNK4h134qH1/g+ZroPo8zwfJmSO0n2S3+7UI7k79mZtyk+yIPYqkO0hmB7jU8UIcdalh17ckXuRv/GCpNdRaeHzYb2PzsSX7m5aVj2DAU7BXkSPjx6gsRlrbjXnNFyKKL8+cjK11Ia3lxZ+fPMb1WRoHgPQkjU0sKmxz/4jHJcarLooDXnXLfJspIZvujYd+zYsS3h5JelORl+pHdYwOY1myhPx/WBTM2cHbFPFihjm7hp7WofWjnXx9PoQfwIMRqIVwBW1PUh3klbt25l3WCrO4shdd39q/Gb+YQ/XXIGgDVr1rCQy29961tMetIfMCPhmJtVxSX8zUjByfmaABqoaF9H3exs70CaD/moIQeaQ99tvjXTl/T1nkXiPIyJ4YAaCOerm7Pd7k0bl/l6h9+7OVRtioeGCHt7aOmGsHAPkkyIkZDsLdt4XAMEyvGCVkD3+yMrmsqLAvNp5FXUhay7a2350ymV/57Z/qvIhrdDan+b0vS75ZXP+Wy8P2L9N7bvMoevuj4oIf25XzxPeb9RYLtC1xMTuOx2e3V1dX0WGXg0p2qbf2mxCUt2amPIge2+A58aHykCsoBTjJGSKOOXDNLoAM19xquqFrSSyMPM58vsfaw/ulHS/aGbn1/MJ/w53zGz9wFAdnY2O/556uWFiHzn82dp/7LwN0ttzd1lNUEWMB5CALkmb3f1Fk9rqy+WRms2NO/wKC95mKlgWOcL1fxpaU1zdzNOLWFBMkzaZcbNMU7BmA9tgmdUXz7ZW6ooytD5ofQQ8te6ENgXMlSfA03eo2YS5e8/NNjPUnocEiNIZXXO3Lb9jbAKuSIHsnD244+Dg6KIIYb4xpDANRErbkopfjqm+c2Mxl/ElT8bkXcwwD9uijrLTJ5i2o+uA4nomgEBK3pTjOYtXP8H0b5hp8sioJWcqwlJCCC9FloBTmbufKexct6VZeAxU/fYqdPbbrl9aLAffdYq5r0wFhI2YuwXcyN2OPduLvfnE/70eQkAK1asYEJfVlaWs6WMZYbM2TNYmPAHFpbrOjTal+JDfme+UXxyhb3EU9639PXyzUmBZGCcG5NYMuwFVXgu5+B022JYRblIJdk2jmUtkaLYrr+9upeA8XpV5pfnrybyoyFg9tUak6DRk28NqN0SVJT3MIDq4Gg1Xlq3mxm/3O2XBjKqvRoceu0dY0xm8MpbV9zXsq7sHxc//IPQG/cQn4iwu9qTGv4zxfTy0sY3iZenqzrLOu2K87THm1JsIA9TwhoVHTMqlD+cf8/NWWrLCrXcT96XVLHFf9f938MgG6GXR/ZrFxs6nuVRgM7awvhA0pz3HQe+e5+TdLGfiaLobNRzca0v9+H5hD+dbE5VVYPBEBAQEBoa6u/vHx6OFbyMRiNjD2cDrC/mszreCxL+eDtKDSJAa/Ge2i1k/JEMod4XnvCFZqJ1hnesIy0P3UBtPQCCOqPleWf1WeEbK8sYZ0dzV2TQJJUbR1QA0HNXmTgDAENDQ4sNxo9qE1HsbQ2H1mAw+/Ftyd11ifFRYadPHhMEhD+HqIgSRiPgZd3dsL6Seuj1t30DIohXIPELJVEpoSs3ZuU+mmH6jzX3VJLQzPTdP4qqfy9hz4/8gw2u6iwzdZIJfQzKWfgXo96ySmiVdIA8dPLcdk/y5+pQeDRsqClA2W88bIrJjvA4e7IfFBQRXW6iJAD0ne2ODvR846GYzCDS1zegO4qdGV/0hcTlpb7kX8wn/LGhY7IeW2f0tHM90I9xYeny/2yP9oKEP0xGgLHzZ47meJFTNTFQ6wO10VDnC7WRUBvcVZm2JoD0jVlGZLTYux3sO9uPZIrrM+uc5AAFVbmBnrN33ry1e3AiW4Nx1emaxN69e81rgpUDURjAYQ6GegLtoWJNAuwLv2Xb+hpTCRr+Kb8Lul+x4rf7RgDJduj1t0nQEr/1964p+od11f8e89CT5EYTCV6T8s36hMbfkTV3xK7blNr4dviaOyPXfHOKOss60ZFEt4nXAXn3BVDlcVGzAlTseagui2iPBEKdAToT5BoCnaEHtpPKXXdjWPsU44ZZytBcuvO+TbHwSFzxOq8GU/4YRXsmbzIfC7uAswQ6xSW/pF/NJ/zpU5Ohm/6R7TDbH1t/5kb0Y9r3ZWp9fEmfrd5tATRr7/6ygtI14aMHUqHDKDVEcU/GWx5JUPeHWx9fuWedobasGOU+rPSq/+yq39FkDBURbYqiDAOUFuXGepG95TVsKXVeMkdHR2+++WbilYK0nJ7Exz+A+BBCvAO8Q4nRI8SHbF+3SuZRa8YwIAEduNPYTh8/SSKXZdx3INX0y6ii51Kb3kgwvxnT9G7YPX9PgmIXFf5bsOlV4m9Y9Y2HiTE6Ju/FqessO+PORDixBGBzAAzbHNZPPxtaEUKOtqVCNYG6QOgMgTZ/6Az/MD9sXST5c9d5mfnzL3cbMsDg0feToo0napJG68P7q8JSIrzOn0eqAsZ4yIJwmelgYQuA8wl/bIIyWm19skqSdNGIO8+Dyz3NmTy2IKW/IYBBgCU7biW+wQGEhGE5cCMhEQa6H0JIYFBI+oYbrTT4RVW/PPKfJjskDVSMF/mwj0/2JS9V3pAaSgYH0ex10WqKCCLxiJYAVpkbR1M/FH/nruRAUpP/AEgW9HLSnH9aHm6CANWtubXH1By8+b4VdS+mNv8mo/HVzOr/WFn3iyU1z8fu+0PQlm/GLt2YUfkbD+LvG7c8+tvmuNrnXdVZ1t8Fm82mi4FY2U7DAmySNgIgm0v2fTsr4Pzfr4DWxfBYtNxMrB1B9o44YX922Ya4miITWE+76rwC0Lr3G8XbIxy1/vBoEph9ytZ71Zty2fm6qKF3w9V1FsDx+YQ/NnzO5lU9xU1/Bkwi0//O9ogvSPgDhQMZxPEh0GxYbVuwAnAigh1m+Q/Zxyihp4zJH0j6oVuBZnuw/7fXVxW0YYFqUQVrfmV9/XZ/rm1xyzpSWVmpR2OwpVRfQZUxDCyxoDUAes6MrQ4lbxUuSgn1Gj1zFDPPMN8fzX82O9ZidnfzCE/cWPBYYs2rvtW/iWj9r4iGd4Pq/mQwfxpS8/Liyv+ICgnJ/v5jBs/AJffuT6x5NbP+J67qLLM+2+328fHxb33rWydPnpywZtptGI8oDmiqsDZ7Y2xwYBghsTRqJ4CQIB9c0wwo1Aalb/vK5+yDl9zGqWOfrorxPFUVh9hX7yXUG/qqIxcFEUbWr1tLmWleH7pLLrMQDswz/LHFjQ0xgzx90dYX8Ll8DAsS/gSQBZRsBBWssoLcdHb7IAZAS+NWlUb3ihYQ0fgzjomvXxrtVwOwIQv9ED/UHeDneaR6OTSQQZN/QEDAwMAA0+DY1GJpk0hS4hBAso+DHRRHRW7Fw9vioNXvzq2rOmpKACO+VVlB/ZfWMXYbAIl/1Ibip5LqDsY2/iq94WBW9U9XVjy7tPJQcs07aQVPe3oRr/X3kKgUckP1st1PxlW9PUWdZeb8LSgoMBgM5eXlE0ijgYWzYtoiBijZeAeWoOMBhd9RABuGbeKqhk/WMQp0abgsRNVXV9y7MUFsjcHQn/pQ2B8ANZ733bC0pqaGvY/OjqPLXmHBHJxn+JupcWSC+kXiuu5Z1lPQ9OZ06fIiRVuSpI0bN+pC6DzPA53uFM3wKg3owjuQMaEK89GZpxLTnDBqQb+5q2VHEUHSevCFHLMASEMow2ggjYAigSpLAvKio7ipKpTB023YxSur6PU1lxRXrCNqWwiYidoYXbWedO79hkarFKFuoVpAkSifQK8KEv5Kg57u7sX+5L26ZdBKegq9UgMMZ8YdDlBVDpXiEWSGcNvzGxi+dPWu/VHVL4U3/zHZ/IclVYfSa5+Pa/h5hOlXq/KeJAGhsSG+7/76V0UVdd7GMG8fv4iIiIKCgqNHj+oPbCLWVRbGBBgcH40LJL/NX5TpQ84Pj1oA1y0cLlmiBloBFyoNx3KKjc1z9hdd24rS39+f7kEOm1ZAUwi0h3G1gXKjUWsPPVflH+dHbCMjeDUFaTA4aiig6Z5TtPDl/mqBwB97CCzo/JVXXlmxYkVaWlpnZ6fOqcXIU+++++60tLT169frcr7+Qz1lR4+7ZiDoLI3O9aO+QHZPvZDoiGRZ7hxyJamMkANnpyKCwwYi5Xmb6y5O1R7CMwxit3hu0CZ0jdtvuenWrp4hpCMR8TtGMKdoSHbHivlMdblLvhPApoE03N+92Iu817RUeyIU9hv4A3H/2X79igBy+hz6gDFYRBpGTgFECqxNwZaK2r33mW8IGXs0E5qJ/GRS/nVh3ykttFAG99Hp8j4UlNRFbLp7Re3zsbXvxFS/k1h1KLHm1cSmQ9lNr/tv+I5fWMSvXn5OlgRMiKMQ7Lz06s5WPOgY4gF279nbvo30tS+pu85QUIjZtZoGdgeuGRqIgmjD8iMCo+u5ZGjoAWe9VZcM8vLyOm4ko/tSoM3P0eCFXAadRmj35DsC7rl5U+7uXRxaRATg7WgLoTWXLn/1BXF0IcAfk9EYTqmqunLlys8++0wUxdWrVx8+fJihBgD88Ic/LCsrkyTpF7/4xT333MNy6S5CN1mWN2/ezHxejMhMlxPn4XFfKHWkF3tjyQmKOpGQhRYu1FVpTRwkLLjKNoQ4TpQF0YKxybtL8pIMZGd1u85vTMcWBVsmBrrbex7AJkFz0cP1Gzy4/elyg4/WEiyZw/vb4mvWk47ynRzAGC4OnE3AwO9BQE3fosKpHuu6SPJRZRrGPx4IhTpyptyQ4U+Gu06AxnFYZUgQ3I97OX78aHDy6qTbTTn1ryyqeTmx/tW0xkOLKw8mft1Eope+8fZboAkatTBQ7J+wsTKuFFmW9QkM2uipPsvSmNCeXQT2RxyuXZQeToZPn6ZJ2yjxKpi+KGuaQhlSv2DYmBmUQS3HcTt27CCeRm8v4odOcB/iF+RNSKgvVqwM9yBbtmzBuB/rECh2LDIoCbizcLeFAH8AwMIDNU177733rr/+ejaT2trannjiCRZLKEnS1772tbfeeot59yMjI52fKVsn2URZu3atPlecz5mHfY3OPxqANjGJARycgPKBg9qnqBwxLqCZ52p0WHAINyM9x3fcdt9Hf3o32Jf8umxxdBA5dm6Y8m4xdV3VNEWSVRs/pRZ3udGXAbrOjmZ6k+7aLCgj0B4MjcHQFAitpKsiZrM3Gej+REQvh8wpEi1oaQeFBw3MBQ+UriDC/gytNcTeGa+a4+CpJQUbEmrzzbiwcCLYeCaiXa7ZKY7Zf/rMz41RWSFrv7s0/6lM048z9jwWvHUvicl8/o1fA8i8bVymBBN45yLn7PTTL0pJyeS9heVl6yKhloCZ8I9G568ltUVlE0oACtXUGPJFkYnOGbh6XR2UFSQeC4ioqE2jIiGDbJEG+4SvbVt9vofGPyPptANtRxhoiCkhC3VbCPDHwI5Jcz/96U8LCgrY0/rJT35SUlLC9gVBWLt2bV9fn8PhkGU5Kyvr3Llz7CuGLEzK43l+w4YNzlqD8/6cTwLUcPWXxO7gVZrXBaKEaomKzJoqLYjDmJrmvHtf1CDyr0NFWW6iP1m7NL3h1iBtf2DLZlJeVSuqE7ZKNuyM8/2LLnfJ98KZA/U7H8gi9idWQFsA3xQ60hRjbQkfqwvve+r2/M3J9aXFCvoIkNBfwz/Qp8CRUwObQ8lp8zKlxg/aDQgxLYSvJZ9WJq2O9D95/jPQBkWAkQkJ+5JGXR+QlDFQpLOfde8pbCDJWSQyhUSmFJc3fnqii+cZt7M6auPRxTRuRZvlhWR2NgN1l+unQ+OLIwyH8xfBI0nQQOQO/4+rkhaFBA73nVF4GyVHYHnOaAxRaKkW153Cb3QTNiMVBrCIio0+HE7hBkHFqup7CsszDaSytJAHGLPzAKoNuQ8xTmgBbwsB/nT1VpKkN99886GHHmJe42effZZBIXvH0tLSdMiLjY1lpj1mE1EU5emnn16yZMltt90WEhLC5iWTE+f12aMCxpKQGEBgcRwM/RLQ4i3ZqUlLAJUX7aO4f5VtqG+eOxViIP9ZnBxAyJ9q0seqyQdF8TFG8qd338BoG8Qm/Etz19zu/TjA0q03Ej8SQgMY/QghXt7EBxlcIgnxIYYVa27ARAlFwWgeUQW+TwPNz5MHAAAgAElEQVRorC4rXEH4/UulhiAwB0Cbr1IX6NiXKD6ec//GRWVFD4Hcw0oRudshzMGzjQNvZ1TRoxzNnMMwI6RNBlWy2WwTQE/v+aLr6/z1eaVVpu3B0B4+2p4C7UZoNMC++Ic2hJbmPUBRXKbVNcHhwDBGzbUMqKMqm0W6+U/UUCqnLiAJNJlX4PS5/ugg31dL1qV7kz//+b+/cvsd586dwUQa7uqbVReN2v/u40KAPyb3MS/HH//4x5tvvpktpG1tbR0dHWxfUZQ777zzvffeY1AYHBysqir7IatMqCu8mzZtQqu8LLM1k53/vxvkaf5aZ0uVFY0l5P/lyMem6jqSsJL4RJHA+OL6tvf/8hHSnqgSBvddZZtFERrqqwvWE2g3VG1LKFtNrE8l164mSYR8Y+sSx/A59GNSJZPqc257WlG2lO0gj2kKUOIDYDXarLTsGWW4QZsA+kk1WXNIoEicqK3d/hV/Y4AvIf6+hHh6E+9AQgKNxBhMiNFoXLX2JsQThQOL27ZUtMTinWAhvQn1VFExoBpYuV58PLKsOmxUGlUmIquZesHcsgBw9uzZdF/yUXkcdHr1NxhhfwI0Bil1xk9qYxIjvM8dP4LFhxFYgeeZ6/wLjJR6IgebHaIoahYJTScSgCCCCGfODO1IjynP9uZaU9q2eV2/PCo22Lui4CFVoQYD1/B6lU236XRnIcCfrjUwY0d6evrRo0dVVc3JyTly5AjDNQB44oknCgsLNU177rnn7r33XqYyM9DUR05RlPXr1+uh9rriqZ8wlzvsxVA1kGhy17O/PBgeHbc8a038Q3+/sfanyx/aH7LpHr+UDT85+A5qktPM1JrFG+qz9JOAsB5zMDSRYwXJSQHkP8tDEz3IT2rviiXk3Gd/VqiP1UbL5n5BBMflusmji2JAAUs/dWvIeB2LKg9TyxZCo8RjPJxMLXmMLwAtBrIwLlF+f6EfNORlxghhpPG2qfxfFYB+bAutk+5uWE8FA2ZsWB0YuROB5xAOMZwFURgBC0P1NBA4UddZLyik2JrD4SgvL6/ZkADNgXCAyM1EbIiDugCtGSmtbt66vKO+jEqXYLMghtKKfS6XDV3c0w04E1qwwnGcIChoOLEDfK+wMI6Qj82LoZZ8Wr0kg5CWgm8nBZHR88fRUKm5vQy4O27zeP5CgD8dyNg4Hjx4cNWqVYmJifv37x8fH+/s7HzhhRfY3PrmN7+Znp6+ZcuWTz/9VAc+ho/636sn5xcBTbFoMGQHOHxq0Cs0bfnOtpjGQ0vrX46peive/Ke0qjdW3ttOgpKOH+ty31Q1c7NOEWgqPsIPBnCgVIEMcg+aSlpvJPaODLUp1troYd5BVoUaajeFDD6WWJxNdqxYI6PHRhqDUQeAw7XnQ1/AnJU4PIjS4wjN7e8HmRZq4tGc73JzzXPHAIItn87NubyUW1/IKJsqYAdhCARUPE+MdN+y/dajoyLIY6AwegIZhEFVgy0bb/RwsRFCbrrpJj0olTmLp9FbOw2TRv1Xhe4BR0BAYNF6X7E1dqwVWewrthLz6tjv7QhqKurAhYGnVRAUXCSweLCE0eEYwinbxwGEMZSUBY3Gy6MuztG4QbdGZz5PXgjwx4x0sjxRp0q39bI5zTRcZgdhdjTmJtZHnS2SEzZ4Tbt64A/DI1B7s1kk/t6i2pQbH1hR+i+xDW+lVLyQ3vr7sMq3U+rfWVXydPyWu/PLajWMJ5uvjQYhYqAELQ9GFb/ennPpHj4ncwllWPGBA+R4VXKOJ3mjJBjayNmGtJWEHP7z+9S8PgzATQVbNBXf2ZLF7pPGTWMMiKZgCi/Kayxf19UwTMlzp8tKbKV0dY3pHFdg3I51VECWQYNxDUpL8pf5keKKUuCtoEK/hZnwUKATpwy3ZnqJzYYsD6wn+o4bHZMlEGnxalnKv+fWLC9yxBQE7QQeTRWbU/pLSIaBvFNvXBTm1TV0nNqUBRBhDIOsBRAxHnBERaUeKXRRg3YowFELLkrfV1306ZTjskDgT7fQ6TsM+8bHJ4h/JEli7w+bLjpWSpKk+8WYC+XqgT8NJEliVReEkCVZqbv2LW54I6rizeXNvw3JezbR/E54zaHkupezC//OIzwVX6152hjmYJQEbqxShFSw+/7SjXHC/gylLkLqyFQ7fMcPJBatJEU3BkOd13j74rwckp2zGoPKVBvII1gg/Ao23T+AIAXQ1Td+500bB84PocmNxxqSU9H1T8lzx56+bu6YDqy46D9NNBEUHr0UPPBn+kdXBHi9nJ+Y6Ef6+wcx5UWeyLTDkJQpHyNbvxlSs0jpaUh/AH0AFjtoR3vHwn2IaY2X+OhGMEdJ1UTaFw37Yu9dHvv4toi2dFJQ2EhNf2grpP2ywEg/aKoIMjjGQR1B+JMkDtCdjXo9N6LIXyYAXAjwp5s2nPnxnaeibsvTRTznb9k+m+5XVc6vChaEFAlfaeIXuKjsH6Prf5NW/4fU2jdT615LaflVVMtbQdWvZpT9G/GJA3Ea1qpLh2E6R1gaA7qkEUJk0IQzR4+kxoYMVnuJncHQ4AsNYX2d8VxbyEDD2nBCxsuDoNXveGVgiicZsmkYDKeiEcrVpj9fPZBtYm0DeLigbKUfqcmtxJuXUa/Egk2uNtc8dwxQ2ALJ81gRdFqwcvmGUU5DXKaWQZCriopLVwbAD1NNW7xrqis5HD7kK0SvMKZbTIh1l15LX9rZV5Ik6SNz6clTHVE4ZAkDeDCvNN2HHC6LgxZ/aPJRm9KhLV6ojz9cF5NqIO/lk8i48KMDZ0TJjmI1yJo0igZNXrQpPEqf2phoR/IIG2CKHhX6ZdDmbR5Odcsuvls48Oc8X9m0cBbrLpoooijqTOiapumK1VUFfwqgooEvjWAjEbHLqv4lrvZXaRW/ii97eUXLOwk1z8c2vR7T8Npy09Mescth/pRfXpso3Y3LDEZ48E1VJbdszYH6KOHRKGjAoiLy3+VAiSfURVZs9qxYa+A6k6V2Q+11noUFJixhwSsoULjYWOC68/NiMtqJwb60IPK2aeUSD9I/2AMiprhNAX+ueO7Y3FBVVdd/LwIaF/260sMyCBLVfa2a9dzwULoXOd60WighH9RmJvmQ4d5+UDieZdqpX1yg8iKxdBpd1TSwjtv6+geDjd4PZXs6DmRAa4BgDrJ1xPSZCbR5SX8fuWdjfPVW0pJjqMfIWawbp4h2NEJocLpn6Na7vto1pIAm8QD9Ipwa6Lv72zcPnj+PLvgrHZWr4ryFAH845y8s14qi6JOYDTADQf0gQ0n9ozO199Wm/KK9HJMuFVCF/Jp6kn3Hqsqfrax6KdP8Vmzxc8k1LyxpfCnH/JznmrseKq2fhud0piYgU35RdsFaOapgt+zYvN7fkxiIX4gf8fT0JD4hxIss9ifBhJAAv3uTyVBDJHR4HqlOWRVMes4OCchU8gWBO/p7ru9Ulu2pXENsnUvq1gfUluxC05QioxPGxeaK547BH4MVZhfWcyRcXMm9w5xixcg/TROAq8zPrV7vJ+6PgyaDY19S9Ubv1sIHQFWtsoT6pSaqEg7jZTc2P9lffWnXR+PK+2TjRhQQck1FxsiQYBo1GYAhk5GxhAQFR3iRmAAMnDRsS/X4pCrDJ5z09JxCyU6yayCNKdBQXRHuQUqKK4DSBdkBygvuXWQgjUVYKn46TGFX3vWZPnMhwJ9e7p45c3UxkM0MpiMwUlVdBmQEB7pBUPeWXFXSnzABKByAdOSTozEZOUvuKllT/Uxq1YuZZnSAZFc8s+SuEkNsJnp+aZmumZ4eV3Q9AVMaJtKwHHas8I0uYMZqAKrDAo9XltVsIkMHYoTWZKUpuqcuAR5PgCa/oY7lheuNdUV70FnsWmxgRi727PS3/dixY+lGcrI0BKp9jpnTEr3I+cFe1TFVlIYrnru+vj52n7pPTJ9CV3T/X3QSWjBUQQH5dM9Aqhf51LzUUUEwmq/e63RdWpY3+eTkefREyGM4bq491xct1axZfUp/US+cvldg8ETXOl/yl4o0aV+s0hqsdUbyZn94NPkPub5r48nvmxL7DqRxHYFQSQ5s9TCZCtB1jVYFrm9ETfcmzxVnrfIh50+cFgCGh8azA8i/FyZtCCODXVaXMrxT+1fP7kKAP3002XvCPjKKt4tkPWc5UX+R9Gzzq036o8mWmCJlk2ygwpsHX/GMXUJ27IrKfTqp6pWovT/z3VboGbn80MuvYF6/69dGH5/Z2tEklLnQfI/mP8bIgHAmWcdBHQdYtnYdMQYR4h9OPIyEeBi9iJenl4+3HyEBnmTDelra9MoYa5jay+rbPrwtDdr9wOwx0hyw57pleZUFIElT1Ml1xXNXWloKAL29vbfddtvp06dnFvtwzBHZe0UQ8wuaCrZHD7VGw74wtSEYmjyUxrCSzZF7K1slhQd1AB04rp+jjnRsh0XATKO3IxJUlxeWb/aSO+OgjoA5ENoXgTlUqw+FfTF7V/ik0iwa4hdF/AzEi6xdu4JGM42CMlpeUlWy1jj6g/XNOaSxuEwDtfiBeyo3kN4fr83P8W4tqP9SVUuABQV///vX+6qS/pgG5HxThw8frqmpCQ8PJ4RERUWVlZWxAEaW5Od85kLat9OgZNBUTbMqoDok6DpjDwuPPm2KhRo/aCFqtd+HLTvSPMnImR70FNFIY/2vznOXQ8iRxhVIC1gfAo2x0v4Ya1OExRS/KIycPt1lLi7w9g8qKb1/AFFco+WOBYU/hySp2jCrrAvSFI4Vl0Pu0NBJ3X3m9Oog8t9V6UpHKLR6InDXBkJL4p+ql20MIkNnTwnUl22bFnmFDoK6BKBj5aXdkiTphhtuIIR4eHig1uvlxfbZDiFk06ZNDFsnbOKqirlvKpwdgUWBpLvCCG2kqyQsMMT35AcfpASR4aIQsTHFUUkyvUnP0KkJb52AkTIShvogRyEyVNLgBNYx9lfv7aWdnJsj1+Bv0jhfVfDn3DPdOcPCGJ1NnM6uG+efLJh9lIIxEQ1jzOzUFdS497tFmw3io4u0NqNaR2Cf/8CBJZXX+5fl3Y+VLp3sALqRNy8vb/8Nvt3tCWITgWYfudGf7/QX2v00c9g91y81VVZEepLXS7PSIkn3+VNYRNfO09A46lFSBJCoawYpJ74gyewyw64MgWZpKv5e7gbDyFPbhPpgaDZCMxJtqZ2R555at2c12Vf4AGLk1HGLl7n0xCFBENgMYX/1NFBXv7goFkIHJmYAZYkoPM+zq2HJYO48qNID3/t25dYAoS1BMxmU5uW568KWrv9K6VZP2yNLoS104LGVLavJ/RWtmipgbAwtQq8qOgKiTZZ1jF3/0tXdVW9n7/g1+Js0tlcb/OlvsjPe6T1mCv7VMI30Ls3GDhLwITU/xphZAT7++OObw8indbFQ7w9tEarZCO0BUOdztDp1Yzj5qHsi0pO9ukwsmuC588ogXj5o1/fCim/Ek3h7kCBCogiJTkws2OILrd7l60hVcQEtIo60Jyd7Bu+4aUNvD9I/S8w5jZzy7m72cUlcd8udxMcvwAMJGrAiB/FnOyiBeXqu33ELkoCJnKqiuOnWdpEvWJcEXV3EYplogg2RnjOq7zBDuR4CiSWDFTh3aiArjHxYESvt8x9qCoBHQoXadF9C/mRKtbd5wz4yti+VKyNBhuChoXOMiVoScbmQFY0TaNAjpZ9gUMtxHOv2F/bW1V3MyPFr8DdpGK8q+GOVap3Du7DcF8/rVktmrGRU/he9A5Pu6kv+AU1nlBTfZh8VAepLCx9c7tX1xBboMPDtwbZ9oVKrl9ZExMeS9i4hj9d8Vw8PZKbeCRGG51GfFYGGFssYaIPcexo4ZOv58+FGcqopBlrIQFVMvMF7eHCIUeHl5ZUt8yWluSYHLYKCyIcI7OYmjIGGniBJUoAbpzQNoqYhr6BM+cpkAKukYHFeySq6r/yy+SBJEpPpLgp1cNVXHfsuWj7Z6OnTSRTFMTpslbvu3r+NwL4QqZpAZwLU+kFdeNEmUpFN4O8iR5t8oDFYbvMt3xG3d/d9AJIqK4o0QcyLPkaZY5I4+8ta14HYVSdn+/g1+Js0wlcV/Ok908N6GN7px5l5yxkfnb9aMPsqWCXKJqCBpHCDN2WvTPEh0QQFNwMhgV6GQE8vP6ze6WMwJqVlfU2/cT06ZIJWQBNpChen0RJ3lAxGBc2eX9po2kxgn2G8gsAjiUVrQ4tydzsAzvQOZAR5vFmxPNmDnB4+KwsUmST3pT8ZKxGwCkrIuY8UUwzkLKCNYe6EPAKKRRzuRbfR/zpqWJIkHbz0oXDeuWjCsNKyl431YQMoA/f+qXNrI8iH+WHQEYoFhfcFQ62Rb4s61xy+hpDDBZFcUxTsCz3fGdddHxUXHdJ7rguJiDSQBMachMQdrA+6vY/hoK7fOPdwzvavwd+kob6q4M9ZymOCjN5XPWlPP7Kgd7AKnYXlnKpjYLOziDMaKqNyDswacQBYsV4IB/KwLtewQdPNf8iqj7GBYKNBHDYq1HSdPhUSHNhfE6E2+2udkVrnohMl0UlBpKt/oKJob+UaYu1cUr3Rt65iN9PjaCimm4Nts2OBXhFjgTgB88PsgDQHA5Sohln80F2gYtC46n7kCAv80tV8ZmKbAgHZmYqi6MuD8/04DReIoojwZOmuKTKVrIsRD6yxtsXY9gWLjQQeix5pCRVbja05Hv+4zQuqAqAx4vy+JDCTW27Y1FxfrQg8DVnFjBesS0Ntp87Ii8Xph4edm577/WvwN2nMryr4m9Qzpw/OwiCLBWP6r9MpC2pXUcbRfYgRIYLVOohFyCgBCebSUhYDpPNj3/McYIIFbpfy3KHzRKSYhwyAIv7WBq3VptLrjFDvCY3+cCDJ1hwEHb611wXn7dqTGkDOVMVBvX9X4+LFPqRnsFcYs7oOT3Q55uNYWRgdG9g40nJJ3FgPaBbA3lJY4AVKsW8fwCKc09mcsWxsbOxSLcH5opcio75g6JKjczSYFSBj+1eJp9FAawoH+6LQbSTEz4d4+gVhwRDf+Ei0YHoTD89FYWhX3bR2FXJQaqBR16+ILitM0WPIy4Txvr6+r33taz09Pc59m+P9a/A3acCvKvhznqa6JIh0lZrGVIbZy9OaNCjz/oEmzGJBTBmTw0ZZZpXa46B0dEhDgvmydp4WrrCij2RCz9IVKybmaDAu0cRbGelL+gHU/vM9oSHks5oo2BcJNcTWno4pem3kiCkh2tf3uxsyoCMIGjxsjd6F12fmmfJBUjFX1t1NGUEAVC0aUp/KrFeKpIrAybTME8IErdKL2qL7jAHO86S7u/vOO+88e/bs1H3U8U6v6qWP1UU/RMASeeDGQGZ6OecAYWRiMRoZQ1d1D1hPOwBQkJORgpA+FhoHShclGhUvS6KdNcE8KqqqVlVV+fj4sKDLixqds4/X4G/SUF9V8DepZwvuAxME2G2xffZ66OClSyJu3zpmnSBkKqpDA8nOOVBGpKWQNVDt0rgGVMeU1Zb87z+wI1luD4LHwm01BB5NgJYgqPMZfWx9/jqf+zf4i+YAaCJya+zJmtRUX/KZBQBTXK6yTcboHFXBilf7cr+WEEAq8h9EKVLiqQiGkTpIHcmGBaPT52fD8lG4eFhAgcOjtgwf8n5eYJw/OTHAIQOhjCHfHGLsGEhgd5m7OJOdvwZ/k0bzGvxNGo5Z+3Cpt1FvikXz6BKNHn6hn/DFOyivII+KovKygkmoDk7SNFbhXAXgZAWJO0HUtudkYRYKBgATgwfqdL7IfO/nR0iMN7k7iVhakoSOcPsjCdbmoJrNJHdvEROBvrgPc3kG5QMXAQZ7z2VGeh3KXbLYSE6P2DRF5R3IISgIePsIgoqqUgSay97pbdH6nMiJq4G8Nze/6Trf4aa06hvC8wpyMdtFZn5wFTm6BSxENwfbNfibNMjX4G/ScMzOB6a869KfrsvrtU1YEosr+rIv7pSG77mIWXSy3YFx0GgK5DFxy86ximsCZb1HJmNWIxRFDRSQZE6DI2csWSHkr9Wr5JZMaPcfryLqIz7QRj6tjlkV4Xv24zNf3IG5PUMVMVNuVIbK0sJda/yhNa5sLSktK1AArA4Jy2KqQP2wdBzmTfgDWjLYLklwrOezbCPpqjSq+zI/LotKDibDvYMOmrcpyyq1LshfxIAxM0N8Df4mjeM1+Js0HHPygUmCuv6rG8gvcna72xcVvY0qFupG+MN/zPvIoTFeQmY9FQt8oJuAMiqCOAwSlresMhUXb/Ifa8+AhlCoJvBYnLU1SKsj449kPpgT8khZvrs9mfXzVZsA8On5kfhA0lufpNQHnauJSzOS7tPnMaKQpYPjLaNZcU50Shd3rNhsiiwA5FeW1Kwm0O5jNcdAk3fJDt/yh/ZQWEZmLUofyc+NlH0N/iY9qmvwN2k45vYDC/O+qE3dSH/R8Sk+KhqWHEFDPDJII1OdJjqG+87ccuPWwdEx+nYBOohVu0p142GJxjTzo+OSMg6wccfGYFoqkxh9PDyIt6+HFyFx3sToQUhYVMaW66Zoen6+kkY0gJ3VHRWbfMFM5LZEMAfUbSQVBbsBYIyjY6EJINLSHfPTRWxVFawWDY73DyREhH1aHQNNhhFawul/mldk+ZGRgUFNw5AmAdcjSqM/+129Bn+Txvga/E0ajtn8oOu8zo04xzO68kU6n3/ZfY06PjDFgoXDIAE1V5J7f4Y3aSjeJQM4NMBalNIwCkTUcyyMnQZ1VACwqDKoo7I6PoKuTMz0x9rKAqgKErqjU1PBHLCra5Oso2c/9g4OHaiNQXG1LVJuDj9fn7AqjPSf+EgGRiBNKxaB6n7Q9ozdq6YpPMCuvd/NXRendgZotcGWRxKgiYx3JNav924puJ9J6JRXX8IaLrO/XYO/SWN8Df4mDcfsfNC5yJwBThAElg/PvnXma3G3FwqFP6wqSclGQJXOHvtwUaTP60XpG4zk7KkzDhaDCzaVm6iRRIkMZAePfhK0zNPIZJAHwTIADitCIOauYhlfyoPgbo9m93ykca3Ym7/OR6kPguYQaA0caUqARt+H1/g+ZroPy69h+zINq8Y6bfO2aXDq2PH0cNJVnwn1xNoYbn8kUW3yhLbAjysSsn1Jd/cAmiSEIYy3npNeXoO/ScN8Df4mDccsf9C9H4IgjI6O3n777d3d3TovyLQbFzUB86004B0SNfpJzVWFX9m+crgtuWmrX21BvoUyUCmYKoJ5ILKMBiksVSILIGFRXt6iAmcBAcNleAC7oiE+qhwItrmxSbl17yd7+4MC/QZN/o4DS6E9Qqv15B9bAXXk3eZbM31JX+9ZHmj9dQwtxDudt02UzMX35m5fhsX/6oitM9zRGgP7jGD2cHREFG8Ir655ZETFwiEg0+LLs9/Ra/A3aYzdgj8OFAfAmIpyOtYYQ8lBBs4hAkYtsXRvmvOtKqpARYpJbf3NfsCgZM0GwjjGK/MCKBbQhAdKm1eFknvv34PDItkdABYROQmmyILQ0dM5uY1yyoMqj/XZ+tZ99evH+mH0VE94sNfRugBoIe/VLUsNIL2nT2NJSQwGFAF63X0Qenwi29EL74KM5dNFdLNiBpuCQXcYxTaIFdcdoNhUFrAtOkCdspyliw7heGBxSQydBuinkX2joMA/7L2pbovxk7at9kdXiC3h0B4stwcJHWH/89jXTduDGu6/HpvTgJPQ/Uvd4C4amOXDbvMMznJ/AK7RnU4eYrfgD9UhVi9VA6vdgkycikPG5E3QqPdekliwhQ01p7kxZky+navzkwwgcmMAAsv4EuyW4TMn4sIDf7k3KzPa91zPeXRKSA6UWYBV2HF5HzrP3aQzZBsocm5efbIHKa0wlRZ/t+72YKnJB5rI2KOZ5htC6nLv12gUNMYAitNMO2WqOgvSngBiiVJcI7iLtO4mgt/5059s275xfKiHs1pYhh6iosRNJ/4E11cqfaqI71SOUzleWX7914mX0ejnG0xILCExBDm1wojvYsrldc/tO0ZHkSmHtahw82j9A7d4Bic909n5cE36mzSu7sEfJ2LkmEL/aZjL6ZB5Aa1EDoyrkAWa6Q2Kpto5WulrUlN/ux9Y/J2mKYKEsXkCQEvJzofXBfIdSbXXBebmPojHFKQ5sCFSDl7JSDnX/+UBjp79LNxAPqxZGkVIanDQh3tjoC0A9ofwdT4fVaatiySneqwWWqnniq5+SQ/0HEQWla3QDScAVvJlkI1hJrwGdaaiVb6kybQHVQQMaER9QFYoHcoll/2CAxKPjK88miL7zw1+/eZN3f0WB5aIE2SQsF6eYFUURabOHCy6oWFRyjErj3WkVLDykobL8kRG4Be0NQtf6/RWumXPOcOHifBoiJjDmoXX4G/Sc3YL/mRQsUQDSKJ9HKc1T3UbDDO1Az+Oi7wsjIwMsYhaqgVPautv9oMioxpHhRHVokDXkG2pP/lr3WpoJJ/WJC8OIaf6h0GxSxRKQHDpadU9JzrB38QRGepydz+ygUCz99YY8lCWP+wL0R7xtnfGa60hwv6MspXEXPAAlS3Rsje9BzEyMqKHZ7Mr2HlU56nNXhZE2aZCT+9goj95Oy9hiYGcGbJj8h2aFhHxp8MaraJNgOXeVj1sWulH9haWowosO6gZBiO4MekWEdIhAMdTUZERbVHBUcFsP9bB6d3zTPxKx75LM38urCLYjH7aTLTp8hrX4G/S0LgFf7zGy6COc9zpvpHdhdWGiAziGecft7bAVPXXz47T0DOVyYBMC57U0t/wB4VHyxeDPxmgpDivZL2n1RwFrV5cnV/pNv89VWaeemBRZUOr6uU39v5cWv/3/cHumGjvrtqlJ0siowLIx/VLoM4A1UuglkC7QanxO21etjmUHDk10D+tRUm3OTI5hYUr0sctOTSVhtmpHDIaQEPBzqLtCcqBlJL1nmXFeXgnCiadUcuf++qvigTUIEDfwPkMQt4qX5EWRE4O9TPaGHRQazPkm1YAACAASURBVBidw9HyGthJZumTZdVhBZVHDnqQp6infPlRnrmjzmxXaOCVJBb8dCnSXZaJa+Y68vmVrsHf52OBYpqmrV27lu3oERiTznD+IKGZ75W3/khCMwzrvrmt4v/klP8oZdeB8C3fJvGrX/z1f+ErQWVAfNhzksPo3Lurd1+RNBUEFRW2rhOfZoeRvzblQLO/1hoGrX5/rcuMC/U4MWxHKYlqx1PfiK6H6jtV5WVlm2Pk5vT21eQbt6/jD8RBDYGWCFoWLkBqCOI6MwuWk8bqMsqh1T/19S/9lsmYenPsBFVVBccoklJraO5QAEYGezIJ+UvDBqWafNqSkx1Ezp/6jJHX8Jja4n5ohyryMrJI1Zbsqt9gtO7LqFxDqk17ZUcfaHaQaI15WQFZdfT0gyiDzAFvQw5ElcMQRk3CIBhMdZmfjS0bztxczv3QFWEm+umivfM5M75/Df4mDal78KdwRz76jEQsTb2naXX9L+NNP48sezap8eXs+hdjvl5N4lf/9bPjVAsWNGWOGCwm3cxV+0GVgQpLDoC2ytzKHGJpSYRWP2iPgWZ/aIuuXE/KTUV2xBB0V7q6D8YbfBEYHTt2LC2IHCkJGWqL/PYi5DNIpK4AQoKJTxDx9Pb3RV4DQ4B/zrZb0JaGFZTc3k6dOvX1r399bGxMoBsAnDt37u5bb+7r6Uf/BoCkqa2Ve1qv87E0RkGjh7AvuWYNaSnZecEFgXQMbrcKINss5wZ6knzI8cZ0qPI+URKcEUj67f021SqDYBVGZY3v6jr54IMPdnWdRkFRRdRDg6CsyoqGnl+XwzmN7rj3E/rMJ/1El/t0dh9nnsFJp87Oh2vwN2lc3YI/B1j3NDUGbLt7Ve2zyfVvxtf9Nrnh9ym1v42sfju7/sXwLd8uMFWhHRA9IfNtcZl0l/P9QVaAOklPDXGLjORwfRZ0RqCA1hgKdYHQ6H26Kj7Oj5wfHwdlmGXlfmGPmR7K6v8+cH00mL2hIRraIy2d0b1PrSzZFtGUb0IeVM0GfJ8CMCbKGvJBoYo6ja2iosLT09NkMrHfCoJgMpmivEh1WaWsIKH0uNUSScgfqpdDqze0eGt1Pp81rUn1RwsgRsZgkRG3W8YSxpKUW5Gfe+PK8bYgpCZs9Xl4W1p+rhkRF30uSHPTUFHuRUh1VblAs1Z4GvaM9A9IijWfgS/OFr0r4hmcxoNx8yfX4G/SgLkFfyCNksjkzPynYmtfiTO/nVTz+vKGt9LLXk2q/nVy0yupex4NiF8HSF2hYDSMMJ3VflLnFsqHYRpLDJrQtvMrjVsM/Z3r1NZIaPQAEwGzr9KefP6xHbXbg5p23Qaa4HBtNEAhC8lDqYlLQv1uoPvTuBDf4YogoT3V0ZSIeFrrAZ1Jf6xYudlA+vr69IJ5TNVyVrguHV0N4UKSQb3AJc1pyhiA1Ns3kOMT+JvCgISwcP7cWRCF8/1DkUE+x3fFLzOQc/2KwkF9UV3peoPcmQD1vtDqD81+9qaoA5tI8+7bkWT6iwpa6v1kNrIJ9gcBpFFrhjf5oGmbUoXpvWAOPFMRFxXidXTIigSnyvCx3uH0UPLe90lgePj5nj6EWn4EQ2SEISR3wAVg3pTfS0d43o9cg79Jj8A9+NMkEhC3qvSfFtW+ltj8m8SaQzH5P19R/1aK+f9Flj2bU/4j4hkHCjhk3qE4KOHIpLb+hj8gC0tPb/9XvnqHByF+jEKdkBAD8SHECwtvexAP7xvv+EavZSpyUQkzO+imKbSyolBZuOeOGzaJzX7y/iihIxxafam7I+BU6+Lm60hRURE73dmyrutflz4OBfViJE1AVn0NDZEK5esszK1u3kzOt+bUXB+ed/9DGgi5u2orriNj7XE7N5Eyc8nJMz2ZfuRwQ6ZYS6DNT202Qnuo9mjq78pXrI0kJ7rPjolTyX565AfT7nVPyzhA4e7v1t0S3NeZDvuN0O4hNxv4Awl1WzxMJQ9TVBOKSgqr1hLhQGbJtrDSwjwEPk0QVABpkOUvO+ZP+b10hOf9yDX4m/QI3II/RVI9Y1dl7DyQXvNiTPVriQ1vJtYcSqp5PbHhdwnlP99S/kO/8HSaDoIl7i+8qZOa+9v8oDmG0TgGMMZjbpOVlsIYoYx1HA0KwewGQRA5zAaZorAkS7ShpS1ULPchOjZmL/f3RNZSymDqYfTEAOAQD+IdFEl8k7Zu3eoMfJ9na7h4DFicTBFBFCUH1qUUqdR2enB4SXDgqSoiH8j+rMiQERP42h8+WBTg3VPtBx1hH1THpBpJefGu4i1+Yz9YzD9mtLUHQkcANHmptb6WxzcUrPHsLN+JDjF+qoAbTdOcrWDMSXqsl18bTI7VpIkVBJp8oDUUWsKg3v94viE7mvR99JvuvoGMMDJcEz5SG3G+JirVSLr6LeMCCq8g90uyKiiq+2U6XYzOgjh8Df4mPUa34A8UyKtsC934vZyqny1veRMRsPk3cea3UxreWl3/S9+cu3YVVNEwV8lqt+AKfG2bGAFqhpJk1Co1Wp5Ns9GSj7QE24SbEs9B2cX1oDk4PYFVFQUO1ToNEypAkjQMnKG2MIcDHA5QcBligh7P87oNnhWKct0C5RwWFFBVgdK9iAB78x4uXUOgM1xrCYAWz4rrArI23Jd/A4Fmg6MtwL7fP38biUxa6ku8owgJJSSC+BJvPw8q4QYQYvDzWbl28xhHs4JcN6z7PVloCPu43/StvUuwnDEc8FE7fEdbjPL+cKXRY/SRdd/atPhxc3GRqWzvKgJNXnxDMLQZ6rb4lZQU0fIiCoiM9lWewpjgujsL9ptr8Dfp0boHf46xrpPdnhEZK+6py6n6WXrNi4tqX4utfWllzX+k3tNEwjPP9I8KtjGMtaKB+JNa+lv+oIoo/kywUYFdwNg+RsPnkDAvAZMiVJSXec5OzfUuB4vpiRTXVFpSh+UbcrIqXPCxCgB2TbaynGurdUL60RVMl5dmCWbobcAcXknD/MaR3pEEIzlpCoMWf2jxhP3+n5QEhpLA1yoioc4PahdDNRlqWppOCD9s5WUEYY2DYYkGOWLoiYAFv2lo9BTL4aX6OAstzMj+ujF4sTfx8aMWA1/iGeLlF0xIKv2YtXZDpCc51rgSGjzgqQRHBTlTm5wcQN77pOs7X//KqbM9iLiqA+QpsqinGIyF+dU1+Jv0XN2DP5WT7aO/euMdz4i00I3fy9h5YFXpP2XmP+W3+RskYulr7/zJiuk7NCVOxVKH17aJEUBGAAmNoaKEROwa9VjS75CgFGERlVn8p1CgdDlw6PS41H0hUS3VqkzUlmRpD7rBn5nSdIOaLmdd2ogIduyZXZOkcfy5Au0P31+ywxdaotX9RKgPVjrDoMm/bL2XOYvY9i8aaomHTiLtD6ra5FmSlzdEi/lqNkwrmbC4aRKmZwhjII9Sp/albX5+RO+YJEkTMYbysCpYBVozUwZVVXiNVu5gQL8rv9R8nZFrihQb/DWzj/JoEjSH5G6J2L5+eRoh+aWl6GmWrV/Y7uc9+BvYuwZ/kx6yW/BHc8cl2T7adbI7r7LNM3YVCYgjkcm7G81HPvoMVKRYw6w4TgRBvvrqg0268bn8MKH4KZgSgxRSkgVUG9a91RgYoqzE0WQ0OzULuuqbiq4JFSVEwFx6kRJMYD0zFnqn/2X4J05QQOshZroK7Or6PNZDx4ARDTMppFMffLLVh7zfsBgaAuUDgTazUWkNhpbQ45WRt3iSP9Yshn2LBBNSOfXWx2f7kr6Bj7GUudiPvKr2fqx0Qb2uEhVEpwh7YZIpgzw99h4ZFiQbUEZCjFyWeAwoUEAUEOXP9gwn+ZBjlclQ7w37o7VGb2tLOHSEHzRdl0rIkerlcYHkbC8VAF0nEboahwV8/Br8TXq4bsHfCCOSVDlwjIECClJcSSCN8ig1cCCKlABGxURMRbXPX6r5pDu8Cj6gtMLqrtEoXOQHo9F9qPdOaMQqiocCh3/lKYBCVTGBREaMoD+18VjZB+tbanZNs6LkBoKgcjR+Ba+j67wM+/Rk4cuOCg82VkndoY6LwLWVlJo3Bfe3R0Kn0dG4SnyUQEuQXPP/t/cl4FUVZ/+HJSyBhAQSFglZSEhCcpPc5N7srOkHorRU2+rf5a8iDQHCTtj3BAhV+CpP+wi1tZZiqcXt0aptn09b+vwV0QooiMoiEEMIhKw3dzn7mf8z542v54Z7w70h8SOXOQ9PmDN3zsw7v5n5zTvbO+GkPOpJa0jFhF5kJUeeGqNVhDoq4uYWRi5csZCe7ZOIJIgNja35RTO/aeJb9NvVfTc9AHZlLl26dO+9955raAIDBxoFzC5r1LSabv9KWTJ//saiCHn9ULK5PykfQjb3I5VDyYbQtbncxlxOXjv4yUnRS5eVOtrOGnrM7p3o2YPpD8cvbbuiCLHZbNOmTYuLi/vhD3/Y2NgIAXAQ0atXL7PZbLVaf/azn8GICRoDHB1VFAWqmslkgooAd9HfiZXijstzAzVQ1bbOYtc7NZXI8hWKA7URD3b6puVagzmO6xXU28sTpK84c1xfjm7g6T0hLxdu2m0hpGzBE6ODue0lP8QLeSmze3noBj3N2SpRa5JwP9FDj85JDeUeW7qBTiUqzXZeN4oitNBbi2kkLnNm6sCB/XtxvfsHBffhevfhuKBeHDcwMoLjbIv6k61DqsviEvpw8uWvoDNpN72IbcSLRAHr3cPoD5bqgKegTOBiMKCzZcuW7dy5U5bl8vLytWvXGvmREBIWFqaqKs/zUPbt5oxAHZBl2WKxYOVAR8CWP8sYRaDZLlN7AERTNaVFJLJTUq9e/GbKtEn1176h04sqnY1U7TY606hvtIYus93fNtX1W0iddge1bSVK3zQ54gZxb5ckJkX0uV57mSq/9NL1b8Pd8L8s2NuswsguojouX6lJGt7vLz83jRoa3FB9VnDSiUid9STRZQO7VqomyPoKG40WrrWUhYdLi9fdPbhpSwTZ2vfsqsgNd4euXDUPrRtC65BlGSr5ncmAPYn+oMCgtPTdXm5WcRRFGT169NWrVwkhNTU1KSkpeGUiMN3gwYPR2iKevzHeLUsIsdvtBQUF8CGOj26on8wjsBDQWgU6UUvpT5KdTl39W7ZoceZgbsHs+8FsH9CKSC11eX10c1YqUWTRSacj6dG6Vl4hZMnSBUstHCm/a05W8MqlC5vhCiY6rvbyiNftsi4PPWQilJQ8vmbyYFfFmOLsQVuWPC7oA15BEjVNczh5jR59oZeX0LlCyrb6TSeaWlf7TdIw7uySMHHrSG05R54ed2ZRxJjB3OV6aqeLitdmo9CLDHeGd0+iP+yg0IE3YYPxtVGjRgFzCYIQHh5OV7r0hxDidDoHDhxo0Z8333wTFUNgRlmW9+zZk5ycXFRUFBERgUeOmPZ3R7QChW7DowsyiihT2ynkXHVN7ND+/zM/yhzJna1tovap6LhD38NOrwfx/LTS5VgVbKsobffVkktVNWODuepVI9X1odc2xEaF9jpTqxtqppdaeHnEZp7QfTZEtn99tT5uCDWDSDb1+nxdWvJA7mK9jZqN/vbaYoWug8gSvc4YZ07pybZFC+YszuDI9lhSPpJsjSTbxjjKQpdPHF66ZA0hBLd/Q1O6Y+t5T6I/oDPgsilTpiQnJ1ssFpPJlJCQUFBQcOjQoQEDBmCFCgsLQ5NEoMdVV9NjkRcvXkxMTDxz5gzOGMKv8KHdbi8sLAQ31Ak2A4iQBqxDk3UzUbr2RkizRDauKHkiL9y2afiywv7z586mGpbLKegamSh4Pa3Rdqhb37bNy20GrZaWPLEmhyMbgun1u5u4lQUDZq/erh/D8GrGVdGvCKH2cwmZU7Z+yYSBrrX9SXnf1g3DFudwixfPBRUUbCYqdO833R8uSQq9yF0fwp/98mTUqLCrW0e4KsJJGUcqw8g6jmzpX70lLnIQV19fD8N2GANB/Te2goAt6Bsy1sPor53FROzHoBNLTk6uqqqSZbm6ujo1NRXp8rudU7oV2fvvv//dd9+FgTBSJMTA83xhYaHdbofd9rhQeANuzCOAEFCIqG+31nSV6tzZr6yh3Mfr08jGoM/Wp5kGcc3XaMdJV6t13vKs+2mavrdJpdv6NFHUd7dcO38qJZSrWTda3jyUlEeQ1dz1tSP7hQ1tvvwFkb1qf/QCAIlaeT1Xbx85hPt8bRIpH0DKh5LNAz7fnG4O5y6eP01t2+szkkRWRJGeydOJD/7K61YvnTrZQjYNEHfEUuKrGEm2hZKdd4llfVdPCpk7dy4UnrF6Q/0PoEL1KSs9if5AHQPCAjcq7eBYtmzZ7t27CSE7duxYuXIlhISjnaIoCoLA83xjY2NSUtInn3xCxwr03tZvd6EpCoyI09LS7uT+0KdaE2CBdPPI+u5A1SHIv1iztDSZU7YPI5t6ib8Yuy6XW1vyEA97syVX26qDJwR07U+/Tle/T1JS5N1ljy3MCyEb+zVtjiJbB5PNQ5R1IQuy+5WXlbRVO0/x6Mqdy6Eqy5YvXGHlSPlwagaxYgTZGmTbeldZFldeVuJsG63rYkEkGhF5Oq0ouew5lpQ+vbgQuhLdv5duU6I/1zuE69OP68v1jiosLISmAfUczhd7EiTw/XoS/aE2Bz0V/gXu0zStpqamqKgoPj5+xowZDQ10jevjjz8uLS1VVfXw4cPp6ekWiyUrK+t3v/sdjHyB73AeBOaDrVYrJgQ6YODXgjs8hzJd2OVVWSak5kpdVG/u7LY8qjRt6y+u7v3FhozY/lx1g5OnJ5Rd+i1unvGiR3xEJw2jb1e5XH0xNZh7d/1/kXUc/3SqtqY3KR/q3JlcvyJ4SOjAi9c6uGSpmSgNNS0to/pzVSvvIhv76mYQw6j1msrwT9eZxgziLtTrx4ZFkRpW1bdPtpkypWqgvm1cbaGb/FRbnX7GjrKt2Ej1U6HOuIQICqBRD/CctwD17WH0192l4Ne25+4WhsX/PSGguVTdHq2qkO3zH1mfzbkqE8hGjlQM0tb1FspH/SKf2zh7hqLvDaQWQ709+mjUJdFhMlEd6//vlOUTQ449PcuxY5SrIlwqDxO2DrXtiP9qU0b55KC9T2Z7i4ZaJdCETU/es2ZiSM3Tk5SKGLKhHzWGuLGXujXi2g7rxoIB5U9MJxo1IdngfQONt/iZPyLA6A+hoA5Gf25w3BkvMt0tQu9Ga6m9mtKX+3jDRNfWKLKZE9b1IzuGucrv+vey1Ozh1E6fTe7ITh9coUvv5iSkqanpwXsnRXJc3LfWDIdxXAS1uM8NGRjCcUMTrLO8oeskpNbGF828j+vVt0+fXnQPs24MMVSPqr++uXr63TOv1F7TFz3Q7I23+Ji/VwQY/blBw+jPDY4748UBm+w0su7nDy7IDru867+cGyPIhl5kU1+yliPlYdcq0hZZg7YvfZzugHZ2YDGPXqTbyksuXZdsbqVb7MHYjwhTdUR28TaZKDaJ78j2t9RKNGruUBCofXtB34fYJJNG/QQ0WEhs5ulSBzWbSI0nsqeTCDD6cwOO0Z8bHHfIi0bvpHc6eWvuhEGDQvrqStaw3hwXNGBA/96DOC6Y4/r05rLyJ+sXVHoFRaX7AmWV3jdJdxGCGsir4FZETVLofX9OQuwaqZcl/Uydp8i+Hc6C2RuB3tOmOnSrEM30rhLFRTRVlTV9x59uksFTJMzPFwQY/bmhxOjPDY475UXV6JY5SiWyYKf7lhUXEVqMdvpEUQSdzutJXTrmlTUia6pAVJ4qibJuLZUamqd0yIuEV4ldJLCIrH5Lch4wVhVqxobav6HXs9GBuUSXM+gd6ho1j/jdHhdqN8z76REPUTMvNwQY/bnBwejPDY4740VVJMoz+vVvYHvmqkhadDs0NmqQUNVEJ1XBhGbiquvAXp5L0s3KaxIlUNVFOZS308t2Xc3UrUj6mizcPa5qHdCWqhvZB4uH1PQhPThMdyPACJquq6i6qURqUI0aGWJPZxFg9OeGHKM/NzjujBd6SSQ1QiCr9CCanfANRLQRwUbsV4jcTC8bkamVZhjPttDpOC+PbrpfVjRZ1m0LUquuAqH2zug/gfCyfm8cWJfxuulZn+Bz6OTr0ikP6E7X+HTDiJKNGkmUBXqPQtuUohd5mPfNEGD054YQoz83OO6QF0UkmsyLDlFfZHDp5g+ocQONCKImENKs0IGnoBBqVaUDu40qtcwv6yYJXGCYgI5YaQzUYD7da0qIqB8G1m+m84qurNu4BnOHuvZHNKIppFnnRDrW1c26SPpgmw19vcLoww+M/txAYvTnBgd78YQAXfpVFarEUYXQoVCbznQ/MVj3o1uodYKiypmqgYVnT9F0mR9VR8VGKoNKx+yUZJUW2A6DxjtwJ3+XpRoQETH6cytGRn9ucLAXTwjQW4o0QVPo/j6Rl65cuTJlxr1VVy5piso7XVRnFCR6CJcQTYFJRU+xdJ2fpin0Tk5NbeRFZ31d3vT7W69exqUVOByFJo7Q0XXp9+CYGP25FR6jPzc42ItnBCQiO4jkhFuH1sx7JCGYW7p0nkJIq5NOEeqn0MAgAZ326/5HbdE0IsgyETaUzB06mFsxbyG1qaooaMgAz7Yz+jMWB6M/Ixrs1IcbGuzFCwIyvVRTpRbnz151WAdyLxcnJ4Vyl6pqZEJa6U5nejcm2Kn/Ps5kaISXJUUmDde+HhnE/aM0dlx4v6raWjjDDgzYzra5l3zdcd6M/tyKnGl/bnCwF08IwDEMOshVydLSeRuzOHWPZUUmt2LBHGo436UbEdIEItJJwo5Od3iKvDN+dIsMPQGyaMGyn+cOIDtGL8/n5q5YC1GhQd/OxBzo3zD6cythRn9ucLAXTwg4dFKTCam+eCE7lDu7KlbZGFq1KjItnLt2/hRd+aVmEegdSYRu/+v+R6X2/qq//FdU5JiLG0eRJdyZ5YNHDBtw4cIFXPHAMS+OgrtfrB6QAqM/t0Ji9OcGB3vxhAC1jK/JvEKeWrdoVRrnqBgrrhtMtocWZ/Z7evmjmr57Rjc25SCa5NU2tKeYO+dH7UJLZN2CR5YWhJEdYWTTQLJ9+LI8rqysDO8yhJjx9pvOJRR4XzH6cytTRn9ucLAXzwg4iGavuVYf1Yf7cnWKsiNO2jaabOYOb56R1I+7WlvNU9NBim74T/4e5v54Qq7VnB8RPvri8gFk3TBS3leoiL2wamhISEhNTQ0qgLpBfHZExK1EGf25wcHozw0O9uIJAZGyG9lS/PDGrD7K1kSythcp78tvDXZVJqzO5DYuK4YDczI1DahbK/AUSRf61RGy/sniykxO3RpP1ocr68Lp9UYbQpcXxq987P/whDTR3dYaEe1EllXdJH8Xpt6jo2L051Z8jP7c4GAvnhBwEvJNbUNcGPc/67NcOyPIZo5sHqDtGEPW9jmzJjE7mKurOk/XIqiZAnrqrbufi3WX00K5I8tHqLvCWzdw5L/DpG1B0gbu/60c+6MxXEPVabgBiRCpsbX+exiMd3d+uzB+Rn9uYDL6c4ODvXhEQKypnDdj2Q8Gn9mVqe6OkNZxznVBzp3jxG0xZ7ZPKM6L3L6ihEguogkuukGm25//XjhjXT7XvCtN2BpGdkddXzWIVEaT7SO//uWEeVncxnk/o9e3S7LEt8pEtumLxN0uUw9JgNGfW0Ex+nODg714QsBJHBkFOX0Hh/bjuCEcF9mHCxtELTInclwkx/XjuAmFU+zNLWCO5XvY9Rxlntm7bzg1Ic1x4bqxQioVx8Vw3Ji+3OTCApHOQOoWaOQOLpjzlNVA92P051bCjP7c4GAvnhFwqKpqc6hE1SlOIzaNXCdE0DQ60abQvX4aITJPLbZ0cDWI57j9920lpEngZXoxulTntDsJceg2VolEz5zQazNpnDIRXdQew/fAx/5n4X/rC0Z/bsgz+nODg714QkAWqUFnhRBRcuq2USXikHRDMDLdY6wRu82l8HQrMj0GR0/Bde9jdzVrRJDUVidx8ISubVBlT5E0YlOIRE/m6XZoJGqQVW0l38dOxO7NcNfFzujPDUtGf25wsBdPCAD3OUVBI5IoNhPFSa3vCaJ+Daag2m3UEp8oK5Iq6laaPcXRpX4yEduO2lGt0+Fy0hNwhEhqg6LZqL6nEZdTkglpkXmeqX8G7Bn9GcBgN725gcFevCHQ4HBeVQixS3RoyetbnBXNJugjyza7fkqbhT9F7P61VokaudJUIoq8RsUB/U8SNKqlSi4nUWz0khDeqaus3jJ1J/oz+nMrdZ7no6OjMzIyLBaL2WwuKCjIysrK9PPJz883m83Z2dmZmZkZGRk5OTlZ+mM2mwsLC00m09ixYyHanJyc9PR0CJCbm5uZmWm1WtPT07Ozs61Wq5/Jeg1usVggR9nZ2RaLJT09PT8/PyYmJjMzMzc312Qymc3m/Pz81NTU7Oxss9ls0Z/s7Oz09PTCwkKz2WwymfLy8rwm4P2HnJwcq9WalZWFObJarXl5eWazOTo62mKxFBQUmEym3Nxci8WSrT9WqzU7OztHf+Bb79H794vFYsnLy4O8pKWlTZo0KTIyMicnp7CwEDDPzc1NT08vKChIS0uD4vMvAS+hs7KyoFgnTJiQnp6OOQX8ExISoLakpaV1bX6hcPPy8qz6A3UAKhtUS5Bq+PDhBQUFUFch12azOScnJzs7OysrC6qll5z5552Tk2M2m61Wa0ZGBtSB/Px8yPKYMWPy8/OhmYCPxWLxL3b/Q5vN5qioKFH8zmKsoj9ujODzC+dzyNs0IByHvH79OsqnKAoelkRPXxxGTKkBSmoCiT7gyMzMhFdIUZbbpqMxmHGnPoTskr9wBIoey29uzsnJgTghdZCEN9y/qGma0UxIuxz5Lo+mP9QGiqZBBlX9mTx5sqIoTmfbzhDEGYKBnU5ZltHf9xS9hURJQIyWlpbJkyeDMHgioguTQzEQRiOGCHt+fj4EaFcZ8PNbcUCKUI0h15hBl6ttsarwUQAAFBlJREFUErCgoMBud7O9L+sPhMTwtyIGfIvVGwEBmzSSJE2aNMnlcmFDAP9bT/GmMdTX10OrVBQFAbnpVx4D9Hj6I4TYbDYsEmix8Bdajo9/26FD7+v6luCg4DMyMiCM0+k0/or0BL/6mNxNg6mqfvWEHqkkSdAk0tLSIBVjq4N6D/74F6vFTRNqF0AURWw8kArGSQhJSUnBV0wCfaAUsAW2i7lzr9Cp2O12bIcmkwlTBGmRI4B5O5dQu6+MSQDPGtFISEgAT6wJ7T7v9Cukq2kaVD8AUxTF1lbdFI3e1cmyDCDAcWBEBmUG6uy0DMYPMdd49Bh9zGYzMrWxKzJ+3uVuyGw76keREAEfHYFAf9jeMM/GHhs9O3ZgHRJF0YgmRC7Lck5OjqIoQHaaphnDKIpiZI2OE/LrV6g9qFeiBopdsVH1o7bbBQFZGyT3KzkIjInit4hneno6di3wq6IosiwjeqiX4be36MBWR+8t0q1SZWdnQ2Nrl0HE5BZTxM/bdWzgD6lMnDjRyP4eQ2I8fjkQavgKS5PaxtdHfIIgKIqSm5uLWraqqpIkAfLg8CtFXwIjn4LaBcjDHFxzczPG0E549O9CB9Y0QojL5cLRSeeS6PH0B4iLogjqEtTOTvQ53uDTNA2S+OUvf4k0BIFlWd8zYfhSkqROJO3xE6z3kCNoYPv27TOOiUDbwpBQKZEUwG6wx8g78ET1GfOIEYqi+Nxzz4E/TLhgZ2CslBCggyT8+gkwxzzKsrxv3z6EHLUkEBu40q/4vQXGJAghONhHT8BB0zSe54GUvcXjrz8kARwHbsQfe1xZlp999ln49UbkgQf9TddbeFTrsPKjPCgDIQSUU+wavcV26/6qqkJaxnkeFAkLyEdHj6c/yCdwBHY+7XQiH7HAOVRFUdrFADEDytDmRVHEnlYUReyKfUzrpsFurNbGoSUMeGEIgIqnJElAE9gH3DSVGwPAt3SHsM2GeEK0kBxqYdgacSIGZe50dbxRHogTJYFyQR0TE4JCQQFujKdzPjabzRinR0v07TqMziXUwVeYR2qHVR/8wl/oa6G8gKSwkzB+0kHMPv6E0UJ4AB88HQ63JXIsJh9j7lwwKBEocYihnYS+R9vj6Q8GnpBhYxuAQvL9L7RhY10nhEDpQmUCiLFiwStO/UD9AyXU90Q7CAk5AoqBcRZ0epguSNLY2Ahh4FdkZKwBHSTh7SfgWYhBVVXjKA87eWzz2PwAwFtJ16M8MKInhAD5Gvt8GHYZKQkL0WNUfnliRiCnkDp2iqqqQlMHxZDneb8i7yAwdiqCIADygiBgrTNmH+uqw+GAWiHLMpJCB0n49RNOp7S00AvpjNM+IJ6qqkYS9CvyTgTG+g9AQX4RH2Op+eLu8fSHmYTqCICip+8OI4KArM1me+utt8aPH89x3Keffmqc4YLAr7/+enp6ekxMzK5du7Bh+J5ixyFhmEAIqaurmzFjRlRU1P3339/Q0GAcgwiCEBISYjab09PTH3jgARwUtGOijhO68VeoYYSQV155xWQyJSYm7ty5E1UPRVEcDsd9992XnJycm5tbW1uLeUcV2AjmjfH75fO3v/0tMTExPj7+mWeewbatKMrevXtjYmJSU1Nzc3NhOIxi+BV/x4FlWZ47d254eLjFYsG+EHmnpKTEZDIlJyefPHmy43j8+hXxJ4S0tLQsXLhwyJAhSUlJRlQlSfrwww+Dg4MzMjLS0tIqKytRvFssfY+injlz5p577omLizOZTL/+9a9xIhJ6/VWrVkVHR5tMpuPHj3v8vAs9AXyk+1vMbODQ361DjB0L1rNTp06dP39+4sSJR48eBaCxavI8Hx8ff/bsWZfLlZmZefr0aWwV/kqC6WJZ4ny/KIpr164F9qmsrFy9ejWqZiDkkCFDcLhqZEaQATPil0gwslYUZfTo0bW1tXa73Wq1njp1CmPbs2fP3LlzVVV96aWXfvrTn+LsGIqNKPmeLmo98Al0ZgBydXW1IAgWi+Xzzz8HkFVVPXDgQGlpabu5P5TQ93Q7CAkyfPDBBx999FFaWhpmCgB/6623pkyZQgg5cuRIbm4uCIYCdLoyYCFCZVAU5YMPPjh27JhxqRfGJR988ME999yDKbajpA7y5e9PkiTV1NR89tlnPM+LopiQkPDFF1/gnGD34eCvnJ0Iz+ivDTSs3PAOu1vAPWHChI8++gjBhdp/6tSpgoIC8KysrNy4cSMSE4b0xQFtDFIHN/zVNA0GF6NGjXK5XHa7/cKFC6mpqdAqcNAdFBSEDQCzABI6nU78yRdJIAzQkKZpH3300bRp08Bzy5YtsPID800zZsx4//33oaGOGDGiXVOH1H1PEUK2iwQkP3HixNSpUyHCbdu2bdmyBaPdu3fv0qVLQVr41rhVCIN12gGlAOvadXV1MTExwC+4BlpSUnLo0CGQMy4u7sqVK+2y0LmkoRBxRQXG/pcvX87IyACRsAIcPnz43nvvhY1fmLRxpNw5Adp9haUJDk3TJk6c+N5773U3Du3E6KZXRn/fAYtrCNgDgzpTVFT02Wef4VwMfPDiiy8uXrwY6sSBAwfmz59vnCP7LlIfXDdO2ME4Dtp2SEgI1vugoCCID9KVZXngwIF5eXnZ2dlvvfWWLNNbYlGNQocPInwXBGJQFOXtt99+9NFHgdMPHjxYUlKCgVJSUpqammC7ZXR0dFNTEzY/DNMJB5I1SK5p2p///Od58+YBI7z66qvFxcUQrcvlOnjwYEREhNVqve+++86fP49j806k6+0TLNCzZ8/Cjh9kWLvdPmvWrH//+9/wbVFR0YkTJ24cfWOOvCXRgT9+q6pqVVVVUlKScXBACPnHP/4RGRmZnJw8a9asc+fO4RaQLikLFAzEgKy5XK5vvvlm/PjxTU1NUEbfAw4oSXc4GP21oXr33XePGzcOzpDFxcVlZWX95S9/gd+mTp0Kg1+kRVEUX3nllUceeQQCvPjii2vWrIH+sBOFBM3b6XROmTIlOTnZYrHAjFJWVtaLL74YFhYG9V6W5REjRsDcM3bFVVVVhJBLly4lJCScOXMGUud5HvmxE/JA+/njH/+4aNEiqOUvvPDCsmXLVFUV9MdsNldXVwMa48aNa2lpgeRAV+qcFgzT6tDYkLhfeumlOXPoRZSEkBdeeKGsrMzpdEJaly9fhmDPPvtsUVERhEHCgtdb+Yt54Xm+trY2IyMDt7/A/PKsWbMOHz4MSRQVFX366afGaXgkr07IAAlBKpIk8Tx/4cKFlJQUjBO2xdhsNmCl9957b+TIkZ1IyJdPoL5BFbXb7RkZGS+99BJ82N04+CLeLYZh9OcGIK7ogS/saJk2bdrRo0ehsWH/f+TIkZkzZ0JTfOqppzZt2uQWkc8v2FejAxYQIGZCSGJi4uXLlwkhNTU18fHxOOeC202hDTz00EN//etfQSMDAsKFAp9loQFBDKfT+Z///GfatGlQ75966qndu3djhEVFRf/85z9hMBgaGmrkLFj79itFDGxcVYTsHz9+fPr06SDDpk2bnn76aQgMWZZlGfhuwIAB3aH9OZ1O0LuvX7+emJiIi1EgQ2lp6d69e8GdkJBw5coVwAHRwALFDPruQB6HvJ8/fx7mPbBWQFSo70dHR8P6LwRoF8z3dG8MibmQZXnq1Kl79uwBkTBkt+KAqXSTg9FfG7BQk+BFVVVoYFD2ubm5n3zyCTYwWAJWVTUuLu78+fMulwtWBnAFwK+igtYCzQwYDYe6sJa3evXqbdu2EUJ27NgBSx+ohNbV1UE7AfUEhMSjKbg3xS95UPMSBCEuLq6qqsrlcpnN5tOnT8NCJCHkV7/61ZIlS1wu18svv/z4448bE8LW4leiEBiHb7jZpbW1NSYmpr6+vqampqCgwDgDC9ehEULeeOONwsJCiAFKrRNJ3/iJMarTp09nZmZC1nAz+euvvz579myHw/H+++9nZ2cDKdzK4g/IgMwFJx1hbaeqqio1NRU236ASevXqVUj02LFj0dHRWArt6OnGrPnrA8Oa2bNnl5WVIb12Nw7+Ctm58Iz+vsMN6g2OYRVFeeedd4YOHRoeHj5s2LCpU6cSQr788ssHHngAvnn11VdTUlLGjh1bUVGhqirWy+9i9M0FGiV2+KiCAc21tLTMmDFjzJgx06dPb2xsJIQcP358/vz5mqadOHEiOTl53LhxeXl5zzzzDKSG7ce4FOibIG2hHA4HCPP222/Hx8cnJCRUVFQoirJ169Z33nkHuoEf//jHJpPJYrF8/fXXaAQBqbNzJIj8Yhw+v/HGG4mJiampqRUVFbIsV1ZWwqTEihUrzPqTk5Pz1Vdftdv951d+vQUWBEGSpAcffDA+Pr53794xMTEvvPDCb37zm71790Kn9cgjj8THx+fl5R05cgQigSzgEAGCeYvfmz/ucIT+Zs6cOREREUFBQbGxsXv37t23b99zzz1nt9ufffbZFP0pKip69913sbixFLzF76+/qqpHjx7lOC49PT01NTUjI+Pvf//794CDv3J2IjyjvzbQYE0TEYSBHtQk4AKsysAvoKNhbw+c1blmj4liBw4OSB3jRH6EQSLKg2opDh6NDGiM3Bc35MtjE4K5HhwDopaK0YLGhGNk9PfFYRQes4aKDDogcgiA508QN8TKlxQ7DoO5QC7zyLC4BA8ygGDYg6LYHadl/BU/QUsWMKEBqjHEj/jAh1AxIO9GfIzRdtoNdQmkgiSwpIxxdjkOxsi7z83or/uwZTF7RgBalJHckdlxXI/caiRidOMCCBKBMTbY/o1tFfgav0WHUcsGfbNdSM/SM98AQoDRXwAVZk/ISjv9hdcfEByICVVXWZZBnYRPUB1DroQTYEBzsiwbV12MujxoKxgMLIUg94FOhyoe+KMK1hMQZTJ2HgFGf53Hjn3ZaQSA44yDZVx6AvNNSE9GIkNPnOcCAWCNyBgnhASzFKghtmNeo/AYBjyBK40BmDsgEWD0F5DFeltnCnUr3KaDQ12YQcMAyErGA9e4LuxwOGBGDDYk4gzgjdOX7XxAkcTpKpzNxKH3bQ0fE67rEGD013VYsph8QAAn0WGGDk/aGMe5OBRFTRAi5nkeTZ4gRcJPQJRAc0YtD6kNd9WAqoiSwgoDjqxx6I0BmCOAEWD0F8CFe5tmDehp4MCBJpMJbhSCI/TGeTeYB0TtDxZ533jjDdh+iNN/oADCwgUQKOQZ9o6AG/avIP0RQn77298mJiZGR0fv378fwiCZMvq7TStN94jF6K97cGWxekEASKq+vn7YsGHANUYuw4Et6H1AgqCaSZI0b968gwcPoqaGH6KlL9D+wDKd3W7HLRowlwfJNTQ0JCUlNTU1NTQ0jBs3rra2FiQ1ro14kZ15BxoCjP4CrURv//wAqQUHB+NShqIoR48enT59+vjx42fOnHnp0iVCyPPPPw93eP7kJz9pbW395JNP+vXrl5SUZLFYzp8/n5+f/8UXX7S2tjY2NsbExMiyvH///lmzZhUVFf3gBz9oamqaO3dufn5+RkbGm2++ifuoVVU9ePDgvHnzgCiLi4tfe+01YE/ADUgQtc7bH0wm4a0gwOjvVtBj3/qNACpZQUFBGRkZJpPpRz/6kSzLeXl5cI5t//79paWlkiS1tLQADa1duxbOtBQXF7/88suwxDFhwoQTJ07AFWixsbGKohw4cCAyMvLatWuEkDVr1hw4cACMQSUmJsJYGO7h3L17986dO2E0vW3btsrKSsgDkPKNbr9zyD7oOQgw+us5ZRUQksIGPUJIcHAwTrSdOnVq8ODBFoslMTHRarVOmjSJEPKvf/2rsLAwMTExKSlp0aJFsiw/9thjhw4dAhgmTpwItoXr6uqGDx9OCPnDH/5QXFwM9Jqampqfn5+YmDh+/Pjhw4efO3cO1D1CSGVl5ebNmyGSTZs27dq1C41UBwTALBN+IMDozw+wWNAuQQCYqE+fPnhc7+TJkzk5OTCphwY7o6OjP//8c0LIvn37iouLFUVZsGDBK6+8AtofmOHRNO3atWtw4P9Pf/oTGCW02+2TJ08+duwYSgs3IsIi76FDhxYvXizqT2lp6WuvvYb7pUHZBALFb5kjgBFg9BfAhXs7Zg3WWGVZDgkJAe0PLqtKSko6duwYbH7++uuvNU0LDw+vq6tzOp1Tp0594oknCCFz5849cOAAsGRJScnevXsFQXjmmWdiY2MJIfv3758/fz6QY1lZ2eLFi8H94YcfGoFobGwcNWoUz/MNDQ0JCQlgTAzObgPx4Yld41fMHZAIMPoLyGK9fTMF5NXa2jpkyBCwrgiTbsePH586der48eOTk5Off/55URT3798fFRWVl5e3ZMmSxx57TJKkY8eOxcTE5OTknDt37uTJk1arNS8vb8OGDbGxsZIkgU1WiJ/n+QULFmRlZSUlJT388MOw3Iw7Y5577rlx48bFxMT8/ve/B6RA7wNJmPZ3+9aerpaM0V9XI8riuxkCuK6K83GwEIGb73BQjPtgYOkW5wqBp3iehz3MsNPFSFtgst/lchmPdmD8QJEoJspjXP3AX5kjgBFg9BfAhXs7Zg31LGArl8vVjozAX5ZlJDuw7Y6ZwYMc4AOkhrfNGjU4TAIJTtM0tKanaRpY88bRLgbDtJgjsBFg9BfY5Xs75s6o9MH0HFgSRFkxACxQgD/qbuBAEgSOg7/ImGhAAaIymmWEzYYQHlNs94rxYADmCEgEGP0FZLGyTDEEGAI3R4DR380xYiEYAgyBgESA0V9AFivLFEOAIXBzBBj93RwjFoIhwBAISAQY/QVksbJMMQQYAjdHgNHfzTFiIRgCDIGARIDRX0AWK8sUQ4AhcHMEGP3dHCMWgiHAEAhIBBj9BWSxskwxBBgCN0fg/wN/j8z4B7j9uAAAAABJRU5ErkJggg==)"
      ],
      "metadata": {
        "id": "lFldi2V3cvsd"
      }
    },
    {
      "cell_type": "markdown",
      "source": [
        "![image.png](data:image/png;base64,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)"
      ],
      "metadata": {
        "id": "_-GhbJrgcjFv"
      }
    },
    {
      "cell_type": "markdown",
      "source": [
        "Это широко используемый алгоритм для классификации (что интересно, для регрессии его тоже используют - особенно случайный лес!)\n",
        "\n",
        "[Документация](https://scikit-learn.ru/1-10-decision-trees/)"
      ],
      "metadata": {
        "id": "_0oGe0D3cPxU"
      }
    },
    {
      "cell_type": "markdown",
      "source": [
        "![image.png](data:image/png;base64,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)"
      ],
      "metadata": {
        "id": "D_UzkKc0UfCY"
      }
    },
    {
      "cell_type": "code",
      "source": [
        "iris = load_iris()\n",
        "iris"
      ],
      "metadata": {
        "id": "lahc57ticbla",
        "colab": {
          "base_uri": "https://localhost:8080/"
        },
        "outputId": "d6e17936-3163-42d5-e20f-efc7ca4666b5"
      },
      "execution_count": null,
      "outputs": [
        {
          "output_type": "execute_result",
          "data": {
            "text/plain": [
              "{'data': array([[5.1, 3.5, 1.4, 0.2],\n",
              "        [4.9, 3. , 1.4, 0.2],\n",
              "        [4.7, 3.2, 1.3, 0.2],\n",
              "        [4.6, 3.1, 1.5, 0.2],\n",
              "        [5. , 3.6, 1.4, 0.2],\n",
              "        [5.4, 3.9, 1.7, 0.4],\n",
              "        [4.6, 3.4, 1.4, 0.3],\n",
              "        [5. , 3.4, 1.5, 0.2],\n",
              "        [4.4, 2.9, 1.4, 0.2],\n",
              "        [4.9, 3.1, 1.5, 0.1],\n",
              "        [5.4, 3.7, 1.5, 0.2],\n",
              "        [4.8, 3.4, 1.6, 0.2],\n",
              "        [4.8, 3. , 1.4, 0.1],\n",
              "        [4.3, 3. , 1.1, 0.1],\n",
              "        [5.8, 4. , 1.2, 0.2],\n",
              "        [5.7, 4.4, 1.5, 0.4],\n",
              "        [5.4, 3.9, 1.3, 0.4],\n",
              "        [5.1, 3.5, 1.4, 0.3],\n",
              "        [5.7, 3.8, 1.7, 0.3],\n",
              "        [5.1, 3.8, 1.5, 0.3],\n",
              "        [5.4, 3.4, 1.7, 0.2],\n",
              "        [5.1, 3.7, 1.5, 0.4],\n",
              "        [4.6, 3.6, 1. , 0.2],\n",
              "        [5.1, 3.3, 1.7, 0.5],\n",
              "        [4.8, 3.4, 1.9, 0.2],\n",
              "        [5. , 3. , 1.6, 0.2],\n",
              "        [5. , 3.4, 1.6, 0.4],\n",
              "        [5.2, 3.5, 1.5, 0.2],\n",
              "        [5.2, 3.4, 1.4, 0.2],\n",
              "        [4.7, 3.2, 1.6, 0.2],\n",
              "        [4.8, 3.1, 1.6, 0.2],\n",
              "        [5.4, 3.4, 1.5, 0.4],\n",
              "        [5.2, 4.1, 1.5, 0.1],\n",
              "        [5.5, 4.2, 1.4, 0.2],\n",
              "        [4.9, 3.1, 1.5, 0.2],\n",
              "        [5. , 3.2, 1.2, 0.2],\n",
              "        [5.5, 3.5, 1.3, 0.2],\n",
              "        [4.9, 3.6, 1.4, 0.1],\n",
              "        [4.4, 3. , 1.3, 0.2],\n",
              "        [5.1, 3.4, 1.5, 0.2],\n",
              "        [5. , 3.5, 1.3, 0.3],\n",
              "        [4.5, 2.3, 1.3, 0.3],\n",
              "        [4.4, 3.2, 1.3, 0.2],\n",
              "        [5. , 3.5, 1.6, 0.6],\n",
              "        [5.1, 3.8, 1.9, 0.4],\n",
              "        [4.8, 3. , 1.4, 0.3],\n",
              "        [5.1, 3.8, 1.6, 0.2],\n",
              "        [4.6, 3.2, 1.4, 0.2],\n",
              "        [5.3, 3.7, 1.5, 0.2],\n",
              "        [5. , 3.3, 1.4, 0.2],\n",
              "        [7. , 3.2, 4.7, 1.4],\n",
              "        [6.4, 3.2, 4.5, 1.5],\n",
              "        [6.9, 3.1, 4.9, 1.5],\n",
              "        [5.5, 2.3, 4. , 1.3],\n",
              "        [6.5, 2.8, 4.6, 1.5],\n",
              "        [5.7, 2.8, 4.5, 1.3],\n",
              "        [6.3, 3.3, 4.7, 1.6],\n",
              "        [4.9, 2.4, 3.3, 1. ],\n",
              "        [6.6, 2.9, 4.6, 1.3],\n",
              "        [5.2, 2.7, 3.9, 1.4],\n",
              "        [5. , 2. , 3.5, 1. ],\n",
              "        [5.9, 3. , 4.2, 1.5],\n",
              "        [6. , 2.2, 4. , 1. ],\n",
              "        [6.1, 2.9, 4.7, 1.4],\n",
              "        [5.6, 2.9, 3.6, 1.3],\n",
              "        [6.7, 3.1, 4.4, 1.4],\n",
              "        [5.6, 3. , 4.5, 1.5],\n",
              "        [5.8, 2.7, 4.1, 1. ],\n",
              "        [6.2, 2.2, 4.5, 1.5],\n",
              "        [5.6, 2.5, 3.9, 1.1],\n",
              "        [5.9, 3.2, 4.8, 1.8],\n",
              "        [6.1, 2.8, 4. , 1.3],\n",
              "        [6.3, 2.5, 4.9, 1.5],\n",
              "        [6.1, 2.8, 4.7, 1.2],\n",
              "        [6.4, 2.9, 4.3, 1.3],\n",
              "        [6.6, 3. , 4.4, 1.4],\n",
              "        [6.8, 2.8, 4.8, 1.4],\n",
              "        [6.7, 3. , 5. , 1.7],\n",
              "        [6. , 2.9, 4.5, 1.5],\n",
              "        [5.7, 2.6, 3.5, 1. ],\n",
              "        [5.5, 2.4, 3.8, 1.1],\n",
              "        [5.5, 2.4, 3.7, 1. ],\n",
              "        [5.8, 2.7, 3.9, 1.2],\n",
              "        [6. , 2.7, 5.1, 1.6],\n",
              "        [5.4, 3. , 4.5, 1.5],\n",
              "        [6. , 3.4, 4.5, 1.6],\n",
              "        [6.7, 3.1, 4.7, 1.5],\n",
              "        [6.3, 2.3, 4.4, 1.3],\n",
              "        [5.6, 3. , 4.1, 1.3],\n",
              "        [5.5, 2.5, 4. , 1.3],\n",
              "        [5.5, 2.6, 4.4, 1.2],\n",
              "        [6.1, 3. , 4.6, 1.4],\n",
              "        [5.8, 2.6, 4. , 1.2],\n",
              "        [5. , 2.3, 3.3, 1. ],\n",
              "        [5.6, 2.7, 4.2, 1.3],\n",
              "        [5.7, 3. , 4.2, 1.2],\n",
              "        [5.7, 2.9, 4.2, 1.3],\n",
              "        [6.2, 2.9, 4.3, 1.3],\n",
              "        [5.1, 2.5, 3. , 1.1],\n",
              "        [5.7, 2.8, 4.1, 1.3],\n",
              "        [6.3, 3.3, 6. , 2.5],\n",
              "        [5.8, 2.7, 5.1, 1.9],\n",
              "        [7.1, 3. , 5.9, 2.1],\n",
              "        [6.3, 2.9, 5.6, 1.8],\n",
              "        [6.5, 3. , 5.8, 2.2],\n",
              "        [7.6, 3. , 6.6, 2.1],\n",
              "        [4.9, 2.5, 4.5, 1.7],\n",
              "        [7.3, 2.9, 6.3, 1.8],\n",
              "        [6.7, 2.5, 5.8, 1.8],\n",
              "        [7.2, 3.6, 6.1, 2.5],\n",
              "        [6.5, 3.2, 5.1, 2. ],\n",
              "        [6.4, 2.7, 5.3, 1.9],\n",
              "        [6.8, 3. , 5.5, 2.1],\n",
              "        [5.7, 2.5, 5. , 2. ],\n",
              "        [5.8, 2.8, 5.1, 2.4],\n",
              "        [6.4, 3.2, 5.3, 2.3],\n",
              "        [6.5, 3. , 5.5, 1.8],\n",
              "        [7.7, 3.8, 6.7, 2.2],\n",
              "        [7.7, 2.6, 6.9, 2.3],\n",
              "        [6. , 2.2, 5. , 1.5],\n",
              "        [6.9, 3.2, 5.7, 2.3],\n",
              "        [5.6, 2.8, 4.9, 2. ],\n",
              "        [7.7, 2.8, 6.7, 2. ],\n",
              "        [6.3, 2.7, 4.9, 1.8],\n",
              "        [6.7, 3.3, 5.7, 2.1],\n",
              "        [7.2, 3.2, 6. , 1.8],\n",
              "        [6.2, 2.8, 4.8, 1.8],\n",
              "        [6.1, 3. , 4.9, 1.8],\n",
              "        [6.4, 2.8, 5.6, 2.1],\n",
              "        [7.2, 3. , 5.8, 1.6],\n",
              "        [7.4, 2.8, 6.1, 1.9],\n",
              "        [7.9, 3.8, 6.4, 2. ],\n",
              "        [6.4, 2.8, 5.6, 2.2],\n",
              "        [6.3, 2.8, 5.1, 1.5],\n",
              "        [6.1, 2.6, 5.6, 1.4],\n",
              "        [7.7, 3. , 6.1, 2.3],\n",
              "        [6.3, 3.4, 5.6, 2.4],\n",
              "        [6.4, 3.1, 5.5, 1.8],\n",
              "        [6. , 3. , 4.8, 1.8],\n",
              "        [6.9, 3.1, 5.4, 2.1],\n",
              "        [6.7, 3.1, 5.6, 2.4],\n",
              "        [6.9, 3.1, 5.1, 2.3],\n",
              "        [5.8, 2.7, 5.1, 1.9],\n",
              "        [6.8, 3.2, 5.9, 2.3],\n",
              "        [6.7, 3.3, 5.7, 2.5],\n",
              "        [6.7, 3. , 5.2, 2.3],\n",
              "        [6.3, 2.5, 5. , 1.9],\n",
              "        [6.5, 3. , 5.2, 2. ],\n",
              "        [6.2, 3.4, 5.4, 2.3],\n",
              "        [5.9, 3. , 5.1, 1.8]]),\n",
              " 'target': array([0, 0, 0, 0, 0, 0, 0, 0, 0, 0, 0, 0, 0, 0, 0, 0, 0, 0, 0, 0, 0, 0,\n",
              "        0, 0, 0, 0, 0, 0, 0, 0, 0, 0, 0, 0, 0, 0, 0, 0, 0, 0, 0, 0, 0, 0,\n",
              "        0, 0, 0, 0, 0, 0, 1, 1, 1, 1, 1, 1, 1, 1, 1, 1, 1, 1, 1, 1, 1, 1,\n",
              "        1, 1, 1, 1, 1, 1, 1, 1, 1, 1, 1, 1, 1, 1, 1, 1, 1, 1, 1, 1, 1, 1,\n",
              "        1, 1, 1, 1, 1, 1, 1, 1, 1, 1, 1, 1, 2, 2, 2, 2, 2, 2, 2, 2, 2, 2,\n",
              "        2, 2, 2, 2, 2, 2, 2, 2, 2, 2, 2, 2, 2, 2, 2, 2, 2, 2, 2, 2, 2, 2,\n",
              "        2, 2, 2, 2, 2, 2, 2, 2, 2, 2, 2, 2, 2, 2, 2, 2, 2, 2]),\n",
              " 'frame': None,\n",
              " 'target_names': array(['setosa', 'versicolor', 'virginica'], dtype='<U10'),\n",
              " 'DESCR': '.. _iris_dataset:\\n\\nIris plants dataset\\n--------------------\\n\\n**Data Set Characteristics:**\\n\\n    :Number of Instances: 150 (50 in each of three classes)\\n    :Number of Attributes: 4 numeric, predictive attributes and the class\\n    :Attribute Information:\\n        - sepal length in cm\\n        - sepal width in cm\\n        - petal length in cm\\n        - petal width in cm\\n        - class:\\n                - Iris-Setosa\\n                - Iris-Versicolour\\n                - Iris-Virginica\\n                \\n    :Summary Statistics:\\n\\n    ============== ==== ==== ======= ===== ====================\\n                    Min  Max   Mean    SD   Class Correlation\\n    ============== ==== ==== ======= ===== ====================\\n    sepal length:   4.3  7.9   5.84   0.83    0.7826\\n    sepal width:    2.0  4.4   3.05   0.43   -0.4194\\n    petal length:   1.0  6.9   3.76   1.76    0.9490  (high!)\\n    petal width:    0.1  2.5   1.20   0.76    0.9565  (high!)\\n    ============== ==== ==== ======= ===== ====================\\n\\n    :Missing Attribute Values: None\\n    :Class Distribution: 33.3% for each of 3 classes.\\n    :Creator: R.A. Fisher\\n    :Donor: Michael Marshall (MARSHALL%PLU@io.arc.nasa.gov)\\n    :Date: July, 1988\\n\\nThe famous Iris database, first used by Sir R.A. Fisher. The dataset is taken\\nfrom Fisher\\'s paper. Note that it\\'s the same as in R, but not as in the UCI\\nMachine Learning Repository, which has two wrong data points.\\n\\nThis is perhaps the best known database to be found in the\\npattern recognition literature.  Fisher\\'s paper is a classic in the field and\\nis referenced frequently to this day.  (See Duda & Hart, for example.)  The\\ndata set contains 3 classes of 50 instances each, where each class refers to a\\ntype of iris plant.  One class is linearly separable from the other 2; the\\nlatter are NOT linearly separable from each other.\\n\\n.. topic:: References\\n\\n   - Fisher, R.A. \"The use of multiple measurements in taxonomic problems\"\\n     Annual Eugenics, 7, Part II, 179-188 (1936); also in \"Contributions to\\n     Mathematical Statistics\" (John Wiley, NY, 1950).\\n   - Duda, R.O., & Hart, P.E. (1973) Pattern Classification and Scene Analysis.\\n     (Q327.D83) John Wiley & Sons.  ISBN 0-471-22361-1.  See page 218.\\n   - Dasarathy, B.V. (1980) \"Nosing Around the Neighborhood: A New System\\n     Structure and Classification Rule for Recognition in Partially Exposed\\n     Environments\".  IEEE Transactions on Pattern Analysis and Machine\\n     Intelligence, Vol. PAMI-2, No. 1, 67-71.\\n   - Gates, G.W. (1972) \"The Reduced Nearest Neighbor Rule\".  IEEE Transactions\\n     on Information Theory, May 1972, 431-433.\\n   - See also: 1988 MLC Proceedings, 54-64.  Cheeseman et al\"s AUTOCLASS II\\n     conceptual clustering system finds 3 classes in the data.\\n   - Many, many more ...',\n",
              " 'feature_names': ['sepal length (cm)',\n",
              "  'sepal width (cm)',\n",
              "  'petal length (cm)',\n",
              "  'petal width (cm)'],\n",
              " 'filename': 'iris.csv',\n",
              " 'data_module': 'sklearn.datasets.data'}"
            ]
          },
          "metadata": {},
          "execution_count": 33
        }
      ]
    },
    {
      "cell_type": "code",
      "source": [
        "# там у нас векторы np\n",
        "# но можно из него и обычный датафрейм собрать\n",
        "\n",
        "df = pd.DataFrame(iris.data,columns=iris.feature_names)\n",
        "df['target'] = iris.target\n",
        "n = []\n",
        "for i in df['target']:\n",
        "  if i == 0:\n",
        "    n.append('setosa')\n",
        "  elif i == 1:\n",
        "    n.append('versicolor')\n",
        "  else:\n",
        "    n.append('virginica')\n",
        "df['target_text'] = n\n",
        "df"
      ],
      "metadata": {
        "id": "el8kZ8V4Vn8y",
        "colab": {
          "base_uri": "https://localhost:8080/",
          "height": 423
        },
        "outputId": "a2a431ac-7399-4ce1-cce2-218a0aa57cd9"
      },
      "execution_count": null,
      "outputs": [
        {
          "output_type": "execute_result",
          "data": {
            "text/plain": [
              "     sepal length (cm)  sepal width (cm)  petal length (cm)  petal width (cm)  \\\n",
              "0                  5.1               3.5                1.4               0.2   \n",
              "1                  4.9               3.0                1.4               0.2   \n",
              "2                  4.7               3.2                1.3               0.2   \n",
              "3                  4.6               3.1                1.5               0.2   \n",
              "4                  5.0               3.6                1.4               0.2   \n",
              "..                 ...               ...                ...               ...   \n",
              "145                6.7               3.0                5.2               2.3   \n",
              "146                6.3               2.5                5.0               1.9   \n",
              "147                6.5               3.0                5.2               2.0   \n",
              "148                6.2               3.4                5.4               2.3   \n",
              "149                5.9               3.0                5.1               1.8   \n",
              "\n",
              "     target target_text  \n",
              "0         0      setosa  \n",
              "1         0      setosa  \n",
              "2         0      setosa  \n",
              "3         0      setosa  \n",
              "4         0      setosa  \n",
              "..      ...         ...  \n",
              "145       2   virginica  \n",
              "146       2   virginica  \n",
              "147       2   virginica  \n",
              "148       2   virginica  \n",
              "149       2   virginica  \n",
              "\n",
              "[150 rows x 6 columns]"
            ],
            "text/html": [
              "\n",
              "  <div id=\"df-2197d890-3a82-4d80-8e94-71594efec2a6\">\n",
              "    <div class=\"colab-df-container\">\n",
              "      <div>\n",
              "<style scoped>\n",
              "    .dataframe tbody tr th:only-of-type {\n",
              "        vertical-align: middle;\n",
              "    }\n",
              "\n",
              "    .dataframe tbody tr th {\n",
              "        vertical-align: top;\n",
              "    }\n",
              "\n",
              "    .dataframe thead th {\n",
              "        text-align: right;\n",
              "    }\n",
              "</style>\n",
              "<table border=\"1\" class=\"dataframe\">\n",
              "  <thead>\n",
              "    <tr style=\"text-align: right;\">\n",
              "      <th></th>\n",
              "      <th>sepal length (cm)</th>\n",
              "      <th>sepal width (cm)</th>\n",
              "      <th>petal length (cm)</th>\n",
              "      <th>petal width (cm)</th>\n",
              "      <th>target</th>\n",
              "      <th>target_text</th>\n",
              "    </tr>\n",
              "  </thead>\n",
              "  <tbody>\n",
              "    <tr>\n",
              "      <th>0</th>\n",
              "      <td>5.1</td>\n",
              "      <td>3.5</td>\n",
              "      <td>1.4</td>\n",
              "      <td>0.2</td>\n",
              "      <td>0</td>\n",
              "      <td>setosa</td>\n",
              "    </tr>\n",
              "    <tr>\n",
              "      <th>1</th>\n",
              "      <td>4.9</td>\n",
              "      <td>3.0</td>\n",
              "      <td>1.4</td>\n",
              "      <td>0.2</td>\n",
              "      <td>0</td>\n",
              "      <td>setosa</td>\n",
              "    </tr>\n",
              "    <tr>\n",
              "      <th>2</th>\n",
              "      <td>4.7</td>\n",
              "      <td>3.2</td>\n",
              "      <td>1.3</td>\n",
              "      <td>0.2</td>\n",
              "      <td>0</td>\n",
              "      <td>setosa</td>\n",
              "    </tr>\n",
              "    <tr>\n",
              "      <th>3</th>\n",
              "      <td>4.6</td>\n",
              "      <td>3.1</td>\n",
              "      <td>1.5</td>\n",
              "      <td>0.2</td>\n",
              "      <td>0</td>\n",
              "      <td>setosa</td>\n",
              "    </tr>\n",
              "    <tr>\n",
              "      <th>4</th>\n",
              "      <td>5.0</td>\n",
              "      <td>3.6</td>\n",
              "      <td>1.4</td>\n",
              "      <td>0.2</td>\n",
              "      <td>0</td>\n",
              "      <td>setosa</td>\n",
              "    </tr>\n",
              "    <tr>\n",
              "      <th>...</th>\n",
              "      <td>...</td>\n",
              "      <td>...</td>\n",
              "      <td>...</td>\n",
              "      <td>...</td>\n",
              "      <td>...</td>\n",
              "      <td>...</td>\n",
              "    </tr>\n",
              "    <tr>\n",
              "      <th>145</th>\n",
              "      <td>6.7</td>\n",
              "      <td>3.0</td>\n",
              "      <td>5.2</td>\n",
              "      <td>2.3</td>\n",
              "      <td>2</td>\n",
              "      <td>virginica</td>\n",
              "    </tr>\n",
              "    <tr>\n",
              "      <th>146</th>\n",
              "      <td>6.3</td>\n",
              "      <td>2.5</td>\n",
              "      <td>5.0</td>\n",
              "      <td>1.9</td>\n",
              "      <td>2</td>\n",
              "      <td>virginica</td>\n",
              "    </tr>\n",
              "    <tr>\n",
              "      <th>147</th>\n",
              "      <td>6.5</td>\n",
              "      <td>3.0</td>\n",
              "      <td>5.2</td>\n",
              "      <td>2.0</td>\n",
              "      <td>2</td>\n",
              "      <td>virginica</td>\n",
              "    </tr>\n",
              "    <tr>\n",
              "      <th>148</th>\n",
              "      <td>6.2</td>\n",
              "      <td>3.4</td>\n",
              "      <td>5.4</td>\n",
              "      <td>2.3</td>\n",
              "      <td>2</td>\n",
              "      <td>virginica</td>\n",
              "    </tr>\n",
              "    <tr>\n",
              "      <th>149</th>\n",
              "      <td>5.9</td>\n",
              "      <td>3.0</td>\n",
              "      <td>5.1</td>\n",
              "      <td>1.8</td>\n",
              "      <td>2</td>\n",
              "      <td>virginica</td>\n",
              "    </tr>\n",
              "  </tbody>\n",
              "</table>\n",
              "<p>150 rows × 6 columns</p>\n",
              "</div>\n",
              "      <button class=\"colab-df-convert\" onclick=\"convertToInteractive('df-2197d890-3a82-4d80-8e94-71594efec2a6')\"\n",
              "              title=\"Convert this dataframe to an interactive table.\"\n",
              "              style=\"display:none;\">\n",
              "        \n",
              "  <svg xmlns=\"http://www.w3.org/2000/svg\" height=\"24px\"viewBox=\"0 0 24 24\"\n",
              "       width=\"24px\">\n",
              "    <path d=\"M0 0h24v24H0V0z\" fill=\"none\"/>\n",
              "    <path d=\"M18.56 5.44l.94 2.06.94-2.06 2.06-.94-2.06-.94-.94-2.06-.94 2.06-2.06.94zm-11 1L8.5 8.5l.94-2.06 2.06-.94-2.06-.94L8.5 2.5l-.94 2.06-2.06.94zm10 10l.94 2.06.94-2.06 2.06-.94-2.06-.94-.94-2.06-.94 2.06-2.06.94z\"/><path d=\"M17.41 7.96l-1.37-1.37c-.4-.4-.92-.59-1.43-.59-.52 0-1.04.2-1.43.59L10.3 9.45l-7.72 7.72c-.78.78-.78 2.05 0 2.83L4 21.41c.39.39.9.59 1.41.59.51 0 1.02-.2 1.41-.59l7.78-7.78 2.81-2.81c.8-.78.8-2.07 0-2.86zM5.41 20L4 18.59l7.72-7.72 1.47 1.35L5.41 20z\"/>\n",
              "  </svg>\n",
              "      </button>\n",
              "      \n",
              "  <style>\n",
              "    .colab-df-container {\n",
              "      display:flex;\n",
              "      flex-wrap:wrap;\n",
              "      gap: 12px;\n",
              "    }\n",
              "\n",
              "    .colab-df-convert {\n",
              "      background-color: #E8F0FE;\n",
              "      border: none;\n",
              "      border-radius: 50%;\n",
              "      cursor: pointer;\n",
              "      display: none;\n",
              "      fill: #1967D2;\n",
              "      height: 32px;\n",
              "      padding: 0 0 0 0;\n",
              "      width: 32px;\n",
              "    }\n",
              "\n",
              "    .colab-df-convert:hover {\n",
              "      background-color: #E2EBFA;\n",
              "      box-shadow: 0px 1px 2px rgba(60, 64, 67, 0.3), 0px 1px 3px 1px rgba(60, 64, 67, 0.15);\n",
              "      fill: #174EA6;\n",
              "    }\n",
              "\n",
              "    [theme=dark] .colab-df-convert {\n",
              "      background-color: #3B4455;\n",
              "      fill: #D2E3FC;\n",
              "    }\n",
              "\n",
              "    [theme=dark] .colab-df-convert:hover {\n",
              "      background-color: #434B5C;\n",
              "      box-shadow: 0px 1px 3px 1px rgba(0, 0, 0, 0.15);\n",
              "      filter: drop-shadow(0px 1px 2px rgba(0, 0, 0, 0.3));\n",
              "      fill: #FFFFFF;\n",
              "    }\n",
              "  </style>\n",
              "\n",
              "      <script>\n",
              "        const buttonEl =\n",
              "          document.querySelector('#df-2197d890-3a82-4d80-8e94-71594efec2a6 button.colab-df-convert');\n",
              "        buttonEl.style.display =\n",
              "          google.colab.kernel.accessAllowed ? 'block' : 'none';\n",
              "\n",
              "        async function convertToInteractive(key) {\n",
              "          const element = document.querySelector('#df-2197d890-3a82-4d80-8e94-71594efec2a6');\n",
              "          const dataTable =\n",
              "            await google.colab.kernel.invokeFunction('convertToInteractive',\n",
              "                                                     [key], {});\n",
              "          if (!dataTable) return;\n",
              "\n",
              "          const docLinkHtml = 'Like what you see? Visit the ' +\n",
              "            '<a target=\"_blank\" href=https://colab.research.google.com/notebooks/data_table.ipynb>data table notebook</a>'\n",
              "            + ' to learn more about interactive tables.';\n",
              "          element.innerHTML = '';\n",
              "          dataTable['output_type'] = 'display_data';\n",
              "          await google.colab.output.renderOutput(dataTable, element);\n",
              "          const docLink = document.createElement('div');\n",
              "          docLink.innerHTML = docLinkHtml;\n",
              "          element.appendChild(docLink);\n",
              "        }\n",
              "      </script>\n",
              "    </div>\n",
              "  </div>\n",
              "  "
            ]
          },
          "metadata": {},
          "execution_count": 36
        }
      ]
    },
    {
      "cell_type": "code",
      "source": [
        "x = df[['sepal length (cm)', 'sepal width (cm)', 'petal length (cm)', 'petal width (cm)']]\n",
        "y = df['target']\n",
        "clf = tree.DecisionTreeClassifier(\n",
        "                               # максимальная глубина дерева\n",
        "                               max_depth=5,\n",
        "                               # минимальное число элементов в узле для разбиения (может быть долей)\n",
        "                               min_samples_split=5,\n",
        "                               # минимальное число элементов в листе (может быть долей)\n",
        "                               min_samples_leaf=5)\n",
        "                               # минимальное значение дельты impurity (примеси)\n",
        "                               # min_impurity_decrease=0\n",
        "clf = clf.fit(x, y)"
      ],
      "metadata": {
        "id": "xB-FOSe9YHKc"
      },
      "execution_count": null,
      "outputs": []
    },
    {
      "cell_type": "code",
      "source": [
        "df.columns"
      ],
      "metadata": {
        "id": "-Ys7edWRZVxg",
        "colab": {
          "base_uri": "https://localhost:8080/"
        },
        "outputId": "5a9fa3b7-3893-42c3-9ba2-762a2afc9c33"
      },
      "execution_count": null,
      "outputs": [
        {
          "output_type": "execute_result",
          "data": {
            "text/plain": [
              "Index(['sepal length (cm)', 'sepal width (cm)', 'petal length (cm)',\n",
              "       'petal width (cm)', 'target', 'target_text'],\n",
              "      dtype='object')"
            ]
          },
          "metadata": {},
          "execution_count": 39
        }
      ]
    },
    {
      "cell_type": "code",
      "source": [
        "class_names=iris.target_names\n",
        "class_names"
      ],
      "metadata": {
        "id": "obINBn9pZpAT",
        "colab": {
          "base_uri": "https://localhost:8080/"
        },
        "outputId": "cf29029f-bea9-420b-9f4f-74d7dc8b6562"
      },
      "execution_count": null,
      "outputs": [
        {
          "output_type": "execute_result",
          "data": {
            "text/plain": [
              "array(['setosa', 'versicolor', 'virginica'], dtype='<U10')"
            ]
          },
          "metadata": {},
          "execution_count": 40
        }
      ]
    },
    {
      "cell_type": "code",
      "source": [
        "dot_data = tree.export_graphviz(clf, out_file = None,\n",
        "                      # задать названия столбцов\n",
        "                      feature_names = df.columns[:4],\n",
        "                      # названия классов - если они у нас есть, если нет, ставим None\n",
        "                      class_names = ['setosa', 'versicolor', 'virginica'],\n",
        "                      # показывать названия полей у численных значений внутри узла\n",
        "                      label='all',\n",
        "                      # раскрашивать узлы в цвет преобладающего класса\n",
        "                      filled=True,\n",
        "                      # показывать примеси - зашумленность, загрязненность (чем ниже, тем лучше)\n",
        "                      impurity=True,\n",
        "                      # показывать номера узлов\n",
        "                      node_ids=True,\n",
        "                      # Показывать доли каждого класса в узлах (а не количество)\n",
        "                      proportion=True)\n",
        "graph = graphviz.Source(dot_data)\n",
        "graph"
      ],
      "metadata": {
        "id": "oD0YtqUyXvNc",
        "colab": {
          "base_uri": "https://localhost:8080/",
          "height": 856
        },
        "outputId": "befe10af-3182-44b1-87a3-938fa66ad426"
      },
      "execution_count": null,
      "outputs": [
        {
          "output_type": "execute_result",
          "data": {
            "image/svg+xml": "<?xml version=\"1.0\" encoding=\"UTF-8\" standalone=\"no\"?>\n<!DOCTYPE svg PUBLIC \"-//W3C//DTD SVG 1.1//EN\"\n \"http://www.w3.org/Graphics/SVG/1.1/DTD/svg11.dtd\">\n<!-- Generated by graphviz version 2.43.0 (0)\n -->\n<!-- Title: Tree Pages: 1 -->\n<svg width=\"789pt\" height=\"627pt\"\n viewBox=\"0.00 0.00 789.00 627.00\" xmlns=\"http://www.w3.org/2000/svg\" xmlns:xlink=\"http://www.w3.org/1999/xlink\">\n<g id=\"graph0\" class=\"graph\" transform=\"scale(1 1) rotate(0) translate(4 623)\">\n<title>Tree</title>\n<polygon fill=\"white\" stroke=\"transparent\" points=\"-4,4 -4,-623 785,-623 785,4 -4,4\"/>\n<!-- 0 -->\n<g id=\"node1\" class=\"node\">\n<title>0</title>\n<polygon fill=\"#ffffff\" stroke=\"black\" points=\"446.5,-619 258.5,-619 258.5,-521 446.5,-521 446.5,-619\"/>\n<text text-anchor=\"middle\" x=\"352.5\" y=\"-603.8\" font-family=\"Helvetica,sans-Serif\" font-size=\"14.00\">node #0</text>\n<text text-anchor=\"middle\" x=\"352.5\" y=\"-588.8\" font-family=\"Helvetica,sans-Serif\" font-size=\"14.00\">petal width (cm) &lt;= 0.8</text>\n<text text-anchor=\"middle\" x=\"352.5\" y=\"-573.8\" font-family=\"Helvetica,sans-Serif\" font-size=\"14.00\">gini = 0.667</text>\n<text text-anchor=\"middle\" x=\"352.5\" y=\"-558.8\" font-family=\"Helvetica,sans-Serif\" font-size=\"14.00\">samples = 100.0%</text>\n<text text-anchor=\"middle\" x=\"352.5\" y=\"-543.8\" font-family=\"Helvetica,sans-Serif\" font-size=\"14.00\">value = [0.333, 0.333, 0.333]</text>\n<text text-anchor=\"middle\" x=\"352.5\" y=\"-528.8\" font-family=\"Helvetica,sans-Serif\" font-size=\"14.00\">class = setosa</text>\n</g>\n<!-- 1 -->\n<g id=\"node2\" class=\"node\">\n<title>1</title>\n<polygon fill=\"#e58139\" stroke=\"black\" points=\"339,-477.5 196,-477.5 196,-394.5 339,-394.5 339,-477.5\"/>\n<text text-anchor=\"middle\" x=\"267.5\" y=\"-462.3\" font-family=\"Helvetica,sans-Serif\" font-size=\"14.00\">node #1</text>\n<text text-anchor=\"middle\" x=\"267.5\" y=\"-447.3\" font-family=\"Helvetica,sans-Serif\" font-size=\"14.00\">gini = 0.0</text>\n<text text-anchor=\"middle\" x=\"267.5\" y=\"-432.3\" font-family=\"Helvetica,sans-Serif\" font-size=\"14.00\">samples = 33.3%</text>\n<text text-anchor=\"middle\" x=\"267.5\" y=\"-417.3\" font-family=\"Helvetica,sans-Serif\" font-size=\"14.00\">value = [1.0, 0.0, 0.0]</text>\n<text text-anchor=\"middle\" x=\"267.5\" y=\"-402.3\" font-family=\"Helvetica,sans-Serif\" font-size=\"14.00\">class = setosa</text>\n</g>\n<!-- 0&#45;&gt;1 -->\n<g id=\"edge1\" class=\"edge\">\n<title>0&#45;&gt;1</title>\n<path fill=\"none\" stroke=\"black\" d=\"M321.57,-520.97C314.31,-509.69 306.56,-497.66 299.26,-486.32\"/>\n<polygon fill=\"black\" stroke=\"black\" points=\"302.14,-484.33 293.78,-477.82 296.25,-488.12 302.14,-484.33\"/>\n<text text-anchor=\"middle\" x=\"288.49\" y=\"-498.55\" font-family=\"Helvetica,sans-Serif\" font-size=\"14.00\">True</text>\n</g>\n<!-- 2 -->\n<g id=\"node3\" class=\"node\">\n<title>2</title>\n<polygon fill=\"#ffffff\" stroke=\"black\" points=\"520,-485 357,-485 357,-387 520,-387 520,-485\"/>\n<text text-anchor=\"middle\" x=\"438.5\" y=\"-469.8\" font-family=\"Helvetica,sans-Serif\" font-size=\"14.00\">node #2</text>\n<text text-anchor=\"middle\" x=\"438.5\" y=\"-454.8\" font-family=\"Helvetica,sans-Serif\" font-size=\"14.00\">petal width (cm) &lt;= 1.75</text>\n<text text-anchor=\"middle\" x=\"438.5\" y=\"-439.8\" font-family=\"Helvetica,sans-Serif\" font-size=\"14.00\">gini = 0.5</text>\n<text text-anchor=\"middle\" x=\"438.5\" y=\"-424.8\" font-family=\"Helvetica,sans-Serif\" font-size=\"14.00\">samples = 66.7%</text>\n<text text-anchor=\"middle\" x=\"438.5\" y=\"-409.8\" font-family=\"Helvetica,sans-Serif\" font-size=\"14.00\">value = [0.0, 0.5, 0.5]</text>\n<text text-anchor=\"middle\" x=\"438.5\" y=\"-394.8\" font-family=\"Helvetica,sans-Serif\" font-size=\"14.00\">class = versicolor</text>\n</g>\n<!-- 0&#45;&gt;2 -->\n<g id=\"edge2\" class=\"edge\">\n<title>0&#45;&gt;2</title>\n<path fill=\"none\" stroke=\"black\" d=\"M383.79,-520.97C389.54,-512.15 395.59,-502.85 401.49,-493.8\"/>\n<polygon fill=\"black\" stroke=\"black\" points=\"404.56,-495.5 407.09,-485.21 398.7,-491.68 404.56,-495.5\"/>\n<text text-anchor=\"middle\" x=\"412.25\" y=\"-505.98\" font-family=\"Helvetica,sans-Serif\" font-size=\"14.00\">False</text>\n</g>\n<!-- 3 -->\n<g id=\"node4\" class=\"node\">\n<title>3</title>\n<polygon fill=\"#4de88e\" stroke=\"black\" points=\"429,-351 256,-351 256,-253 429,-253 429,-351\"/>\n<text text-anchor=\"middle\" x=\"342.5\" y=\"-335.8\" font-family=\"Helvetica,sans-Serif\" font-size=\"14.00\">node #3</text>\n<text text-anchor=\"middle\" x=\"342.5\" y=\"-320.8\" font-family=\"Helvetica,sans-Serif\" font-size=\"14.00\">petal length (cm) &lt;= 4.95</text>\n<text text-anchor=\"middle\" x=\"342.5\" y=\"-305.8\" font-family=\"Helvetica,sans-Serif\" font-size=\"14.00\">gini = 0.168</text>\n<text text-anchor=\"middle\" x=\"342.5\" y=\"-290.8\" font-family=\"Helvetica,sans-Serif\" font-size=\"14.00\">samples = 36.0%</text>\n<text text-anchor=\"middle\" x=\"342.5\" y=\"-275.8\" font-family=\"Helvetica,sans-Serif\" font-size=\"14.00\">value = [0.0, 0.907, 0.093]</text>\n<text text-anchor=\"middle\" x=\"342.5\" y=\"-260.8\" font-family=\"Helvetica,sans-Serif\" font-size=\"14.00\">class = versicolor</text>\n</g>\n<!-- 2&#45;&gt;3 -->\n<g id=\"edge3\" class=\"edge\">\n<title>2&#45;&gt;3</title>\n<path fill=\"none\" stroke=\"black\" d=\"M403.57,-386.97C397.08,-378.05 390.26,-368.66 383.61,-359.52\"/>\n<polygon fill=\"black\" stroke=\"black\" points=\"386.28,-357.24 377.56,-351.21 380.62,-361.36 386.28,-357.24\"/>\n</g>\n<!-- 8 -->\n<g id=\"node9\" class=\"node\">\n<title>8</title>\n<polygon fill=\"#843de6\" stroke=\"black\" points=\"620,-351 447,-351 447,-253 620,-253 620,-351\"/>\n<text text-anchor=\"middle\" x=\"533.5\" y=\"-335.8\" font-family=\"Helvetica,sans-Serif\" font-size=\"14.00\">node #8</text>\n<text text-anchor=\"middle\" x=\"533.5\" y=\"-320.8\" font-family=\"Helvetica,sans-Serif\" font-size=\"14.00\">petal length (cm) &lt;= 4.95</text>\n<text text-anchor=\"middle\" x=\"533.5\" y=\"-305.8\" font-family=\"Helvetica,sans-Serif\" font-size=\"14.00\">gini = 0.043</text>\n<text text-anchor=\"middle\" x=\"533.5\" y=\"-290.8\" font-family=\"Helvetica,sans-Serif\" font-size=\"14.00\">samples = 30.7%</text>\n<text text-anchor=\"middle\" x=\"533.5\" y=\"-275.8\" font-family=\"Helvetica,sans-Serif\" font-size=\"14.00\">value = [0.0, 0.022, 0.978]</text>\n<text text-anchor=\"middle\" x=\"533.5\" y=\"-260.8\" font-family=\"Helvetica,sans-Serif\" font-size=\"14.00\">class = virginica</text>\n</g>\n<!-- 2&#45;&gt;8 -->\n<g id=\"edge8\" class=\"edge\">\n<title>2&#45;&gt;8</title>\n<path fill=\"none\" stroke=\"black\" d=\"M473.07,-386.97C479.48,-378.05 486.24,-368.66 492.82,-359.52\"/>\n<polygon fill=\"black\" stroke=\"black\" points=\"495.8,-361.37 498.8,-351.21 490.12,-357.29 495.8,-361.37\"/>\n</g>\n<!-- 4 -->\n<g id=\"node5\" class=\"node\">\n<title>4</title>\n<polygon fill=\"#3de684\" stroke=\"black\" points=\"238,-217 65,-217 65,-119 238,-119 238,-217\"/>\n<text text-anchor=\"middle\" x=\"151.5\" y=\"-201.8\" font-family=\"Helvetica,sans-Serif\" font-size=\"14.00\">node #4</text>\n<text text-anchor=\"middle\" x=\"151.5\" y=\"-186.8\" font-family=\"Helvetica,sans-Serif\" font-size=\"14.00\">sepal length (cm) &lt;= 5.15</text>\n<text text-anchor=\"middle\" x=\"151.5\" y=\"-171.8\" font-family=\"Helvetica,sans-Serif\" font-size=\"14.00\">gini = 0.041</text>\n<text text-anchor=\"middle\" x=\"151.5\" y=\"-156.8\" font-family=\"Helvetica,sans-Serif\" font-size=\"14.00\">samples = 32.0%</text>\n<text text-anchor=\"middle\" x=\"151.5\" y=\"-141.8\" font-family=\"Helvetica,sans-Serif\" font-size=\"14.00\">value = [0.0, 0.979, 0.021]</text>\n<text text-anchor=\"middle\" x=\"151.5\" y=\"-126.8\" font-family=\"Helvetica,sans-Serif\" font-size=\"14.00\">class = versicolor</text>\n</g>\n<!-- 3&#45;&gt;4 -->\n<g id=\"edge4\" class=\"edge\">\n<title>3&#45;&gt;4</title>\n<path fill=\"none\" stroke=\"black\" d=\"M273,-252.97C258.92,-243.24 244.01,-232.93 229.65,-223.01\"/>\n<polygon fill=\"black\" stroke=\"black\" points=\"231.48,-220.02 221.26,-217.21 227.5,-225.78 231.48,-220.02\"/>\n</g>\n<!-- 7 -->\n<g id=\"node8\" class=\"node\">\n<title>7</title>\n<polygon fill=\"#c09cf2\" stroke=\"black\" points=\"429,-209.5 256,-209.5 256,-126.5 429,-126.5 429,-209.5\"/>\n<text text-anchor=\"middle\" x=\"342.5\" y=\"-194.3\" font-family=\"Helvetica,sans-Serif\" font-size=\"14.00\">node #7</text>\n<text text-anchor=\"middle\" x=\"342.5\" y=\"-179.3\" font-family=\"Helvetica,sans-Serif\" font-size=\"14.00\">gini = 0.444</text>\n<text text-anchor=\"middle\" x=\"342.5\" y=\"-164.3\" font-family=\"Helvetica,sans-Serif\" font-size=\"14.00\">samples = 4.0%</text>\n<text text-anchor=\"middle\" x=\"342.5\" y=\"-149.3\" font-family=\"Helvetica,sans-Serif\" font-size=\"14.00\">value = [0.0, 0.333, 0.667]</text>\n<text text-anchor=\"middle\" x=\"342.5\" y=\"-134.3\" font-family=\"Helvetica,sans-Serif\" font-size=\"14.00\">class = virginica</text>\n</g>\n<!-- 3&#45;&gt;7 -->\n<g id=\"edge7\" class=\"edge\">\n<title>3&#45;&gt;7</title>\n<path fill=\"none\" stroke=\"black\" d=\"M342.5,-252.97C342.5,-242.25 342.5,-230.84 342.5,-219.99\"/>\n<polygon fill=\"black\" stroke=\"black\" points=\"346,-219.82 342.5,-209.82 339,-219.82 346,-219.82\"/>\n</g>\n<!-- 5 -->\n<g id=\"node6\" class=\"node\">\n<title>5</title>\n<polygon fill=\"#6aeca0\" stroke=\"black\" points=\"143,-83 0,-83 0,0 143,0 143,-83\"/>\n<text text-anchor=\"middle\" x=\"71.5\" y=\"-67.8\" font-family=\"Helvetica,sans-Serif\" font-size=\"14.00\">node #5</text>\n<text text-anchor=\"middle\" x=\"71.5\" y=\"-52.8\" font-family=\"Helvetica,sans-Serif\" font-size=\"14.00\">gini = 0.32</text>\n<text text-anchor=\"middle\" x=\"71.5\" y=\"-37.8\" font-family=\"Helvetica,sans-Serif\" font-size=\"14.00\">samples = 3.3%</text>\n<text text-anchor=\"middle\" x=\"71.5\" y=\"-22.8\" font-family=\"Helvetica,sans-Serif\" font-size=\"14.00\">value = [0.0, 0.8, 0.2]</text>\n<text text-anchor=\"middle\" x=\"71.5\" y=\"-7.8\" font-family=\"Helvetica,sans-Serif\" font-size=\"14.00\">class = versicolor</text>\n</g>\n<!-- 4&#45;&gt;5 -->\n<g id=\"edge5\" class=\"edge\">\n<title>4&#45;&gt;5</title>\n<path fill=\"none\" stroke=\"black\" d=\"M120.57,-118.87C114.84,-109.95 108.85,-100.62 103.1,-91.67\"/>\n<polygon fill=\"black\" stroke=\"black\" points=\"106.02,-89.75 97.67,-83.23 100.13,-93.54 106.02,-89.75\"/>\n</g>\n<!-- 6 -->\n<g id=\"node7\" class=\"node\">\n<title>6</title>\n<polygon fill=\"#39e581\" stroke=\"black\" points=\"304,-83 161,-83 161,0 304,0 304,-83\"/>\n<text text-anchor=\"middle\" x=\"232.5\" y=\"-67.8\" font-family=\"Helvetica,sans-Serif\" font-size=\"14.00\">node #6</text>\n<text text-anchor=\"middle\" x=\"232.5\" y=\"-52.8\" font-family=\"Helvetica,sans-Serif\" font-size=\"14.00\">gini = 0.0</text>\n<text text-anchor=\"middle\" x=\"232.5\" y=\"-37.8\" font-family=\"Helvetica,sans-Serif\" font-size=\"14.00\">samples = 28.7%</text>\n<text text-anchor=\"middle\" x=\"232.5\" y=\"-22.8\" font-family=\"Helvetica,sans-Serif\" font-size=\"14.00\">value = [0.0, 1.0, 0.0]</text>\n<text text-anchor=\"middle\" x=\"232.5\" y=\"-7.8\" font-family=\"Helvetica,sans-Serif\" font-size=\"14.00\">class = versicolor</text>\n</g>\n<!-- 4&#45;&gt;6 -->\n<g id=\"edge6\" class=\"edge\">\n<title>4&#45;&gt;6</title>\n<path fill=\"none\" stroke=\"black\" d=\"M182.82,-118.87C188.62,-109.95 194.69,-100.62 200.51,-91.67\"/>\n<polygon fill=\"black\" stroke=\"black\" points=\"203.48,-93.52 206,-83.23 197.61,-89.7 203.48,-93.52\"/>\n</g>\n<!-- 9 -->\n<g id=\"node10\" class=\"node\">\n<title>9</title>\n<polygon fill=\"#9a61ea\" stroke=\"black\" points=\"620,-209.5 447,-209.5 447,-126.5 620,-126.5 620,-209.5\"/>\n<text text-anchor=\"middle\" x=\"533.5\" y=\"-194.3\" font-family=\"Helvetica,sans-Serif\" font-size=\"14.00\">node #9</text>\n<text text-anchor=\"middle\" x=\"533.5\" y=\"-179.3\" font-family=\"Helvetica,sans-Serif\" font-size=\"14.00\">gini = 0.278</text>\n<text text-anchor=\"middle\" x=\"533.5\" y=\"-164.3\" font-family=\"Helvetica,sans-Serif\" font-size=\"14.00\">samples = 4.0%</text>\n<text text-anchor=\"middle\" x=\"533.5\" y=\"-149.3\" font-family=\"Helvetica,sans-Serif\" font-size=\"14.00\">value = [0.0, 0.167, 0.833]</text>\n<text text-anchor=\"middle\" x=\"533.5\" y=\"-134.3\" font-family=\"Helvetica,sans-Serif\" font-size=\"14.00\">class = virginica</text>\n</g>\n<!-- 8&#45;&gt;9 -->\n<g id=\"edge9\" class=\"edge\">\n<title>8&#45;&gt;9</title>\n<path fill=\"none\" stroke=\"black\" d=\"M533.5,-252.97C533.5,-242.25 533.5,-230.84 533.5,-219.99\"/>\n<polygon fill=\"black\" stroke=\"black\" points=\"537,-219.82 533.5,-209.82 530,-219.82 537,-219.82\"/>\n</g>\n<!-- 10 -->\n<g id=\"node11\" class=\"node\">\n<title>10</title>\n<polygon fill=\"#8139e5\" stroke=\"black\" points=\"781,-209.5 638,-209.5 638,-126.5 781,-126.5 781,-209.5\"/>\n<text text-anchor=\"middle\" x=\"709.5\" y=\"-194.3\" font-family=\"Helvetica,sans-Serif\" font-size=\"14.00\">node #10</text>\n<text text-anchor=\"middle\" x=\"709.5\" y=\"-179.3\" font-family=\"Helvetica,sans-Serif\" font-size=\"14.00\">gini = 0.0</text>\n<text text-anchor=\"middle\" x=\"709.5\" y=\"-164.3\" font-family=\"Helvetica,sans-Serif\" font-size=\"14.00\">samples = 26.7%</text>\n<text text-anchor=\"middle\" x=\"709.5\" y=\"-149.3\" font-family=\"Helvetica,sans-Serif\" font-size=\"14.00\">value = [0.0, 0.0, 1.0]</text>\n<text text-anchor=\"middle\" x=\"709.5\" y=\"-134.3\" font-family=\"Helvetica,sans-Serif\" font-size=\"14.00\">class = virginica</text>\n</g>\n<!-- 8&#45;&gt;10 -->\n<g id=\"edge10\" class=\"edge\">\n<title>8&#45;&gt;10</title>\n<path fill=\"none\" stroke=\"black\" d=\"M597.54,-252.97C613.69,-240.86 631.01,-227.87 647.08,-215.81\"/>\n<polygon fill=\"black\" stroke=\"black\" points=\"649.46,-218.4 655.36,-209.6 645.26,-212.8 649.46,-218.4\"/>\n</g>\n</g>\n</svg>\n",
            "text/plain": [
              "<graphviz.sources.Source at 0x7ff8b460f460>"
            ]
          },
          "metadata": {},
          "execution_count": 41
        }
      ]
    },
    {
      "cell_type": "code",
      "source": [
        "# вклад, значимость каждого показателя\n",
        "pd.DataFrame({'feature': df.columns[:4],\n",
        "              'importance': clf.feature_importances_}).sort_values('importance', ascending=False)"
      ],
      "metadata": {
        "id": "-3cO_u8zbZDd",
        "colab": {
          "base_uri": "https://localhost:8080/",
          "height": 174
        },
        "outputId": "6a15993c-7f6a-474a-83f6-b0ba055fc6b4"
      },
      "execution_count": null,
      "outputs": [
        {
          "output_type": "execute_result",
          "data": {
            "text/plain": [
              "             feature  importance\n",
              "3   petal width (cm)    0.945812\n",
              "2  petal length (cm)    0.050378\n",
              "0  sepal length (cm)    0.003809\n",
              "1   sepal width (cm)    0.000000"
            ],
            "text/html": [
              "\n",
              "  <div id=\"df-f61428ca-cd27-43a3-9718-e64c3882a2a2\">\n",
              "    <div class=\"colab-df-container\">\n",
              "      <div>\n",
              "<style scoped>\n",
              "    .dataframe tbody tr th:only-of-type {\n",
              "        vertical-align: middle;\n",
              "    }\n",
              "\n",
              "    .dataframe tbody tr th {\n",
              "        vertical-align: top;\n",
              "    }\n",
              "\n",
              "    .dataframe thead th {\n",
              "        text-align: right;\n",
              "    }\n",
              "</style>\n",
              "<table border=\"1\" class=\"dataframe\">\n",
              "  <thead>\n",
              "    <tr style=\"text-align: right;\">\n",
              "      <th></th>\n",
              "      <th>feature</th>\n",
              "      <th>importance</th>\n",
              "    </tr>\n",
              "  </thead>\n",
              "  <tbody>\n",
              "    <tr>\n",
              "      <th>3</th>\n",
              "      <td>petal width (cm)</td>\n",
              "      <td>0.945812</td>\n",
              "    </tr>\n",
              "    <tr>\n",
              "      <th>2</th>\n",
              "      <td>petal length (cm)</td>\n",
              "      <td>0.050378</td>\n",
              "    </tr>\n",
              "    <tr>\n",
              "      <th>0</th>\n",
              "      <td>sepal length (cm)</td>\n",
              "      <td>0.003809</td>\n",
              "    </tr>\n",
              "    <tr>\n",
              "      <th>1</th>\n",
              "      <td>sepal width (cm)</td>\n",
              "      <td>0.000000</td>\n",
              "    </tr>\n",
              "  </tbody>\n",
              "</table>\n",
              "</div>\n",
              "      <button class=\"colab-df-convert\" onclick=\"convertToInteractive('df-f61428ca-cd27-43a3-9718-e64c3882a2a2')\"\n",
              "              title=\"Convert this dataframe to an interactive table.\"\n",
              "              style=\"display:none;\">\n",
              "        \n",
              "  <svg xmlns=\"http://www.w3.org/2000/svg\" height=\"24px\"viewBox=\"0 0 24 24\"\n",
              "       width=\"24px\">\n",
              "    <path d=\"M0 0h24v24H0V0z\" fill=\"none\"/>\n",
              "    <path d=\"M18.56 5.44l.94 2.06.94-2.06 2.06-.94-2.06-.94-.94-2.06-.94 2.06-2.06.94zm-11 1L8.5 8.5l.94-2.06 2.06-.94-2.06-.94L8.5 2.5l-.94 2.06-2.06.94zm10 10l.94 2.06.94-2.06 2.06-.94-2.06-.94-.94-2.06-.94 2.06-2.06.94z\"/><path d=\"M17.41 7.96l-1.37-1.37c-.4-.4-.92-.59-1.43-.59-.52 0-1.04.2-1.43.59L10.3 9.45l-7.72 7.72c-.78.78-.78 2.05 0 2.83L4 21.41c.39.39.9.59 1.41.59.51 0 1.02-.2 1.41-.59l7.78-7.78 2.81-2.81c.8-.78.8-2.07 0-2.86zM5.41 20L4 18.59l7.72-7.72 1.47 1.35L5.41 20z\"/>\n",
              "  </svg>\n",
              "      </button>\n",
              "      \n",
              "  <style>\n",
              "    .colab-df-container {\n",
              "      display:flex;\n",
              "      flex-wrap:wrap;\n",
              "      gap: 12px;\n",
              "    }\n",
              "\n",
              "    .colab-df-convert {\n",
              "      background-color: #E8F0FE;\n",
              "      border: none;\n",
              "      border-radius: 50%;\n",
              "      cursor: pointer;\n",
              "      display: none;\n",
              "      fill: #1967D2;\n",
              "      height: 32px;\n",
              "      padding: 0 0 0 0;\n",
              "      width: 32px;\n",
              "    }\n",
              "\n",
              "    .colab-df-convert:hover {\n",
              "      background-color: #E2EBFA;\n",
              "      box-shadow: 0px 1px 2px rgba(60, 64, 67, 0.3), 0px 1px 3px 1px rgba(60, 64, 67, 0.15);\n",
              "      fill: #174EA6;\n",
              "    }\n",
              "\n",
              "    [theme=dark] .colab-df-convert {\n",
              "      background-color: #3B4455;\n",
              "      fill: #D2E3FC;\n",
              "    }\n",
              "\n",
              "    [theme=dark] .colab-df-convert:hover {\n",
              "      background-color: #434B5C;\n",
              "      box-shadow: 0px 1px 3px 1px rgba(0, 0, 0, 0.15);\n",
              "      filter: drop-shadow(0px 1px 2px rgba(0, 0, 0, 0.3));\n",
              "      fill: #FFFFFF;\n",
              "    }\n",
              "  </style>\n",
              "\n",
              "      <script>\n",
              "        const buttonEl =\n",
              "          document.querySelector('#df-f61428ca-cd27-43a3-9718-e64c3882a2a2 button.colab-df-convert');\n",
              "        buttonEl.style.display =\n",
              "          google.colab.kernel.accessAllowed ? 'block' : 'none';\n",
              "\n",
              "        async function convertToInteractive(key) {\n",
              "          const element = document.querySelector('#df-f61428ca-cd27-43a3-9718-e64c3882a2a2');\n",
              "          const dataTable =\n",
              "            await google.colab.kernel.invokeFunction('convertToInteractive',\n",
              "                                                     [key], {});\n",
              "          if (!dataTable) return;\n",
              "\n",
              "          const docLinkHtml = 'Like what you see? Visit the ' +\n",
              "            '<a target=\"_blank\" href=https://colab.research.google.com/notebooks/data_table.ipynb>data table notebook</a>'\n",
              "            + ' to learn more about interactive tables.';\n",
              "          element.innerHTML = '';\n",
              "          dataTable['output_type'] = 'display_data';\n",
              "          await google.colab.output.renderOutput(dataTable, element);\n",
              "          const docLink = document.createElement('div');\n",
              "          docLink.innerHTML = docLinkHtml;\n",
              "          element.appendChild(docLink);\n",
              "        }\n",
              "      </script>\n",
              "    </div>\n",
              "  </div>\n",
              "  "
            ]
          },
          "metadata": {},
          "execution_count": 42
        }
      ]
    },
    {
      "cell_type": "code",
      "source": [
        "# деревья решений умеют предсказывать:\n",
        "new_item = [1, 1, 1, 1]\n",
        "clf.predict([new_item])"
      ],
      "metadata": {
        "id": "sWT-0jYlbtGI",
        "colab": {
          "base_uri": "https://localhost:8080/"
        },
        "outputId": "391392d0-4325-4ab3-d9a2-8f57f7bc0698"
      },
      "execution_count": null,
      "outputs": [
        {
          "output_type": "stream",
          "name": "stderr",
          "text": [
            "/usr/local/lib/python3.10/dist-packages/sklearn/base.py:439: UserWarning: X does not have valid feature names, but DecisionTreeClassifier was fitted with feature names\n",
            "  warnings.warn(\n"
          ]
        },
        {
          "output_type": "execute_result",
          "data": {
            "text/plain": [
              "array([1])"
            ]
          },
          "metadata": {},
          "execution_count": 43
        }
      ]
    },
    {
      "cell_type": "code",
      "source": [
        "# переделаем красиво)) чтобы признаки были явно обозначены\n",
        "new = pd.DataFrame(new_item).T\n",
        "new.columns=df.columns[:4]\n",
        "new"
      ],
      "metadata": {
        "id": "NU4fJvgXfBEL",
        "colab": {
          "base_uri": "https://localhost:8080/",
          "height": 80
        },
        "outputId": "618b053a-b130-4f5a-f754-acdb31f3f52a"
      },
      "execution_count": null,
      "outputs": [
        {
          "output_type": "execute_result",
          "data": {
            "text/plain": [
              "   sepal length (cm)  sepal width (cm)  petal length (cm)  petal width (cm)\n",
              "0                  1                 1                  1                 1"
            ],
            "text/html": [
              "\n",
              "  <div id=\"df-0bc6102d-c3f9-41eb-81f5-966c3869880e\">\n",
              "    <div class=\"colab-df-container\">\n",
              "      <div>\n",
              "<style scoped>\n",
              "    .dataframe tbody tr th:only-of-type {\n",
              "        vertical-align: middle;\n",
              "    }\n",
              "\n",
              "    .dataframe tbody tr th {\n",
              "        vertical-align: top;\n",
              "    }\n",
              "\n",
              "    .dataframe thead th {\n",
              "        text-align: right;\n",
              "    }\n",
              "</style>\n",
              "<table border=\"1\" class=\"dataframe\">\n",
              "  <thead>\n",
              "    <tr style=\"text-align: right;\">\n",
              "      <th></th>\n",
              "      <th>sepal length (cm)</th>\n",
              "      <th>sepal width (cm)</th>\n",
              "      <th>petal length (cm)</th>\n",
              "      <th>petal width (cm)</th>\n",
              "    </tr>\n",
              "  </thead>\n",
              "  <tbody>\n",
              "    <tr>\n",
              "      <th>0</th>\n",
              "      <td>1</td>\n",
              "      <td>1</td>\n",
              "      <td>1</td>\n",
              "      <td>1</td>\n",
              "    </tr>\n",
              "  </tbody>\n",
              "</table>\n",
              "</div>\n",
              "      <button class=\"colab-df-convert\" onclick=\"convertToInteractive('df-0bc6102d-c3f9-41eb-81f5-966c3869880e')\"\n",
              "              title=\"Convert this dataframe to an interactive table.\"\n",
              "              style=\"display:none;\">\n",
              "        \n",
              "  <svg xmlns=\"http://www.w3.org/2000/svg\" height=\"24px\"viewBox=\"0 0 24 24\"\n",
              "       width=\"24px\">\n",
              "    <path d=\"M0 0h24v24H0V0z\" fill=\"none\"/>\n",
              "    <path d=\"M18.56 5.44l.94 2.06.94-2.06 2.06-.94-2.06-.94-.94-2.06-.94 2.06-2.06.94zm-11 1L8.5 8.5l.94-2.06 2.06-.94-2.06-.94L8.5 2.5l-.94 2.06-2.06.94zm10 10l.94 2.06.94-2.06 2.06-.94-2.06-.94-.94-2.06-.94 2.06-2.06.94z\"/><path d=\"M17.41 7.96l-1.37-1.37c-.4-.4-.92-.59-1.43-.59-.52 0-1.04.2-1.43.59L10.3 9.45l-7.72 7.72c-.78.78-.78 2.05 0 2.83L4 21.41c.39.39.9.59 1.41.59.51 0 1.02-.2 1.41-.59l7.78-7.78 2.81-2.81c.8-.78.8-2.07 0-2.86zM5.41 20L4 18.59l7.72-7.72 1.47 1.35L5.41 20z\"/>\n",
              "  </svg>\n",
              "      </button>\n",
              "      \n",
              "  <style>\n",
              "    .colab-df-container {\n",
              "      display:flex;\n",
              "      flex-wrap:wrap;\n",
              "      gap: 12px;\n",
              "    }\n",
              "\n",
              "    .colab-df-convert {\n",
              "      background-color: #E8F0FE;\n",
              "      border: none;\n",
              "      border-radius: 50%;\n",
              "      cursor: pointer;\n",
              "      display: none;\n",
              "      fill: #1967D2;\n",
              "      height: 32px;\n",
              "      padding: 0 0 0 0;\n",
              "      width: 32px;\n",
              "    }\n",
              "\n",
              "    .colab-df-convert:hover {\n",
              "      background-color: #E2EBFA;\n",
              "      box-shadow: 0px 1px 2px rgba(60, 64, 67, 0.3), 0px 1px 3px 1px rgba(60, 64, 67, 0.15);\n",
              "      fill: #174EA6;\n",
              "    }\n",
              "\n",
              "    [theme=dark] .colab-df-convert {\n",
              "      background-color: #3B4455;\n",
              "      fill: #D2E3FC;\n",
              "    }\n",
              "\n",
              "    [theme=dark] .colab-df-convert:hover {\n",
              "      background-color: #434B5C;\n",
              "      box-shadow: 0px 1px 3px 1px rgba(0, 0, 0, 0.15);\n",
              "      filter: drop-shadow(0px 1px 2px rgba(0, 0, 0, 0.3));\n",
              "      fill: #FFFFFF;\n",
              "    }\n",
              "  </style>\n",
              "\n",
              "      <script>\n",
              "        const buttonEl =\n",
              "          document.querySelector('#df-0bc6102d-c3f9-41eb-81f5-966c3869880e button.colab-df-convert');\n",
              "        buttonEl.style.display =\n",
              "          google.colab.kernel.accessAllowed ? 'block' : 'none';\n",
              "\n",
              "        async function convertToInteractive(key) {\n",
              "          const element = document.querySelector('#df-0bc6102d-c3f9-41eb-81f5-966c3869880e');\n",
              "          const dataTable =\n",
              "            await google.colab.kernel.invokeFunction('convertToInteractive',\n",
              "                                                     [key], {});\n",
              "          if (!dataTable) return;\n",
              "\n",
              "          const docLinkHtml = 'Like what you see? Visit the ' +\n",
              "            '<a target=\"_blank\" href=https://colab.research.google.com/notebooks/data_table.ipynb>data table notebook</a>'\n",
              "            + ' to learn more about interactive tables.';\n",
              "          element.innerHTML = '';\n",
              "          dataTable['output_type'] = 'display_data';\n",
              "          await google.colab.output.renderOutput(dataTable, element);\n",
              "          const docLink = document.createElement('div');\n",
              "          docLink.innerHTML = docLinkHtml;\n",
              "          element.appendChild(docLink);\n",
              "        }\n",
              "      </script>\n",
              "    </div>\n",
              "  </div>\n",
              "  "
            ]
          },
          "metadata": {},
          "execution_count": 44
        }
      ]
    },
    {
      "cell_type": "code",
      "source": [
        "clf.predict(new)"
      ],
      "metadata": {
        "id": "ux-lhZTCfXre",
        "colab": {
          "base_uri": "https://localhost:8080/"
        },
        "outputId": "d5cc9f52-dcd7-4035-ac33-3b77d6d12bd0"
      },
      "execution_count": null,
      "outputs": [
        {
          "output_type": "execute_result",
          "data": {
            "text/plain": [
              "array([1])"
            ]
          },
          "metadata": {},
          "execution_count": 45
        }
      ]
    },
    {
      "cell_type": "markdown",
      "source": [
        "### Проверим, насколько точна наша классификация"
      ],
      "metadata": {
        "id": "GzUVEAYNiIGU"
      }
    },
    {
      "cell_type": "code",
      "source": [
        "x = df[df.columns[:4]]\n",
        "y = df['target']\n",
        "x_train, x_test, y_train, y_test = train_test_split(x, y, test_size=0.33)\n",
        "# обучаем модель на тренировочных данных\n",
        "clf.fit(x_train, y_train)\n",
        "\n",
        "y_pred = clf.predict(x_test)"
      ],
      "metadata": {
        "id": "I_19L4REiMXU"
      },
      "execution_count": null,
      "outputs": []
    },
    {
      "cell_type": "code",
      "source": [
        "confusion_matrix(y_pred, y_test)"
      ],
      "metadata": {
        "id": "isroHnk3i3HY",
        "colab": {
          "base_uri": "https://localhost:8080/"
        },
        "outputId": "86c03245-1ade-40f1-cfa1-d7bc0d5279e2"
      },
      "execution_count": null,
      "outputs": [
        {
          "output_type": "execute_result",
          "data": {
            "text/plain": [
              "array([[12,  0,  0],\n",
              "       [ 0, 20,  3],\n",
              "       [ 0,  1, 14]])"
            ]
          },
          "metadata": {},
          "execution_count": 62
        }
      ]
    }
  ]
}