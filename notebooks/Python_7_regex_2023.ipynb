{
  "nbformat": 4,
  "nbformat_minor": 0,
  "metadata": {
    "colab": {
      "provenance": [],
      "include_colab_link": true
    },
    "kernelspec": {
      "name": "python3",
      "display_name": "Python 3"
    },
    "language_info": {
      "name": "python"
    }
  },
  "cells": [
    {
      "cell_type": "markdown",
      "metadata": {
        "id": "view-in-github",
        "colab_type": "text"
      },
      "source": [
        "<a href=\"https://colab.research.google.com/github/AnnSenina/Python_for_DH_2023/blob/main/notebooks/Python_7_regex_2023.ipynb\" target=\"_parent\"><img src=\"https://colab.research.google.com/assets/colab-badge.svg\" alt=\"Open In Colab\"/></a>"
      ]
    },
    {
      "cell_type": "markdown",
      "source": [
        "# Логика регулярных выражений (и зачем они нужны)\n",
        "\n",
        "регулярное выражение — это последовательность символов, используемая для поиска и(или) замены некоторого паттерна в строке (тексте или файле)\n",
        "\n",
        "регулярные выражения хороши, когда нам нужно вытащить из текста повторяющийся паттерн: номер телефона, конкретную фразу, адреса и тд.\n",
        "\n",
        "действительно удачный [гайд](https://habr.com/ru/articles/349860/), tnx Yulia Koltsova\n",
        "\n",
        "еще один [гайд](https://habr.com/ru/articles/545150/) с хабра с комиксами\n",
        "\n",
        "[онлайн-редактор для регулярных выражений](https://regex101.com/r/F8dY80/3)"
      ],
      "metadata": {
        "id": "ChZf-6ZfIk_v"
      }
    },
    {
      "cell_type": "markdown",
      "source": [
        "<table width=\"100%\"><tbody><tr><th style=\"text-align: center;\" width=\"90\"><strong>Оператор</strong></th><th style=\"text-align: center;\" width=\"680\"><strong>Описание</strong></th></tr><tr><td width=\"90\"><tt>.</tt></td><td width=\"680\">Один любой символ, кроме новой строки <tt>\\n</tt>.</td></tr><tr><td width=\"90\"><tt>?</tt></td><td width=\"680\">0 или 1 вхождение шаблона слева</td></tr><tr><td width=\"90\"><tt>+</tt></td><td width=\"680\">1 и более вхождений шаблона слева</td></tr><tr><td width=\"90\"><tt>*</tt></td><td width=\"680\">0 и более вхождений шаблона слева</td></tr><tr><td width=\"90\"><tt>\\w</tt></td><td width=\"680\">Любая цифра или буква (<tt>\\W</tt> —&nbsp;все, кроме буквы или цифры)</td></tr><tr><td width=\"90\"><tt>\\d</tt></td><td width=\"680\">Любая цифра [0-9] (<tt>\\D</tt> —&nbsp;все, кроме цифры)</td></tr><tr><td width=\"90\"><tt>\\s</tt></td><td width=\"680\">Любой пробельный символ (<tt>\\S</tt> —&nbsp;любой непробельный символ)</td></tr><tr><td width=\"90\"><tt>\\b</tt></td><td width=\"680\">Граница слова</td></tr><tr><td width=\"90\"><tt>[..]</tt></td><td width=\"680\">Один из символов в скобках (<tt>[^..]</tt> —&nbsp;любой символ, кроме тех, что в скобках)</td></tr><tr><td width=\"90\"><tt>\\</tt></td><td width=\"680\">Экранирование специальных символов (<tt>\\.</tt> означает точку или <tt>\\+</tt> —&nbsp;знак «плюс»)</td></tr><tr><td width=\"90\"><tt>^</tt> и <tt>$</tt></td><td width=\"680\">Начало и конец строки соответственно</td></tr><tr><td width=\"90\"><tt>{n,m}</tt></td><td width=\"680\">От <tt>n</tt> до <tt>m</tt> вхождений (<tt>{,m}</tt> —&nbsp;от 0 до <tt>m</tt>)</td></tr><tr><td width=\"90\"><tt>a|b</tt></td><td width=\"680\">Соответствует <tt>a</tt> или <tt>b</tt></td></tr><tr><td width=\"90\"><tt>()</tt></td><td width=\"680\">Группирует выражение и возвращает найденный текст</td></tr><tr><td width=\"90\"><tt>\\t</tt>, <tt>\\n</tt>, <tt>\\r</tt></td><td width=\"680\">Символ табуляции, новой строки и возврата каретки соответственно</td></tr></tbody></table>\n",
        "\n",
        "\n",
        "[здесь](https://www.rexegg.com/regex-quickstart.html) развернутая таблица синтаксиса"
      ],
      "metadata": {
        "id": "XpHRKDczJAE0"
      }
    },
    {
      "cell_type": "markdown",
      "source": [
        "#Регулярные выражения в питоне"
      ],
      "metadata": {
        "id": "dMd547IoJF1e"
      }
    },
    {
      "cell_type": "markdown",
      "source": [
        "чтобы начать работать с регулярными выражениями в питоне, нам нужно импортировать модуль ``re`` или установить библиотеку regex: pip install regex\n",
        "\n",
        "* здесь [ссылка](https://docs.python.org/3/library/re.html) на его документацию и [ссылка на тьюториал](https://docs.python.org/3/howto/regex.html#regex-howto)\n",
        "\n",
        "а так выглядят основные функции модуля re\n",
        "\n",
        "<div class=\"table\"><table>\n",
        "<thead>\n",
        "<tr>\n",
        "<th>Функция</th>\n",
        "<th>Что делает</th>\n",
        "</tr>\n",
        "</thead>\n",
        "<tbody>\n",
        "<tr>\n",
        "<td><code>re.match(pattern, string)</code></td>\n",
        "<td>Найти по заданному шаблону <code>pattern</code> первое совпадение в начале строки<code>string</code></td>\n",
        "</tr>\n",
        "<tr>\n",
        "<td><code>re.search(pattern, string)</code></td>\n",
        "<td>Найти в строке <code>string</code> первую строчку, подходящую под шаблон <code>pattern</code> <br>ищет по всей строке, но возвращает только первое найденное совпадение</br></td>\n",
        "</tr>\n",
        "<tr>\n",
        "<td><code>re.fullmatch(pattern, string)</code></td>\n",
        "<td>Проверить, подходит ли строка <code>string</code> под шаблон <code>pattern</code></td>\n",
        "</tr>\n",
        "<tr>\n",
        "<td><code>re.split(pattern, string, maxsplit=0)</code></td>\n",
        "<td>Аналог <code>str.split()</code>, только разделение происходит по подстрокам, подходящим под шаблон <code>pattern</code></td>\n",
        "</tr>\n",
        "<tr>\n",
        "<td><code>re.findall(pattern, string)</code></td>\n",
        "<td>Найти в строке <code>string</code> все непересекающиеся шаблоны <code>pattern</code></td>\n",
        "</tr>\n",
        "<tr>\n",
        "<td><code>re.sub(pattern, replace, string)</code></td>\n",
        "<td>Заменить в строке <code>string</code> все непересекающиеся шаблоны <code>pattern</code> на <code>replace</code></td>\n",
        "</tr>\n",
        "</tbody>\n",
        "</table></div>\n",
        "\n",
        "\n",
        "Давайте попробуем!"
      ],
      "metadata": {
        "id": "YHfoChoPJMKz"
      }
    },
    {
      "cell_type": "code",
      "source": [
        "!pip install regex\n",
        "#pip3 install regex"
      ],
      "metadata": {
        "id": "KBxC9gdVJ6g4"
      },
      "execution_count": null,
      "outputs": []
    },
    {
      "cell_type": "code",
      "source": [
        "import re\n",
        "# для PyCharm - оставьте эту строку в исполняемом файле"
      ],
      "metadata": {
        "id": "-tCatrzoKY73"
      },
      "execution_count": null,
      "outputs": []
    },
    {
      "cell_type": "code",
      "source": [
        "text =  \"Hello my dear friend Amy.\\nHello again!\"\n",
        "\n",
        "print(text)"
      ],
      "metadata": {
        "id": "yl5NI3NdKXj7"
      },
      "execution_count": null,
      "outputs": []
    },
    {
      "cell_type": "markdown",
      "source": [
        "##.match(pattern, string)\n",
        "\n",
        "метод ищет подстроку по заданному шаблону в начале строки"
      ],
      "metadata": {
        "id": "re5jEdbNKqc0"
      }
    },
    {
      "cell_type": "code",
      "source": [
        "result = re.match(r'Hello', text)\n",
        "# «r» перед строкой шаблона показывает, что это «сырая» строка в Python\n",
        "# не рассматривай \\ как экранирующий символ\n",
        "\n",
        "print(result)"
      ],
      "metadata": {
        "id": "WURVdNNyKYki"
      },
      "execution_count": null,
      "outputs": []
    },
    {
      "cell_type": "markdown",
      "source": [
        "Строка найдена, но не показывается. По умолчанию, print покажет сам объект (найденный паттерн) и его мета-данные.\n",
        "\n",
        "Чтобы вывести содержимое, используем метод .group() Он показывает вхождения искомого паттерна"
      ],
      "metadata": {
        "id": "imI1AI6-L5SR"
      }
    },
    {
      "cell_type": "code",
      "source": [
        "print(result.group())"
      ],
      "metadata": {
        "id": "kv0Ha7KHLqh3"
      },
      "execution_count": null,
      "outputs": []
    },
    {
      "cell_type": "code",
      "source": [
        "# попробуйте найти hello вместо Hello\n",
        "result = re.match(r'hello', text)\n",
        "print(result) # такая подстрока не начинает наш текст\n",
        "print(result.group())"
      ],
      "metadata": {
        "id": "3PHWflz1q7_1"
      },
      "execution_count": null,
      "outputs": []
    },
    {
      "cell_type": "markdown",
      "source": [
        "##.fullmatch(pattern, string)\n",
        "проверяет, является ли паттерн полным совпадением со строкой"
      ],
      "metadata": {
        "id": "Y8wO9kjbMIMB"
      }
    },
    {
      "cell_type": "code",
      "source": [
        "result = re.fullmatch(r'Hello my dear friend Amy', 'Hello my dear friend Amy')\n",
        "\n",
        "print(result)\n",
        "\n",
        "print(result.group())"
      ],
      "metadata": {
        "id": "Tv_Y97q5MHrt"
      },
      "execution_count": null,
      "outputs": []
    },
    {
      "cell_type": "code",
      "source": [
        "res2 = re.fullmatch(r'Hello my dear friend Amy.\\nHello again!', text) # сравниваем текст и переменную text\n",
        "\n",
        "print(res2)\n",
        "\n",
        "print(res2.group())"
      ],
      "metadata": {
        "id": "gZ0SsV_BMR_2"
      },
      "execution_count": null,
      "outputs": []
    },
    {
      "cell_type": "code",
      "source": [
        "res3 = re.fullmatch(r'Hello my dear friend Amy.', text) # сравниваем текст и переменную text\n",
        "\n",
        "print(res3) # они не (полностью) совпадают\n",
        "\n",
        "print(res3.group())"
      ],
      "metadata": {
        "id": "KEBNjRFtMkWx"
      },
      "execution_count": null,
      "outputs": []
    },
    {
      "cell_type": "markdown",
      "source": [
        "##.search(pattern, string)\n",
        "ищет паттерн по всей длине строки\n",
        "\n",
        "Внимание! search ищет не только в начале строки, в отличие от match\n",
        "\n",
        "! ! ! Вернется первое совпадение\n",
        "\n",
        "Примеры: [разница search и match](https://docs.python.org/3/library/re.html#search-vs-match)"
      ],
      "metadata": {
        "id": "RDPd2ww2NJnP"
      }
    },
    {
      "cell_type": "code",
      "source": [
        "result = re.search(r'Hello', text)\n",
        "# print(result)\n",
        "\n",
        "print(result)\n",
        "\n",
        "print(result.group())"
      ],
      "metadata": {
        "id": "DaOLEobrMMMo"
      },
      "execution_count": null,
      "outputs": []
    },
    {
      "cell_type": "code",
      "source": [
        "# попробуйте найти второе вхождение слова Hello\n",
        "text = 'Hello my dear friend Amy.\\nHello again!'\n",
        "\n"
      ],
      "metadata": {
        "id": "tlymS4wdN5-u"
      },
      "execution_count": null,
      "outputs": []
    },
    {
      "cell_type": "markdown",
      "source": [
        "## .split(pattern, string, maxsplit=0)\n",
        "\n",
        "Похож на знакомый нам ```.split()```. Метод разделяет строку по заданному шаблону"
      ],
      "metadata": {
        "id": "5OlSaiJQOFnr"
      }
    },
    {
      "cell_type": "code",
      "source": [
        "result = re.split(r'\\s',text) # любой пробельный символ\n",
        "\n",
        "print(result)\n",
        "# обратите внимание: здесь результат можно сразу напечатать без метода .group()"
      ],
      "metadata": {
        "id": "gOuC4kfSMMHb"
      },
      "execution_count": null,
      "outputs": []
    },
    {
      "cell_type": "code",
      "source": [
        "res2 = re.split(\"\\.\\s\", text) # \\s - любой пробельный символ, включая перенос строки, табуляцию и т.д.\n",
        "\n",
        "print(res2)"
      ],
      "metadata": {
        "id": "Rc3bXj6kMMEv"
      },
      "execution_count": null,
      "outputs": []
    },
    {
      "cell_type": "code",
      "source": [
        "res3 = re.split(\"[\\.!]\\s\", text + '\\nHow are you?')\n",
        "\n",
        "print(text + '\\nHow are you?')\n",
        "\n",
        "print(res3)"
      ],
      "metadata": {
        "id": "bIdItZTUOjFT"
      },
      "execution_count": null,
      "outputs": []
    },
    {
      "cell_type": "code",
      "source": [
        "# попробуйте разделить, убрав знаки препинания\n",
        "\n"
      ],
      "metadata": {
        "id": "HO9_k_l41_Xv"
      },
      "execution_count": null,
      "outputs": []
    },
    {
      "cell_type": "markdown",
      "source": [
        "maxsplit - опциональный аргумент.\n",
        "Если его указать, то разделение будет произведено не более указанного количества раз"
      ],
      "metadata": {
        "id": "ziWG33jTS2kW"
      }
    },
    {
      "cell_type": "code",
      "source": [
        "result = re.split(r' ', text, maxsplit=4)\n",
        "\n",
        "print(result)"
      ],
      "metadata": {
        "id": "ArxookZKOjC6"
      },
      "execution_count": null,
      "outputs": []
    },
    {
      "cell_type": "markdown",
      "source": [
        "##.findall(pattern, string)"
      ],
      "metadata": {
        "id": "S7gK1rYXTFZC"
      }
    },
    {
      "cell_type": "code",
      "source": [
        "text = \"Hello my dear friend Amy.\\nHello again!\"\n",
        "result = re.findall(r'my', text)\n",
        "print(result)\n",
        "\n",
        "# вопрос: чем отличается от match и search?"
      ],
      "metadata": {
        "id": "i23EEEsUTFCv"
      },
      "execution_count": null,
      "outputs": []
    },
    {
      "cell_type": "code",
      "source": [
        "# попробуйте вернуть my, Amy\n"
      ],
      "metadata": {
        "id": "K0DzmtNiOjAT"
      },
      "execution_count": null,
      "outputs": []
    },
    {
      "cell_type": "markdown",
      "source": [
        "##Бонус для .findall\n",
        "разные примеры"
      ],
      "metadata": {
        "id": "YOIdgnuaVlAd"
      }
    },
    {
      "cell_type": "code",
      "source": [
        "import re"
      ],
      "metadata": {
        "id": "YAOfr-oJR6aG"
      },
      "execution_count": null,
      "outputs": []
    },
    {
      "cell_type": "code",
      "source": [
        "twister = \"Two toads, terribly tired, trotted along the road.\\nSaid toad number 1 12 to the toad number Two:\\n'I'm tired, and I'm carrying the load.\"\n",
        "print(re.findall(r'.+', twister))\n",
        "print(re.findall(r'\\d+', twister))\n",
        "print(re.findall(r'[0-9]+', twister))\n",
        "print(re.findall(r'[0-9]', twister))\n",
        "print(re.findall(r'\\D+', twister))\n",
        "print(re.findall(r'\\w+', twister))\n",
        "print(re.findall(r'\\W+', twister))\n",
        "print(re.findall(r'\\w', twister))\n",
        "print(re.findall(r'\\s+', twister))\n",
        "print(re.findall(r'\\S+', twister))"
      ],
      "metadata": {
        "id": "OhbY4_O3uB6Y"
      },
      "execution_count": null,
      "outputs": []
    },
    {
      "cell_type": "code",
      "source": [
        "twister = \"Two toads, terribly tired, trotted along the road.\\nSaid toad number 1 12 to the toad number Two:\\n'I'm tired, and I'm carrying the load.\"\n",
        "print(re.findall(r'[trl]oad', twister))\n",
        "print(re.findall(r'[trl]oad\\b', twister)) # не включать toads\n",
        "print(re.findall(r'[trl]oads*\\b', twister)) # включить toads\n",
        "print(re.findall(r'[A-Za-z]+', twister))"
      ],
      "metadata": {
        "id": "qWp9oqixuMF7"
      },
      "execution_count": null,
      "outputs": []
    },
    {
      "cell_type": "code",
      "source": [
        "s = 'Кошка и ёжик играют с мячом, but dog does not play with ball'\n",
        "print(re.findall(r'[A-Za-z]+', s))\n",
        "print(re.findall(r'[а-яА-ЯЁё]+', s))\n",
        "print(re.findall(r'[а-яА-ЯЁёA-Za-z]+', s))"
      ],
      "metadata": {
        "id": "G_1SV3bQxhR-"
      },
      "execution_count": null,
      "outputs": []
    },
    {
      "cell_type": "code",
      "source": [
        "# извлечь дату: день месяц год\n",
        "text = \"12 ноября 2011 года произошло удивительное событие. А 13 ноября 2012 - еще удивительнее. Даже не будем \\nговорить, что произошло 2 декабря 2011 года и 25 декабря 2012 года.\"\n",
        "print(re.findall(r'\\d+', text))\n",
        "print(re.findall(r'\\d{1,2}\\s\\w+\\s\\d{4}', text))"
      ],
      "metadata": {
        "id": "eT419DU_zCr6"
      },
      "execution_count": null,
      "outputs": []
    },
    {
      "cell_type": "code",
      "source": [
        "# найти приглагательное с основой 'удивительн'\n",
        "text = \"12 ноября 2011 года произошло удивительное событие, удивительного. А 13 ноября 2012 - еще удивительнее. Даже не будем \\nговорить, что произошло 2 декабря 2011 года и 25 декабря 2012 года.\"\n",
        "print(re.findall(r'удивительн..', text))\n",
        "print(re.findall(r'удивительн.{2,3}', text))\n",
        "print(re.findall(r'удивительн\\w+', text))"
      ],
      "metadata": {
        "id": "dX4HtuHu00WR"
      },
      "execution_count": null,
      "outputs": []
    },
    {
      "cell_type": "code",
      "source": [
        "# найти все годы\n",
        "text2 = \"По имеющимся данным, в Екатеринбургской губернии на май 1916 года было занято 50611 военнопленных,\\nиз них 34194 на фабричных и заводских работах, 5731 на «казённых», 5060 на сельскохозяйственных,\\n4145 на железнодорожных, 913 на городских и земских, 568 на прочих.\"\n",
        "print(re.findall(r'\\d{4}', text2)) # не только годы!\n",
        "print(re.findall(r'19\\d{2}', text2))\n",
        "print(re.findall(r'\\d{4} г', text2))\n",
        "print(re.findall(r'\\d{1,4}\\sг', text2))\n",
        "print(re.findall(r'(\\d{1,4})\\sг', text2)) # () - позволяют включить в список только нужную часть найденного выражения"
      ],
      "metadata": {
        "id": "ylB4YFqI3Df0"
      },
      "execution_count": null,
      "outputs": []
    },
    {
      "cell_type": "code",
      "source": [
        "# найти все пары имен\n",
        "names = \"1NoahEmma2LiamOlivia3MasonSophia4JacobIsabella5WilliamAva6EthanMia7MichaelEmily\"\n",
        "print(re.findall(r'\\d[A-Z][a-z]+[A-Z][a-z]+', names))\n",
        "print(re.findall(r'\\d([A-Z][a-z]+)([A-Z][a-z]+)', names))"
      ],
      "metadata": {
        "id": "WbwVvExq4kJO"
      },
      "execution_count": null,
      "outputs": []
    },
    {
      "cell_type": "code",
      "source": [
        "# найти #я не могу...\n",
        "tweets = \"#я не могу молчать #я не могу кричать #я не могу #я справлюсь я не могу молчать #я не могу петь #я все могу #с кем ни бывает\"\n",
        "print(re.findall(r'#я не могу \\w*', tweets))"
      ],
      "metadata": {
        "id": "J5v6fR5C6MBL"
      },
      "execution_count": null,
      "outputs": []
    },
    {
      "cell_type": "code",
      "source": [
        "# найти даты, написанные в формате дд.мм.гггг через точку\n",
        "data = '20.05.1963, 55, 12.12.2000, 17, 15/15/1111'\n",
        "print(re.findall(r'\\d+.\\d+.\\d+', data)) # . - любой символ\n",
        "print(re.findall(r'\\d+\\.\\d+\\.\\d+', data)) # \\. экранирование (обычная точка, а не любой символ)"
      ],
      "metadata": {
        "id": "Jy3jiSMm6uzW"
      },
      "execution_count": null,
      "outputs": []
    },
    {
      "cell_type": "markdown",
      "source": [
        "##.sub(pattern, repl, string)\n",
        "метод ищет шаблон в строке и заменяет его на указанную подстроку.\n",
        "\n",
        "Если шаблон не найден, строка остается неизменной."
      ],
      "metadata": {
        "id": "LtBOMiFRWDuE"
      }
    },
    {
      "cell_type": "code",
      "source": [
        "import re"
      ],
      "metadata": {
        "id": "diU4YkzgLxXE"
      },
      "execution_count": null,
      "outputs": []
    },
    {
      "cell_type": "code",
      "source": [
        "text = 'Hello my dear friend Amy. Amy smiled.'\n",
        "\n",
        "result = re.sub(r'Amy', 'Jack', text ) # что ищем, на что заменяем, где заменить (текст)\n",
        "\n",
        "print(result)"
      ],
      "metadata": {
        "id": "Bd6-ONbJWDX_"
      },
      "execution_count": null,
      "outputs": []
    },
    {
      "cell_type": "code",
      "source": [
        "res2 = re.sub(r\"Amy\", \"Alice\", text)\n",
        "\n",
        "print(res2)"
      ],
      "metadata": {
        "id": "xwhb4T77WMbZ"
      },
      "execution_count": null,
      "outputs": []
    },
    {
      "cell_type": "code",
      "source": [
        "res3 = re.sub(r\"Alice\", \"Jack\", text)\n",
        "\n",
        "print(res3)"
      ],
      "metadata": {
        "id": "A35GzXPIL6o8"
      },
      "execution_count": null,
      "outputs": []
    },
    {
      "cell_type": "code",
      "source": [
        "text = 'Hello my dear friend Jack. Jackson smiled.'\n",
        "\n",
        "# пожалуйста, сделайте так, чтобы Jackson не заменился на Bobson!)\n",
        "\n"
      ],
      "metadata": {
        "id": "tgLhvjhPMPiz"
      },
      "execution_count": null,
      "outputs": []
    },
    {
      "cell_type": "code",
      "source": [
        "# пример со встречи по компьютерной лингвистике\n",
        "\n",
        "text = 'Hello my dear friend Amy. Amy smiled.'\n",
        "res = re.sub(r'\\W', ' ', text).lower().split()\n",
        "print(res)"
      ],
      "metadata": {
        "id": "hJn1JOrQ8csT"
      },
      "execution_count": null,
      "outputs": []
    },
    {
      "cell_type": "markdown",
      "source": [
        "# Задания"
      ],
      "metadata": {
        "id": "gAyvm-G6WSfU"
      }
    },
    {
      "cell_type": "markdown",
      "source": [
        "* (re.findall) Напишите регулярное выражение, которое вытаскивало бы все адреса из текста:"
      ],
      "metadata": {
        "id": "gMi8OoV1WW8j"
      }
    },
    {
      "cell_type": "code",
      "source": [
        "text = '''Nordstrom Rack and HauteLook\n",
        "Nordstrom Rack is the off-price retail division of Nordstrom Inc., which was founded in 1901 in Seattle, Washington, by John W. Nordstrom.\n",
        "\n",
        "Nordstrom encourages contact from its customers and has supplied contact details to us.\n",
        "\n",
        "700 S. Flower Street\n",
        "Suite 1700\n",
        "Los Angeles, CA 90017\n",
        "https://www.nordstromrack.com/\n",
        "\n",
        "Phone Contacts\n",
        "Main: (206) 628-2111\n",
        "Customer Service: (888)966-6283\n",
        "International: (319) 846-4140\n",
        "\n",
        "Nordstrom Customer Service: (888)282-6060\n",
        "\n",
        "Email Contacts\n",
        "Contact@nordstrom.com\n",
        "\n",
        "Social Media Contacts\n",
        "Facebook\n",
        "Twitter\n",
        "\n",
        "Executive Contacts\n",
        "Primary Contact\n",
        "Andrew Breen\n",
        "Director Customer Care\n",
        "\n",
        "700 S. Flower Street\n",
        "Suite 1700\n",
        "Los Angeles, CA 90017\n",
        "Andrew.Breen@HauteLook.com\n",
        "\n",
        "Secondary Contact\n",
        "James F. Nordstrom\n",
        "Executive Vice President and President of Nordstrom Stores\n",
        "1600 Seventh Avenue\n",
        "Suite 2600\n",
        "Seattle, WA 98101\n",
        "Jamie.nordstrom@nordstrom.com\n",
        "\n",
        "Geevy Thomas\n",
        "President of Nordstrom Rack\n",
        "\n",
        "1600 Seventh Avenue\n",
        "Suite 2600\n",
        "Seattle, WA 98101\n",
        "Geevy.Thomas@nordstrom.com\n",
        "\n",
        "Chief Executive\n",
        "See Notes Below\n",
        "\n",
        "700 S. Flower Street\n",
        "Suite 1700\n",
        "Los Angeles, CA 90017\n",
        "\n",
        "Erik B. Nordstrom\n",
        "Co-President\n",
        "erik.nordstrom@nordstrom.com\n",
        "\n",
        "Peter E. Nordstrom\n",
        "Co-President\n",
        "Pete.Nordstrom@nordstrom.com\n",
        "'''"
      ],
      "metadata": {
        "id": "BhBj2v9o5JgI"
      },
      "execution_count": null,
      "outputs": []
    },
    {
      "cell_type": "code",
      "source": [
        "# e-mail адреса:\n",
        "# ваш код:\n",
        "\n"
      ],
      "metadata": {
        "id": "xpHm_f_m0E7o"
      },
      "execution_count": null,
      "outputs": []
    },
    {
      "cell_type": "code",
      "source": [
        "# почтовые адреса:\n"
      ],
      "metadata": {
        "id": "h_FzukvE0Esw"
      },
      "execution_count": null,
      "outputs": []
    },
    {
      "cell_type": "markdown",
      "source": [
        "* (re.sub) В тексте ниже замените все вхождения слова \"морж\" на слово \"корж\"\n",
        "\n"
      ],
      "metadata": {
        "id": "smHb-BsX5J0_"
      }
    },
    {
      "cell_type": "code",
      "source": [
        "text = '''Морж[1] (кильд. mоršа, норв. morššâ, лат. Odobenus rosmarus) — морское млекопитающее, единственный современный вид семейства моржовых клады ластоногих отряда хищных.\n",
        "Взрослый морж легко узнаваем по своим видным бивням. Морж — один из крупнейших представителей ластоногих, по размерам тела среди ластоногих уступает лишь морским слонам[2]. Ареалы этих видов не пересекаются, то есть морж является крупнейшим из ластоногих в своей среде обитания.\n",
        "Зимнее плавание в России называется «моржеванием».\n",
        "В 2008 году, по инициативе Всемирного фонда дикой природы (WWF), утверждён День моржа, который отмечается ежегодно 24 ноября.\n",
        "Морж — крупный морской зверь с очень толстой кожей. Верхние клыки чрезвычайно развиты, удлинённы и направлены вниз. Очень широкая морда усажена многочисленными толстыми, жёсткими, сплющенными щетинами-усами (вибриссами), их у моржа на верхней губе может быть от 400 до 700, расположены они в 13—18 рядов[4]. Наружных ушей нет, глаза маленькие.\n",
        "Кожа покрыта короткими прилегающими жёлто-бурыми волосами, но с возрастом их становится меньше, и у старых моржей кожа почти совершенно голая. Конечности более приспособлены для движения на суше, чем у настоящих тюленей, и моржи могут ходить, а не ползать; подошвы мозолистые. Хвост зачаточный.\n",
        "Кожа моржей очень морщинистая и толстая, до 10 см на шее и плечах самцов. Слой жира — до 15 см. Молодые моржи имеют тёмно-коричневый цвет кожи, а по мере взросления светлеют и бледнеют. Старые самцы становятся почти розовыми. Так как кровеносные сосуды кожи сужаются в холодной воде, моржи могут стать почти белого цвета во время купания. В качестве вторичных половых признаков для самцов (в естественных условиях) характерны наросты на коже шеи, груди и плеч.\n",
        "Наиболее характерной особенностью моржа являются его длинные бивни. Это удлинённые клыки, которые присутствуют у обоих полов и могут достигать в длину 1 м и весить до 5,4 кг. Бивни немного длиннее и толще у самцов, которые используют их для схваток. Самцы с крупнейшими бивнями обычно доминируют в социальной группе. Бивни также используются для формирования и поддержания отверстий во льду и помогают моржам вылезать из воды на лёд. Возможно, бивни также используются, чтобы искать еду на дне.\n",
        "Выделяют два или три подвида моржа[5]:\n",
        "Тихоокеанский морж (Odobenus rosmarus divergens Illiger, 1811),\n",
        "Атлантический морж (Odobenus rosmarus rosmarus Linnaeus, 1758)\n",
        "Часто из тихоокеанского подвида выделяют третий подвид — лаптевского моржа (Odobenus rosmarus laptevi Chapskii, 1940), но его самостоятельность многими подвергается сомнению. В Красную книгу России лаптевская популяция включена на правах отдельного подвида.\n",
        "Согласно данным МСОП[6], по результатам недавних исследований митохондриальной ДНК и изучения морфометрических данных, следует отказаться от рассмотрения лаптевского моржа как самостоятельного подвида, признав его крайней западной популяцией тихоокеанского моржа.\n",
        "По последней оценке, основанной на результатах российско-американского учёта численности, проведённого в 1990 году и повторенного в 2006 году, современная численность популяции тихоокеанского моржа составляет от 129[7] до 200 тыс. особей[8][9].\n",
        "Большая часть тихоокеанских моржей проводит лето севернее Берингова пролива, в Чукотском море вдоль северного побережья восточной Сибири, возле острова Врангеля, в море Бофорта вдоль северного побережья Аляски, а также встречается в водах между указанными местами. Небольшое число самцов встречается в летний период в Анадырском заливе, на южном побережье Чукотского полуострова, а также в Бристольском заливе. Весной и осенью они концентрируются от западного побережья Аляски до Анадырского залива. Они зимуют в южных частях Берингова моря, вдоль восточного побережья Сибири на юг к северной части полуострова Камчатка, а также вдоль южного побережья Аляски[2]. Фоссилизованные останки моржа возрастом 28 тыс. лет были найдены недалеко от залива Сан-Франциско, что показывает распространение моржа вплоть до берегов северной Калифорнии во времена последнего ледникового периода[10].\n",
        "Атлантический морж был почти истреблён в результате бесконтрольного коммерческого промысла, и численность популяции его значительно ниже. Точно оценить численность в настоящее время нелегко, но, вероятно, она не превышает 20 тыс. особей[11][12]. Эта популяция распространена от Арктической Канады, Гренландии, Шпицбергена, а также в западном регионе Российской Арктики. На основании огромного географического распространения и данных по перемещениям, предполагается наличие восьми субпопуляций атлантического моржа — пять на западе и три на востоке от Гренландии[13]. Атлантический морж раньше занимал пределы, протянувшиеся на юг до мыса Код, и в большом числе встречался в заливе Святого Лаврентия. В апреле 2006 северо-западная популяция атлантического моржа была внесена в список Канадского акта по угрожаемым видам (англ. Canadian Species at Risk Act) (Квебек, Нью-Брансуик, Новая Шотландия, Ньюфаундленд и Лабрадор) как почти исчезнувшая в Канаде[14]. В ноябре 2018 года атлантические моржи были замечены в Белом море, где они не появлялись несколько столетий[15].\n",
        "Изолированная лаптевская популяция моржа расположена в течение всего года в центральном и западном регионах Моря Лаптевых, в самом восточном регионе Карского моря, а также в самой западной части Восточно-Сибирского моря. Современная численность оценивается в 5—10 тыс. особей[16].'''"
      ],
      "metadata": {
        "id": "6uFSYXVn5R9d"
      },
      "execution_count": null,
      "outputs": []
    },
    {
      "cell_type": "code",
      "source": [
        "# ваш код\n"
      ],
      "metadata": {
        "id": "06tzuG570WtZ"
      },
      "execution_count": null,
      "outputs": []
    },
    {
      "cell_type": "markdown",
      "source": [
        "* (re.findall) Напишите регулярное выражение, которое вытаскивало бы всех авторов из списка литературы в тексте"
      ],
      "metadata": {
        "id": "B7jv7xmq5XIJ"
      }
    },
    {
      "cell_type": "code",
      "source": [
        "text = '''﻿Баркли К. Влюбляясь в мертвых [Электронный ресурс] / пер. с англ. С. Анисимовой // DOXA. 2019. URL: https://doxajournal.ru/stadis/love_with_dead (дата обращения: 25.02.2022).\n",
        "Бевернаж Б. «Прошедшесть прошлого»: некоторые размышления о политике историзации и кризисе истористского прошлого // Логос. 2021. Т. 31, № 4. С. 65–94.\n",
        "Бронников А., Зайцева О. От Локка к Лакану // Логос. 2016. Вып. 26, № 6. С. 115–126.\n",
        "Готтлиб Э. Глава 4. Локк // Мечта о Просвещении. М.: Альпина нон-фикшн, 2020. С. 174–233.\n",
        "Деар П., Шейпин С. Научная революция как событие / пер. с англ. А. Маркова. М.: Новое литературное обозрение, 2015. 576 с.\n",
        "«Культура духа» vs «Культура разума»: интеллектуалы и власть в Британии и России в XVII–XVIII веках / под ред. Л.П. Репиной. М.: Аквилон, 2022. 1079 с.\n",
        "Латур Б. Где приземлиться? Опыт политической ориентации / пер. с фр. А. Шестакова. СПб.: Изд-во Европ. ун-та в С.-Петербурге, 2019. 202 с.\n",
        "Раздъяконов В. Концепт «история вигов» в новой историографии Научной революции // Государство, религия, церковь. 2013. Вып. 31, № 1. С. 131–149.\n",
        "Селларс У. Эмпиризм и философия сознания / пер. с англ. Г.С. Рогоняна. СПб.: Изд-во Ев-роп. ун-та в С.-Петербурге, 2021. 218 с.\n",
        "Тимонин А.Н. Универсальные категории Джона Локка и американские реалии: критический очерк идейных основ колониализма и империализма // Правовое государство. Теория и практика. 2016. Вып. 44, № 2. С. 147–154.\n",
        "Харауэй Д. Оставаясь со смутой. Заводить сородичей в Хтулуцене. Пермь: Гиле Пресс, 2020. 340 с.\n",
        "Яковлев А.А. Завещание Джона Локка, приверженца мира, философа и англичанина. М.: Изд-во Ин-та Гайдара, 2013. 423 с.\n",
        "Яковлев А.А. Бритва Локка // История философии. 2015. Т. 20. С. 5–24.\n",
        "Anstey P., Burrows J. John Locke, Thomas Sydenham, and the Authorship of Two Medical Es-says // Electronic British Library Journal. 2009. Article 3. 42 p.\n",
        "Armitage D. The Ideological Origins of the British Empire. Cambridge: Cambridge University Press, 2000. 258 p.\n",
        "Armitage D. John Locke: Theorist of Empire? // Empire and Modern Political Thought / ed. by Sankar Muthu. Cambridge: Cambridge University Press, 2012. P. 84–111.\n",
        "Arneil B. 'All the World was America' John Locke and the American Indian. London: University College London, 1992. 419 p.\n",
        "Arneil B. Trade, Plantations, and Property: John Locke and the Economic Defense of Colonial-ism // Journal of the History of Ideas. 1994. Vol. 55, no. 4. P. 591–609.\n",
        "Axtell J.L. Locke, Newton and the Elements of Natural Philosophy // Paedagogica Europaea. 1965. Vol. 1. P. 235–245.\n",
        "Baker R. Medical Ethics’ Appropriation of Moral Philosophy: The Case of the Sympathetic and the Unsympathetic Physician // Kennedy Institute of Ethics Journal. 2007. Vol. 17, no. 1. P. 2–22.\n",
        "Corcoran P. John Locke on the Possession of Land: Native Title vs. the ‘Principle’ of Vacuum Domicilium // The European Legacy. 2007. Vol. 23, no. 3. P. 225−250.\n",
        "Crignon C. Galenic Heritage in Locke’s Medical Philosophy: From Locke’s Medical Remains to His Reflection on Education // Galen and the Early Moderns. 2022. URL: https://hal.archives-ouvertes.fr/hal-03382894/document (accessed: 25.02.2022).\n",
        "Daston L. Against Nature. Cambridge, MA: MIT Press, 2019. 96 p.\n",
        "Esterbay-Smith S. Cultiviting Commerce. Culture of Botany in Britain and France, 1760–1815. Cambridge: Cambridge University Press, 2018. 239 p.\n",
        "Farr J. Locke, “Some Americans”, and the Discourse on “Carolina” // Locke Studies. 2009. No. 9. P. 19–96.\n",
        "Jardine N. Whigs and stories: Herbert Butterfield and the Historiography of Science // History of Science. 2003. Vol. XLI. P. 125–140.\n",
        "Reddy W. The Navigation of Feeling: A Framework for the History of Emotions. Cambridge: Cambridge University Press, 2001. 380 р.\n",
        "Rosenwein B., Cristiani R. What is the History of Emotions? Cambridge: Polity, 2018. 163 p.\n",
        "Sanchez-Gonzales M.A. Medicine in John Locke’s Philosophy // The Journal of Medicine and Philosophy. 1990. Vol. 15, no. 6. P. 675–695.\n",
        "Shapin S., Schaffer S. Leviathan and the AirPump: Hobbes, Boyle, and the Experimental Life (with a new introduction by the authors). Princeton: Princeton University Press, 2011 (1985). 456 p.\n",
        "Short B.W. The Healing Philosopher: John Locke’s Medical Ethics // Issues in Law and Medi-cine. 2004. Vol. 20, no. 2. P. 103–154.\n",
        "Talbot A. “The Great Ocean of Knowledge”: The Influence of Travel Literature on the Work of John Locke. Boston: Brill, 2010. 348 p.\n",
        "Tuck R. The Rights of War and Peace. Oxford: Oxford University Press, 1999. 234 p.\n",
        "Tully J. Rediscovering America: the Two Treatises and Aboriginal Rights // An Approach to Po-litical Philosophy: Locke in Contexts. Cambridge: Cambridge University Press, 1993. P. 137–176.\n",
        "Tully J. Strange Multiplicity: Constitutionalism in an Age of Diversity. Cambridge and New York: Cambridge University Press, 1995. 253 p.\n",
        "Wilson Th.D. The Ashley Cooper Plan: The Founding of Carolina and the Origins of Southern Political Culture. Chapel Hill, NC: University of North Carolina Press, 2016. 304 p.\n",
        "References\n",
        "Armitage, D. (2000), The Ideological Origins of the British Empire, Cambridge University Press, Cambridge, UK, 258 p.\n",
        "Armitage, D. (2012), “John Locke: Theorist of empire?”, in Muthu, S. (ed.), Empire and Modern Political Thought, Cambridge University Press. Cambridge, UK, pp. 84–111.\n",
        "Arneil, B. (1992), “All the World was America”: John Locke and the American Indian. University College of London, London, UK, 419 p.\n",
        "Arneil, B. (1994), “Trade, Plantations, and Property: John Locke and the Economic Defense of Colonialism”, Journal of the History of Ideas, vol. 55, № 4, pp. 591–609.\n",
        "Axtell, J. L. (1965), “Locke, Newton and the Elements of Natural Philosophy”, Paedagogica Europaea, vol. 1, pp. 235–245.\n",
        "Baker, R. (2007), “Medical Ethics’ Appropriation of Moral Philosophy: The Case of the Sympathetic and the Unsympathetic Physician”, Kennedy Institute of Ethics Journal, vol. 17, № 1, pp. 2–22.\n",
        "Barclay, K. (2019), “Falling in love with the dead”, DOXA, available at: https://doxajournal.ru/stadis/love_with_dead (accessed 25.02.2022).\n",
        "Bevernage, B. (2021). “The pastness of the past: some reflections on the politics of historization and the crisis of historicist pastness”, Logos, vol. 31, № 4, pp. 65–94.\n",
        "Bronnikov, A. & O. Zaytseva (2016), “From Locke to Lacan”, Logos, vol. 26, № 6, pp. 115–126.\n",
        "Carey, D. (2013), “Locke’s Species: Money and Philosophy in the 1690s”, Annals of Science, vol. 70, № 3, pp. 357–80.\n",
        "Corcoran, P. (2007), “John Locke on the Possession of Land: Native Title vs. the ‘Principle’ of Vacuum domicil-ium”, The European Legacy, vol. 23, № 3, pp. 225–250.\n",
        "Crignon, C. (2022), “Galenic Heritage in Locke’s Medical Philosophy: From Locke’s Medical Remains to His Reflection on Education”, in Galen and the Early Moderns, available at: https://hal.archives-ouvertes.fr/hal-03382894/document (accessed 25.02. 2022).\n",
        "Daston, L. (2019), Against nature, MIT Press, Cambridge, USA, 96 p.\n",
        "Dear, P. & S. Sheypin (2015), Nauchnaya revolyutsiya kak sobytie [Revolutionizing the sciences. European knowledge and its ambitions, 1500 – 1700. The Scientific revolution], Novoe literaturnoe obozrenie, Moscow, Russia, 576 p.\n",
        "Esterbay-Smith, S. (2018), Cultivating Commerce. Culture of Botany in Britain and France, 1760–1815, Cam-bridge University Press, Cambridge, UK, 239 p.\n",
        "Farr, J. (2009), “Locke, «Some Americans», and the Discourse on «Carolina»”, Locke Studies, № 9, pp. 19–96.\n",
        "Gottlib, E. (2020), Mechta o Prosveshchenii [Dream about Enlightenment], Alpina non-fikshn, Moscow, Russia, 411 p.\n",
        "Haraway, D. (2020), Ostavayas' so smutoy. Zavodit' sorodichey v Khtulutsene [Staying with the trouble. Making kin in the chtulucene], Gile Press, Perm, Russia, 340 p.\n",
        "Jardine, N. (2003), “Whigs and stories: Herbert Butterfield and the historiography of science”, History of Sci-ence, vol. XLI, pp. 125–140.\n",
        "Kolia, Z. (2015), The Capitalocene, Coloniality and Theology: John Locke, British Colonial Expansion and World Ecology (Paper presented at the conference, World Society, Planetary Natures: Crisis and Sustainability in the Capitalocene and Beyond, Binghamton University, July 9-11, 2015), available at: https://worldecologynetwork.files.wordpress.com/2015/08/kolia-formatted.pdf (accessed 25.02.2022).\n",
        "Repina, L.P. (ed.) (2022), «Kul'tura dukha» vs «Kul'tura razuma»: intellektualy i vlast' v Britanii i Rossii v XVII – XVIII vekakh [“Culture of the spirit” vs “Culture of the reason”. Intellectuals and power in Britain and Russia in the XVII–XVII centuries], Akvilon, Moscow, Russia, 1079 p.\n",
        "Latour, B. (2019), Gde prizemlit’sya? Opyt politicheskoy orientatsii [Ou Atterir? Commen S’Orientir en Poli-tique], Izdatel’stvo Evropeyskogo universiteta, St Petersburg, Russia, 202 p.\n",
        "Locke, J. (1728), Two Treatises of Government: On the Former, The false Principles and Foundation of Sir Robert Filmer and his Followers, are Detected and Overthrown, Printed for A. Bettesworth in Pater-Woster-Row, J. Pemborton in Fleetstreet, and E. Symon in Cornhill, London, UK, 308 p.\n",
        "Locke, J. (1960), Locke's Two Treatises of Government: A Critical Edition with Introduction and Notes by Peter Laslett, Cambridge University Press, Cambridge, UK, 521 p.\n",
        "Lokk, Dzh. (1985), “An Essay Concerning Human Understanding”, in Lokk, Dzh., Sochineniya [Essays], Mysl', Moscow, USSR, vol. 2, 561 pp.\n",
        "Lokk, Dzh. (1988), “Two Treatises of Government”, in Lokk, Dzh., Sochineniya [Essays], Mysl', Moscow, USSR, vol. 3, pp. 262–405.\n",
        "Morton, T. (2022), Rod chelovecheskii. Solidarnost' s nechelovecheskim narodom [Humankind. Solidarity with Nonhuman People], Izdatel'stvo Instituta Gaidara, Moscow, Russia, 368 p.\n",
        "Plamper, J. (2018), Istoriya emotsiy [The history of emotions], Novoe literaturnoe obozrenie, Moscow, Russia, 568 p.\n",
        "Razdyakonov, V. (2013), “The concept of \"Whig History\" in new historiography of the Scientific Revolution”, Gosudarstvo, religiya, tserkov', vol. 31, № 1, pp. 131–149.\n",
        "Reddy, W. (2001), The Navigation of Feeling: A Framework for the History of Emotions, Cambridge University Press, Cambridge, UK, 380 р.\n",
        "Rosenwein, B. & R. Cristiani (2018), What is the History of Emotions?, Polity, Cambridge, UK, 163 p.\n",
        "Sanchez-Gonzales, M.A. (1990), “Medicine in John Locke’s philosophy”, The Journal of Medicine and Philos-ophy, vol. 15, № 6, pp. 675–695.\n",
        "Sellars, W. (2021), Empirizm i filosofiya soznaniya [Empirism and the philosophy of mind], Izdatel'stvo Evrop-eyskogo universiteta v Sankt-Peterburge, St. Petersburg, Russia, 218 p.\n",
        "Shapin, S. & S. Schaffer (2011), Leviathan and the AirPump: Hobbes, Boyle, and the Experimental Life (with a new introduction by the authors), Princeton, Princeton University Press, USA, 456 p.\n",
        "Short, B.W. (2004), “The healing philosopher: John Locke’s medical ethics”, Issues in Law and Medicine, vol. 20, № 2, pp. 103–154.\n",
        "Talbot, A. (2010), \"The Great Ocean of Knowledge\": The Influence of Travel Literature on the Work of John Locke, Boston, Brill, USA, 348 p.\n",
        "Timonin, A.N. (2016), “The Universal categories of John Locke and American circumstances: critical essay of colonialism and imperialism ideological bases”, Pravovoe gosudarstvo. Teoriya i praktika, vol. 44, № 2, pp. 147–154.\n",
        "Tuck, R. (1999), The Rights of War and Peace, Oxford University Press, Oxford, UK, 234 p.\n",
        "Tully, J. (1993), “Rediscovering America: the Two Treatises and aboriginal rights”, in An Approach to Political Philosophy: Locke in Contexts, Cambridge University Press, Cambridge, UK, pp. 137–176.\n",
        "Tully, J. (1995), Strange Multiplicity: Constitutionalism in an Age of Diversity, Cambridge University Press, Cambridge and New York, 253 p.\n",
        "Wilson, Th.D. (2016), The Ashley Cooper Plan: The Founding of Carolina and the Origins of Southern Politi-cal Culture, University of North Carolina Press, Chapel Hill, NC, USA, 304 p.'''"
      ],
      "metadata": {
        "id": "VF0cLbok0skp"
      },
      "execution_count": null,
      "outputs": []
    },
    {
      "cell_type": "code",
      "source": [
        "# ваш код\n"
      ],
      "metadata": {
        "id": "KdokYgdO5XcV"
      },
      "execution_count": null,
      "outputs": []
    }
  ]
}